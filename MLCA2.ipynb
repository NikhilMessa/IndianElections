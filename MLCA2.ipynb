{
  "nbformat": 4,
  "nbformat_minor": 0,
  "metadata": {
    "colab": {
      "provenance": []
    },
    "kernelspec": {
      "name": "python3",
      "display_name": "Python 3"
    },
    "language_info": {
      "name": "python"
    }
  },
  "cells": [
    {
      "cell_type": "markdown",
      "source": [
        "**Importing Libraries**"
      ],
      "metadata": {
        "id": "xxGzmTyIYdnI"
      }
    },
    {
      "cell_type": "code",
      "execution_count": 11,
      "metadata": {
        "colab": {
          "base_uri": "https://localhost:8080/",
          "height": 17
        },
        "id": "BFm0Ra5Z7SIv",
        "outputId": "855ba34f-ced0-48a7-f239-ad6183d26713"
      },
      "outputs": [
        {
          "output_type": "display_data",
          "data": {
            "text/html": [
              "        <script type=\"text/javascript\">\n",
              "        window.PlotlyConfig = {MathJaxConfig: 'local'};\n",
              "        if (window.MathJax && window.MathJax.Hub && window.MathJax.Hub.Config) {window.MathJax.Hub.Config({SVG: {font: \"STIX-Web\"}});}\n",
              "        if (typeof require !== 'undefined') {\n",
              "        require.undef(\"plotly\");\n",
              "        requirejs.config({\n",
              "            paths: {\n",
              "                'plotly': ['https://cdn.plot.ly/plotly-2.24.1.min']\n",
              "            }\n",
              "        });\n",
              "        require(['plotly'], function(Plotly) {\n",
              "            window._Plotly = Plotly;\n",
              "        });\n",
              "        }\n",
              "        </script>\n",
              "        "
            ]
          },
          "metadata": {}
        }
      ],
      "source": [
        "import numpy as np #For arrays,linear algebra/matrices\n",
        "import pandas as pd #For datasets,cleaning/exploring\n",
        "import matplotlib #For creating static interactive visulization\n",
        "import matplotlib.pyplot as plt\n",
        "import seaborn as sns #For data visulization and ML task\n",
        "import warnings #For displaying warning\n",
        "warnings.filterwarnings('ignore') #Ignore - never dislplay the warnings which match\n",
        "import geopandas as gpd\n",
        "import random\n",
        "import plotly.io as pio\n",
        "from plotly.offline import download_plotlyjs, init_notebook_mode,plot,iplot\n",
        "import plotly.offline as py\n",
        "import plotly.express as px\n",
        "import plotly.graph_objects as go\n",
        "import plotly.figure_factory as ff\n",
        "from plotly.colors import n_colors\n",
        "from plotly.subplots import make_subplots\n",
        "init_notebook_mode(connected = True)\n",
        "import os\n",
        "from sklearn.neighbors import KNeighborsClassifier\n",
        "from sklearn.model_selection import train_test_split\n",
        "%matplotlib inline"
      ]
    },
    {
      "cell_type": "markdown",
      "source": [
        "**Datasets**"
      ],
      "metadata": {
        "id": "rvJmnpSDY6RV"
      }
    },
    {
      "cell_type": "code",
      "source": [
        "df = pd.read_csv('/content/Election.csv')\n",
        "df.head()"
      ],
      "metadata": {
        "colab": {
          "base_uri": "https://localhost:8080/",
          "height": 276
        },
        "id": "0UNnBSi17pFf",
        "outputId": "d633a09e-69c2-414b-8627-d41c39b4e27f"
      },
      "execution_count": 3,
      "outputs": [
        {
          "output_type": "execute_result",
          "data": {
            "text/plain": [
              "           STATE CONSTITUENCY                   NAME  WINNER PARTY SYMBOL  \\\n",
              "0      Telangana     ADILABAD         SOYAM BAPU RAO       1   BJP  Lotus   \n",
              "1      Telangana     ADILABAD           Godam Nagesh       0   TRS    Car   \n",
              "2      Telangana     ADILABAD          RATHOD RAMESH       0   INC   Hand   \n",
              "3      Telangana     ADILABAD                   NOTA       0  NOTA    NaN   \n",
              "4  Uttar Pradesh         AGRA  Satyapal Singh Baghel       1   BJP  Lotus   \n",
              "\n",
              "  GENDER CRIMINAL   AGE CATEGORY      EDUCATION                       ASSETS  \\\n",
              "0   MALE       52  52.0       ST      12th Pass    Rs 30,99,414\\n ~ 30 Lacs+   \n",
              "1   MALE        0  54.0       ST  Post Graduate  Rs 1,84,77,888\\n ~ 1 Crore+   \n",
              "2   MALE        3  52.0       ST      12th Pass  Rs 3,64,91,000\\n ~ 3 Crore+   \n",
              "3    NaN      NaN   NaN      NaN            NaN                          NaN   \n",
              "4   MALE        5  58.0       SC      Doctorate  Rs 7,42,74,036\\n ~ 7 Crore+   \n",
              "\n",
              "                   LIABILITIES  GENERALS_VOTERS  POSTAL_VOTERS\\n  \\\n",
              "0      Rs 2,31,450\\n ~ 2 Lacs+           376892              482   \n",
              "1      Rs 8,47,000\\n ~ 8 Lacs+           318665              149   \n",
              "2  Rs 1,53,00,000\\n ~ 1 Crore+           314057              181   \n",
              "3                          NaN            13030                6   \n",
              "4    Rs 86,06,522\\n ~ 86 Lacs+           644459             2416   \n",
              "\n",
              "   TOTAL_VOTERS  OVER_TOTAL_ELECTORS_IN_CONSTITUENCY  \\\n",
              "0        377374                            25.330684   \n",
              "1        318814                            21.399929   \n",
              "2        314238                            21.092771   \n",
              "3         13036                             0.875023   \n",
              "4        646875                            33.383823   \n",
              "\n",
              "   OVER_TOTAL_VOTES_POLLED_IN_CONSTITUENCY\\n  TOTAL_ELECTORS  \n",
              "0                                  35.468248         1489790  \n",
              "1                                  29.964370         1489790  \n",
              "2                                  29.534285         1489790  \n",
              "3                                   1.225214         1489790  \n",
              "4                                  56.464615         1937690  "
            ],
            "text/html": [
              "\n",
              "  <div id=\"df-d55d4d5e-18e1-4238-9a53-d0b00a42e331\" class=\"colab-df-container\">\n",
              "    <div>\n",
              "<style scoped>\n",
              "    .dataframe tbody tr th:only-of-type {\n",
              "        vertical-align: middle;\n",
              "    }\n",
              "\n",
              "    .dataframe tbody tr th {\n",
              "        vertical-align: top;\n",
              "    }\n",
              "\n",
              "    .dataframe thead th {\n",
              "        text-align: right;\n",
              "    }\n",
              "</style>\n",
              "<table border=\"1\" class=\"dataframe\">\n",
              "  <thead>\n",
              "    <tr style=\"text-align: right;\">\n",
              "      <th></th>\n",
              "      <th>STATE</th>\n",
              "      <th>CONSTITUENCY</th>\n",
              "      <th>NAME</th>\n",
              "      <th>WINNER</th>\n",
              "      <th>PARTY</th>\n",
              "      <th>SYMBOL</th>\n",
              "      <th>GENDER</th>\n",
              "      <th>CRIMINAL</th>\n",
              "      <th>AGE</th>\n",
              "      <th>CATEGORY</th>\n",
              "      <th>EDUCATION</th>\n",
              "      <th>ASSETS</th>\n",
              "      <th>LIABILITIES</th>\n",
              "      <th>GENERALS_VOTERS</th>\n",
              "      <th>POSTAL_VOTERS\\n</th>\n",
              "      <th>TOTAL_VOTERS</th>\n",
              "      <th>OVER_TOTAL_ELECTORS_IN_CONSTITUENCY</th>\n",
              "      <th>OVER_TOTAL_VOTES_POLLED_IN_CONSTITUENCY\\n</th>\n",
              "      <th>TOTAL_ELECTORS</th>\n",
              "    </tr>\n",
              "  </thead>\n",
              "  <tbody>\n",
              "    <tr>\n",
              "      <th>0</th>\n",
              "      <td>Telangana</td>\n",
              "      <td>ADILABAD</td>\n",
              "      <td>SOYAM BAPU RAO</td>\n",
              "      <td>1</td>\n",
              "      <td>BJP</td>\n",
              "      <td>Lotus</td>\n",
              "      <td>MALE</td>\n",
              "      <td>52</td>\n",
              "      <td>52.0</td>\n",
              "      <td>ST</td>\n",
              "      <td>12th Pass</td>\n",
              "      <td>Rs 30,99,414\\n ~ 30 Lacs+</td>\n",
              "      <td>Rs 2,31,450\\n ~ 2 Lacs+</td>\n",
              "      <td>376892</td>\n",
              "      <td>482</td>\n",
              "      <td>377374</td>\n",
              "      <td>25.330684</td>\n",
              "      <td>35.468248</td>\n",
              "      <td>1489790</td>\n",
              "    </tr>\n",
              "    <tr>\n",
              "      <th>1</th>\n",
              "      <td>Telangana</td>\n",
              "      <td>ADILABAD</td>\n",
              "      <td>Godam Nagesh</td>\n",
              "      <td>0</td>\n",
              "      <td>TRS</td>\n",
              "      <td>Car</td>\n",
              "      <td>MALE</td>\n",
              "      <td>0</td>\n",
              "      <td>54.0</td>\n",
              "      <td>ST</td>\n",
              "      <td>Post Graduate</td>\n",
              "      <td>Rs 1,84,77,888\\n ~ 1 Crore+</td>\n",
              "      <td>Rs 8,47,000\\n ~ 8 Lacs+</td>\n",
              "      <td>318665</td>\n",
              "      <td>149</td>\n",
              "      <td>318814</td>\n",
              "      <td>21.399929</td>\n",
              "      <td>29.964370</td>\n",
              "      <td>1489790</td>\n",
              "    </tr>\n",
              "    <tr>\n",
              "      <th>2</th>\n",
              "      <td>Telangana</td>\n",
              "      <td>ADILABAD</td>\n",
              "      <td>RATHOD RAMESH</td>\n",
              "      <td>0</td>\n",
              "      <td>INC</td>\n",
              "      <td>Hand</td>\n",
              "      <td>MALE</td>\n",
              "      <td>3</td>\n",
              "      <td>52.0</td>\n",
              "      <td>ST</td>\n",
              "      <td>12th Pass</td>\n",
              "      <td>Rs 3,64,91,000\\n ~ 3 Crore+</td>\n",
              "      <td>Rs 1,53,00,000\\n ~ 1 Crore+</td>\n",
              "      <td>314057</td>\n",
              "      <td>181</td>\n",
              "      <td>314238</td>\n",
              "      <td>21.092771</td>\n",
              "      <td>29.534285</td>\n",
              "      <td>1489790</td>\n",
              "    </tr>\n",
              "    <tr>\n",
              "      <th>3</th>\n",
              "      <td>Telangana</td>\n",
              "      <td>ADILABAD</td>\n",
              "      <td>NOTA</td>\n",
              "      <td>0</td>\n",
              "      <td>NOTA</td>\n",
              "      <td>NaN</td>\n",
              "      <td>NaN</td>\n",
              "      <td>NaN</td>\n",
              "      <td>NaN</td>\n",
              "      <td>NaN</td>\n",
              "      <td>NaN</td>\n",
              "      <td>NaN</td>\n",
              "      <td>NaN</td>\n",
              "      <td>13030</td>\n",
              "      <td>6</td>\n",
              "      <td>13036</td>\n",
              "      <td>0.875023</td>\n",
              "      <td>1.225214</td>\n",
              "      <td>1489790</td>\n",
              "    </tr>\n",
              "    <tr>\n",
              "      <th>4</th>\n",
              "      <td>Uttar Pradesh</td>\n",
              "      <td>AGRA</td>\n",
              "      <td>Satyapal Singh Baghel</td>\n",
              "      <td>1</td>\n",
              "      <td>BJP</td>\n",
              "      <td>Lotus</td>\n",
              "      <td>MALE</td>\n",
              "      <td>5</td>\n",
              "      <td>58.0</td>\n",
              "      <td>SC</td>\n",
              "      <td>Doctorate</td>\n",
              "      <td>Rs 7,42,74,036\\n ~ 7 Crore+</td>\n",
              "      <td>Rs 86,06,522\\n ~ 86 Lacs+</td>\n",
              "      <td>644459</td>\n",
              "      <td>2416</td>\n",
              "      <td>646875</td>\n",
              "      <td>33.383823</td>\n",
              "      <td>56.464615</td>\n",
              "      <td>1937690</td>\n",
              "    </tr>\n",
              "  </tbody>\n",
              "</table>\n",
              "</div>\n",
              "    <div class=\"colab-df-buttons\">\n",
              "\n",
              "  <div class=\"colab-df-container\">\n",
              "    <button class=\"colab-df-convert\" onclick=\"convertToInteractive('df-d55d4d5e-18e1-4238-9a53-d0b00a42e331')\"\n",
              "            title=\"Convert this dataframe to an interactive table.\"\n",
              "            style=\"display:none;\">\n",
              "\n",
              "  <svg xmlns=\"http://www.w3.org/2000/svg\" height=\"24px\" viewBox=\"0 -960 960 960\">\n",
              "    <path d=\"M120-120v-720h720v720H120Zm60-500h600v-160H180v160Zm220 220h160v-160H400v160Zm0 220h160v-160H400v160ZM180-400h160v-160H180v160Zm440 0h160v-160H620v160ZM180-180h160v-160H180v160Zm440 0h160v-160H620v160Z\"/>\n",
              "  </svg>\n",
              "    </button>\n",
              "\n",
              "  <style>\n",
              "    .colab-df-container {\n",
              "      display:flex;\n",
              "      gap: 12px;\n",
              "    }\n",
              "\n",
              "    .colab-df-convert {\n",
              "      background-color: #E8F0FE;\n",
              "      border: none;\n",
              "      border-radius: 50%;\n",
              "      cursor: pointer;\n",
              "      display: none;\n",
              "      fill: #1967D2;\n",
              "      height: 32px;\n",
              "      padding: 0 0 0 0;\n",
              "      width: 32px;\n",
              "    }\n",
              "\n",
              "    .colab-df-convert:hover {\n",
              "      background-color: #E2EBFA;\n",
              "      box-shadow: 0px 1px 2px rgba(60, 64, 67, 0.3), 0px 1px 3px 1px rgba(60, 64, 67, 0.15);\n",
              "      fill: #174EA6;\n",
              "    }\n",
              "\n",
              "    .colab-df-buttons div {\n",
              "      margin-bottom: 4px;\n",
              "    }\n",
              "\n",
              "    [theme=dark] .colab-df-convert {\n",
              "      background-color: #3B4455;\n",
              "      fill: #D2E3FC;\n",
              "    }\n",
              "\n",
              "    [theme=dark] .colab-df-convert:hover {\n",
              "      background-color: #434B5C;\n",
              "      box-shadow: 0px 1px 3px 1px rgba(0, 0, 0, 0.15);\n",
              "      filter: drop-shadow(0px 1px 2px rgba(0, 0, 0, 0.3));\n",
              "      fill: #FFFFFF;\n",
              "    }\n",
              "  </style>\n",
              "\n",
              "    <script>\n",
              "      const buttonEl =\n",
              "        document.querySelector('#df-d55d4d5e-18e1-4238-9a53-d0b00a42e331 button.colab-df-convert');\n",
              "      buttonEl.style.display =\n",
              "        google.colab.kernel.accessAllowed ? 'block' : 'none';\n",
              "\n",
              "      async function convertToInteractive(key) {\n",
              "        const element = document.querySelector('#df-d55d4d5e-18e1-4238-9a53-d0b00a42e331');\n",
              "        const dataTable =\n",
              "          await google.colab.kernel.invokeFunction('convertToInteractive',\n",
              "                                                    [key], {});\n",
              "        if (!dataTable) return;\n",
              "\n",
              "        const docLinkHtml = 'Like what you see? Visit the ' +\n",
              "          '<a target=\"_blank\" href=https://colab.research.google.com/notebooks/data_table.ipynb>data table notebook</a>'\n",
              "          + ' to learn more about interactive tables.';\n",
              "        element.innerHTML = '';\n",
              "        dataTable['output_type'] = 'display_data';\n",
              "        await google.colab.output.renderOutput(dataTable, element);\n",
              "        const docLink = document.createElement('div');\n",
              "        docLink.innerHTML = docLinkHtml;\n",
              "        element.appendChild(docLink);\n",
              "      }\n",
              "    </script>\n",
              "  </div>\n",
              "\n",
              "\n",
              "<div id=\"df-47336043-39dd-49db-8d82-46d37c770e03\">\n",
              "  <button class=\"colab-df-quickchart\" onclick=\"quickchart('df-47336043-39dd-49db-8d82-46d37c770e03')\"\n",
              "            title=\"Suggest charts\"\n",
              "            style=\"display:none;\">\n",
              "\n",
              "<svg xmlns=\"http://www.w3.org/2000/svg\" height=\"24px\"viewBox=\"0 0 24 24\"\n",
              "     width=\"24px\">\n",
              "    <g>\n",
              "        <path d=\"M19 3H5c-1.1 0-2 .9-2 2v14c0 1.1.9 2 2 2h14c1.1 0 2-.9 2-2V5c0-1.1-.9-2-2-2zM9 17H7v-7h2v7zm4 0h-2V7h2v10zm4 0h-2v-4h2v4z\"/>\n",
              "    </g>\n",
              "</svg>\n",
              "  </button>\n",
              "\n",
              "<style>\n",
              "  .colab-df-quickchart {\n",
              "      --bg-color: #E8F0FE;\n",
              "      --fill-color: #1967D2;\n",
              "      --hover-bg-color: #E2EBFA;\n",
              "      --hover-fill-color: #174EA6;\n",
              "      --disabled-fill-color: #AAA;\n",
              "      --disabled-bg-color: #DDD;\n",
              "  }\n",
              "\n",
              "  [theme=dark] .colab-df-quickchart {\n",
              "      --bg-color: #3B4455;\n",
              "      --fill-color: #D2E3FC;\n",
              "      --hover-bg-color: #434B5C;\n",
              "      --hover-fill-color: #FFFFFF;\n",
              "      --disabled-bg-color: #3B4455;\n",
              "      --disabled-fill-color: #666;\n",
              "  }\n",
              "\n",
              "  .colab-df-quickchart {\n",
              "    background-color: var(--bg-color);\n",
              "    border: none;\n",
              "    border-radius: 50%;\n",
              "    cursor: pointer;\n",
              "    display: none;\n",
              "    fill: var(--fill-color);\n",
              "    height: 32px;\n",
              "    padding: 0;\n",
              "    width: 32px;\n",
              "  }\n",
              "\n",
              "  .colab-df-quickchart:hover {\n",
              "    background-color: var(--hover-bg-color);\n",
              "    box-shadow: 0 1px 2px rgba(60, 64, 67, 0.3), 0 1px 3px 1px rgba(60, 64, 67, 0.15);\n",
              "    fill: var(--button-hover-fill-color);\n",
              "  }\n",
              "\n",
              "  .colab-df-quickchart-complete:disabled,\n",
              "  .colab-df-quickchart-complete:disabled:hover {\n",
              "    background-color: var(--disabled-bg-color);\n",
              "    fill: var(--disabled-fill-color);\n",
              "    box-shadow: none;\n",
              "  }\n",
              "\n",
              "  .colab-df-spinner {\n",
              "    border: 2px solid var(--fill-color);\n",
              "    border-color: transparent;\n",
              "    border-bottom-color: var(--fill-color);\n",
              "    animation:\n",
              "      spin 1s steps(1) infinite;\n",
              "  }\n",
              "\n",
              "  @keyframes spin {\n",
              "    0% {\n",
              "      border-color: transparent;\n",
              "      border-bottom-color: var(--fill-color);\n",
              "      border-left-color: var(--fill-color);\n",
              "    }\n",
              "    20% {\n",
              "      border-color: transparent;\n",
              "      border-left-color: var(--fill-color);\n",
              "      border-top-color: var(--fill-color);\n",
              "    }\n",
              "    30% {\n",
              "      border-color: transparent;\n",
              "      border-left-color: var(--fill-color);\n",
              "      border-top-color: var(--fill-color);\n",
              "      border-right-color: var(--fill-color);\n",
              "    }\n",
              "    40% {\n",
              "      border-color: transparent;\n",
              "      border-right-color: var(--fill-color);\n",
              "      border-top-color: var(--fill-color);\n",
              "    }\n",
              "    60% {\n",
              "      border-color: transparent;\n",
              "      border-right-color: var(--fill-color);\n",
              "    }\n",
              "    80% {\n",
              "      border-color: transparent;\n",
              "      border-right-color: var(--fill-color);\n",
              "      border-bottom-color: var(--fill-color);\n",
              "    }\n",
              "    90% {\n",
              "      border-color: transparent;\n",
              "      border-bottom-color: var(--fill-color);\n",
              "    }\n",
              "  }\n",
              "</style>\n",
              "\n",
              "  <script>\n",
              "    async function quickchart(key) {\n",
              "      const quickchartButtonEl =\n",
              "        document.querySelector('#' + key + ' button');\n",
              "      quickchartButtonEl.disabled = true;  // To prevent multiple clicks.\n",
              "      quickchartButtonEl.classList.add('colab-df-spinner');\n",
              "      try {\n",
              "        const charts = await google.colab.kernel.invokeFunction(\n",
              "            'suggestCharts', [key], {});\n",
              "      } catch (error) {\n",
              "        console.error('Error during call to suggestCharts:', error);\n",
              "      }\n",
              "      quickchartButtonEl.classList.remove('colab-df-spinner');\n",
              "      quickchartButtonEl.classList.add('colab-df-quickchart-complete');\n",
              "    }\n",
              "    (() => {\n",
              "      let quickchartButtonEl =\n",
              "        document.querySelector('#df-47336043-39dd-49db-8d82-46d37c770e03 button');\n",
              "      quickchartButtonEl.style.display =\n",
              "        google.colab.kernel.accessAllowed ? 'block' : 'none';\n",
              "    })();\n",
              "  </script>\n",
              "</div>\n",
              "\n",
              "    </div>\n",
              "  </div>\n"
            ]
          },
          "metadata": {},
          "execution_count": 3
        }
      ]
    },
    {
      "cell_type": "code",
      "source": [
        "df.rename(columns={'POSTAL_VOTERS\\n': 'POSTAL_VOTERS'}, inplace=True)\n"
      ],
      "metadata": {
        "id": "szJm-aAg9L2n"
      },
      "execution_count": 4,
      "outputs": []
    },
    {
      "cell_type": "code",
      "source": [
        "df.head()"
      ],
      "metadata": {
        "colab": {
          "base_uri": "https://localhost:8080/",
          "height": 276
        },
        "id": "BVZpR5Qq9RBW",
        "outputId": "2bec0dc4-5c46-4fb0-e081-321ec93a3c1d"
      },
      "execution_count": 5,
      "outputs": [
        {
          "output_type": "execute_result",
          "data": {
            "text/plain": [
              "           STATE CONSTITUENCY                   NAME  WINNER PARTY SYMBOL  \\\n",
              "0      Telangana     ADILABAD         SOYAM BAPU RAO       1   BJP  Lotus   \n",
              "1      Telangana     ADILABAD           Godam Nagesh       0   TRS    Car   \n",
              "2      Telangana     ADILABAD          RATHOD RAMESH       0   INC   Hand   \n",
              "3      Telangana     ADILABAD                   NOTA       0  NOTA    NaN   \n",
              "4  Uttar Pradesh         AGRA  Satyapal Singh Baghel       1   BJP  Lotus   \n",
              "\n",
              "  GENDER CRIMINAL   AGE CATEGORY      EDUCATION                       ASSETS  \\\n",
              "0   MALE       52  52.0       ST      12th Pass    Rs 30,99,414\\n ~ 30 Lacs+   \n",
              "1   MALE        0  54.0       ST  Post Graduate  Rs 1,84,77,888\\n ~ 1 Crore+   \n",
              "2   MALE        3  52.0       ST      12th Pass  Rs 3,64,91,000\\n ~ 3 Crore+   \n",
              "3    NaN      NaN   NaN      NaN            NaN                          NaN   \n",
              "4   MALE        5  58.0       SC      Doctorate  Rs 7,42,74,036\\n ~ 7 Crore+   \n",
              "\n",
              "                   LIABILITIES  GENERALS_VOTERS  POSTAL_VOTERS  TOTAL_VOTERS  \\\n",
              "0      Rs 2,31,450\\n ~ 2 Lacs+           376892            482        377374   \n",
              "1      Rs 8,47,000\\n ~ 8 Lacs+           318665            149        318814   \n",
              "2  Rs 1,53,00,000\\n ~ 1 Crore+           314057            181        314238   \n",
              "3                          NaN            13030              6         13036   \n",
              "4    Rs 86,06,522\\n ~ 86 Lacs+           644459           2416        646875   \n",
              "\n",
              "   OVER_TOTAL_ELECTORS_IN_CONSTITUENCY  \\\n",
              "0                            25.330684   \n",
              "1                            21.399929   \n",
              "2                            21.092771   \n",
              "3                             0.875023   \n",
              "4                            33.383823   \n",
              "\n",
              "   OVER_TOTAL_VOTES_POLLED_IN_CONSTITUENCY\\n  TOTAL_ELECTORS  \n",
              "0                                  35.468248         1489790  \n",
              "1                                  29.964370         1489790  \n",
              "2                                  29.534285         1489790  \n",
              "3                                   1.225214         1489790  \n",
              "4                                  56.464615         1937690  "
            ],
            "text/html": [
              "\n",
              "  <div id=\"df-5be34a61-efc0-4e3d-bc15-e1779dc5ee6b\" class=\"colab-df-container\">\n",
              "    <div>\n",
              "<style scoped>\n",
              "    .dataframe tbody tr th:only-of-type {\n",
              "        vertical-align: middle;\n",
              "    }\n",
              "\n",
              "    .dataframe tbody tr th {\n",
              "        vertical-align: top;\n",
              "    }\n",
              "\n",
              "    .dataframe thead th {\n",
              "        text-align: right;\n",
              "    }\n",
              "</style>\n",
              "<table border=\"1\" class=\"dataframe\">\n",
              "  <thead>\n",
              "    <tr style=\"text-align: right;\">\n",
              "      <th></th>\n",
              "      <th>STATE</th>\n",
              "      <th>CONSTITUENCY</th>\n",
              "      <th>NAME</th>\n",
              "      <th>WINNER</th>\n",
              "      <th>PARTY</th>\n",
              "      <th>SYMBOL</th>\n",
              "      <th>GENDER</th>\n",
              "      <th>CRIMINAL</th>\n",
              "      <th>AGE</th>\n",
              "      <th>CATEGORY</th>\n",
              "      <th>EDUCATION</th>\n",
              "      <th>ASSETS</th>\n",
              "      <th>LIABILITIES</th>\n",
              "      <th>GENERALS_VOTERS</th>\n",
              "      <th>POSTAL_VOTERS</th>\n",
              "      <th>TOTAL_VOTERS</th>\n",
              "      <th>OVER_TOTAL_ELECTORS_IN_CONSTITUENCY</th>\n",
              "      <th>OVER_TOTAL_VOTES_POLLED_IN_CONSTITUENCY\\n</th>\n",
              "      <th>TOTAL_ELECTORS</th>\n",
              "    </tr>\n",
              "  </thead>\n",
              "  <tbody>\n",
              "    <tr>\n",
              "      <th>0</th>\n",
              "      <td>Telangana</td>\n",
              "      <td>ADILABAD</td>\n",
              "      <td>SOYAM BAPU RAO</td>\n",
              "      <td>1</td>\n",
              "      <td>BJP</td>\n",
              "      <td>Lotus</td>\n",
              "      <td>MALE</td>\n",
              "      <td>52</td>\n",
              "      <td>52.0</td>\n",
              "      <td>ST</td>\n",
              "      <td>12th Pass</td>\n",
              "      <td>Rs 30,99,414\\n ~ 30 Lacs+</td>\n",
              "      <td>Rs 2,31,450\\n ~ 2 Lacs+</td>\n",
              "      <td>376892</td>\n",
              "      <td>482</td>\n",
              "      <td>377374</td>\n",
              "      <td>25.330684</td>\n",
              "      <td>35.468248</td>\n",
              "      <td>1489790</td>\n",
              "    </tr>\n",
              "    <tr>\n",
              "      <th>1</th>\n",
              "      <td>Telangana</td>\n",
              "      <td>ADILABAD</td>\n",
              "      <td>Godam Nagesh</td>\n",
              "      <td>0</td>\n",
              "      <td>TRS</td>\n",
              "      <td>Car</td>\n",
              "      <td>MALE</td>\n",
              "      <td>0</td>\n",
              "      <td>54.0</td>\n",
              "      <td>ST</td>\n",
              "      <td>Post Graduate</td>\n",
              "      <td>Rs 1,84,77,888\\n ~ 1 Crore+</td>\n",
              "      <td>Rs 8,47,000\\n ~ 8 Lacs+</td>\n",
              "      <td>318665</td>\n",
              "      <td>149</td>\n",
              "      <td>318814</td>\n",
              "      <td>21.399929</td>\n",
              "      <td>29.964370</td>\n",
              "      <td>1489790</td>\n",
              "    </tr>\n",
              "    <tr>\n",
              "      <th>2</th>\n",
              "      <td>Telangana</td>\n",
              "      <td>ADILABAD</td>\n",
              "      <td>RATHOD RAMESH</td>\n",
              "      <td>0</td>\n",
              "      <td>INC</td>\n",
              "      <td>Hand</td>\n",
              "      <td>MALE</td>\n",
              "      <td>3</td>\n",
              "      <td>52.0</td>\n",
              "      <td>ST</td>\n",
              "      <td>12th Pass</td>\n",
              "      <td>Rs 3,64,91,000\\n ~ 3 Crore+</td>\n",
              "      <td>Rs 1,53,00,000\\n ~ 1 Crore+</td>\n",
              "      <td>314057</td>\n",
              "      <td>181</td>\n",
              "      <td>314238</td>\n",
              "      <td>21.092771</td>\n",
              "      <td>29.534285</td>\n",
              "      <td>1489790</td>\n",
              "    </tr>\n",
              "    <tr>\n",
              "      <th>3</th>\n",
              "      <td>Telangana</td>\n",
              "      <td>ADILABAD</td>\n",
              "      <td>NOTA</td>\n",
              "      <td>0</td>\n",
              "      <td>NOTA</td>\n",
              "      <td>NaN</td>\n",
              "      <td>NaN</td>\n",
              "      <td>NaN</td>\n",
              "      <td>NaN</td>\n",
              "      <td>NaN</td>\n",
              "      <td>NaN</td>\n",
              "      <td>NaN</td>\n",
              "      <td>NaN</td>\n",
              "      <td>13030</td>\n",
              "      <td>6</td>\n",
              "      <td>13036</td>\n",
              "      <td>0.875023</td>\n",
              "      <td>1.225214</td>\n",
              "      <td>1489790</td>\n",
              "    </tr>\n",
              "    <tr>\n",
              "      <th>4</th>\n",
              "      <td>Uttar Pradesh</td>\n",
              "      <td>AGRA</td>\n",
              "      <td>Satyapal Singh Baghel</td>\n",
              "      <td>1</td>\n",
              "      <td>BJP</td>\n",
              "      <td>Lotus</td>\n",
              "      <td>MALE</td>\n",
              "      <td>5</td>\n",
              "      <td>58.0</td>\n",
              "      <td>SC</td>\n",
              "      <td>Doctorate</td>\n",
              "      <td>Rs 7,42,74,036\\n ~ 7 Crore+</td>\n",
              "      <td>Rs 86,06,522\\n ~ 86 Lacs+</td>\n",
              "      <td>644459</td>\n",
              "      <td>2416</td>\n",
              "      <td>646875</td>\n",
              "      <td>33.383823</td>\n",
              "      <td>56.464615</td>\n",
              "      <td>1937690</td>\n",
              "    </tr>\n",
              "  </tbody>\n",
              "</table>\n",
              "</div>\n",
              "    <div class=\"colab-df-buttons\">\n",
              "\n",
              "  <div class=\"colab-df-container\">\n",
              "    <button class=\"colab-df-convert\" onclick=\"convertToInteractive('df-5be34a61-efc0-4e3d-bc15-e1779dc5ee6b')\"\n",
              "            title=\"Convert this dataframe to an interactive table.\"\n",
              "            style=\"display:none;\">\n",
              "\n",
              "  <svg xmlns=\"http://www.w3.org/2000/svg\" height=\"24px\" viewBox=\"0 -960 960 960\">\n",
              "    <path d=\"M120-120v-720h720v720H120Zm60-500h600v-160H180v160Zm220 220h160v-160H400v160Zm0 220h160v-160H400v160ZM180-400h160v-160H180v160Zm440 0h160v-160H620v160ZM180-180h160v-160H180v160Zm440 0h160v-160H620v160Z\"/>\n",
              "  </svg>\n",
              "    </button>\n",
              "\n",
              "  <style>\n",
              "    .colab-df-container {\n",
              "      display:flex;\n",
              "      gap: 12px;\n",
              "    }\n",
              "\n",
              "    .colab-df-convert {\n",
              "      background-color: #E8F0FE;\n",
              "      border: none;\n",
              "      border-radius: 50%;\n",
              "      cursor: pointer;\n",
              "      display: none;\n",
              "      fill: #1967D2;\n",
              "      height: 32px;\n",
              "      padding: 0 0 0 0;\n",
              "      width: 32px;\n",
              "    }\n",
              "\n",
              "    .colab-df-convert:hover {\n",
              "      background-color: #E2EBFA;\n",
              "      box-shadow: 0px 1px 2px rgba(60, 64, 67, 0.3), 0px 1px 3px 1px rgba(60, 64, 67, 0.15);\n",
              "      fill: #174EA6;\n",
              "    }\n",
              "\n",
              "    .colab-df-buttons div {\n",
              "      margin-bottom: 4px;\n",
              "    }\n",
              "\n",
              "    [theme=dark] .colab-df-convert {\n",
              "      background-color: #3B4455;\n",
              "      fill: #D2E3FC;\n",
              "    }\n",
              "\n",
              "    [theme=dark] .colab-df-convert:hover {\n",
              "      background-color: #434B5C;\n",
              "      box-shadow: 0px 1px 3px 1px rgba(0, 0, 0, 0.15);\n",
              "      filter: drop-shadow(0px 1px 2px rgba(0, 0, 0, 0.3));\n",
              "      fill: #FFFFFF;\n",
              "    }\n",
              "  </style>\n",
              "\n",
              "    <script>\n",
              "      const buttonEl =\n",
              "        document.querySelector('#df-5be34a61-efc0-4e3d-bc15-e1779dc5ee6b button.colab-df-convert');\n",
              "      buttonEl.style.display =\n",
              "        google.colab.kernel.accessAllowed ? 'block' : 'none';\n",
              "\n",
              "      async function convertToInteractive(key) {\n",
              "        const element = document.querySelector('#df-5be34a61-efc0-4e3d-bc15-e1779dc5ee6b');\n",
              "        const dataTable =\n",
              "          await google.colab.kernel.invokeFunction('convertToInteractive',\n",
              "                                                    [key], {});\n",
              "        if (!dataTable) return;\n",
              "\n",
              "        const docLinkHtml = 'Like what you see? Visit the ' +\n",
              "          '<a target=\"_blank\" href=https://colab.research.google.com/notebooks/data_table.ipynb>data table notebook</a>'\n",
              "          + ' to learn more about interactive tables.';\n",
              "        element.innerHTML = '';\n",
              "        dataTable['output_type'] = 'display_data';\n",
              "        await google.colab.output.renderOutput(dataTable, element);\n",
              "        const docLink = document.createElement('div');\n",
              "        docLink.innerHTML = docLinkHtml;\n",
              "        element.appendChild(docLink);\n",
              "      }\n",
              "    </script>\n",
              "  </div>\n",
              "\n",
              "\n",
              "<div id=\"df-28cf4813-70db-423e-9c99-a77058e7c64c\">\n",
              "  <button class=\"colab-df-quickchart\" onclick=\"quickchart('df-28cf4813-70db-423e-9c99-a77058e7c64c')\"\n",
              "            title=\"Suggest charts\"\n",
              "            style=\"display:none;\">\n",
              "\n",
              "<svg xmlns=\"http://www.w3.org/2000/svg\" height=\"24px\"viewBox=\"0 0 24 24\"\n",
              "     width=\"24px\">\n",
              "    <g>\n",
              "        <path d=\"M19 3H5c-1.1 0-2 .9-2 2v14c0 1.1.9 2 2 2h14c1.1 0 2-.9 2-2V5c0-1.1-.9-2-2-2zM9 17H7v-7h2v7zm4 0h-2V7h2v10zm4 0h-2v-4h2v4z\"/>\n",
              "    </g>\n",
              "</svg>\n",
              "  </button>\n",
              "\n",
              "<style>\n",
              "  .colab-df-quickchart {\n",
              "      --bg-color: #E8F0FE;\n",
              "      --fill-color: #1967D2;\n",
              "      --hover-bg-color: #E2EBFA;\n",
              "      --hover-fill-color: #174EA6;\n",
              "      --disabled-fill-color: #AAA;\n",
              "      --disabled-bg-color: #DDD;\n",
              "  }\n",
              "\n",
              "  [theme=dark] .colab-df-quickchart {\n",
              "      --bg-color: #3B4455;\n",
              "      --fill-color: #D2E3FC;\n",
              "      --hover-bg-color: #434B5C;\n",
              "      --hover-fill-color: #FFFFFF;\n",
              "      --disabled-bg-color: #3B4455;\n",
              "      --disabled-fill-color: #666;\n",
              "  }\n",
              "\n",
              "  .colab-df-quickchart {\n",
              "    background-color: var(--bg-color);\n",
              "    border: none;\n",
              "    border-radius: 50%;\n",
              "    cursor: pointer;\n",
              "    display: none;\n",
              "    fill: var(--fill-color);\n",
              "    height: 32px;\n",
              "    padding: 0;\n",
              "    width: 32px;\n",
              "  }\n",
              "\n",
              "  .colab-df-quickchart:hover {\n",
              "    background-color: var(--hover-bg-color);\n",
              "    box-shadow: 0 1px 2px rgba(60, 64, 67, 0.3), 0 1px 3px 1px rgba(60, 64, 67, 0.15);\n",
              "    fill: var(--button-hover-fill-color);\n",
              "  }\n",
              "\n",
              "  .colab-df-quickchart-complete:disabled,\n",
              "  .colab-df-quickchart-complete:disabled:hover {\n",
              "    background-color: var(--disabled-bg-color);\n",
              "    fill: var(--disabled-fill-color);\n",
              "    box-shadow: none;\n",
              "  }\n",
              "\n",
              "  .colab-df-spinner {\n",
              "    border: 2px solid var(--fill-color);\n",
              "    border-color: transparent;\n",
              "    border-bottom-color: var(--fill-color);\n",
              "    animation:\n",
              "      spin 1s steps(1) infinite;\n",
              "  }\n",
              "\n",
              "  @keyframes spin {\n",
              "    0% {\n",
              "      border-color: transparent;\n",
              "      border-bottom-color: var(--fill-color);\n",
              "      border-left-color: var(--fill-color);\n",
              "    }\n",
              "    20% {\n",
              "      border-color: transparent;\n",
              "      border-left-color: var(--fill-color);\n",
              "      border-top-color: var(--fill-color);\n",
              "    }\n",
              "    30% {\n",
              "      border-color: transparent;\n",
              "      border-left-color: var(--fill-color);\n",
              "      border-top-color: var(--fill-color);\n",
              "      border-right-color: var(--fill-color);\n",
              "    }\n",
              "    40% {\n",
              "      border-color: transparent;\n",
              "      border-right-color: var(--fill-color);\n",
              "      border-top-color: var(--fill-color);\n",
              "    }\n",
              "    60% {\n",
              "      border-color: transparent;\n",
              "      border-right-color: var(--fill-color);\n",
              "    }\n",
              "    80% {\n",
              "      border-color: transparent;\n",
              "      border-right-color: var(--fill-color);\n",
              "      border-bottom-color: var(--fill-color);\n",
              "    }\n",
              "    90% {\n",
              "      border-color: transparent;\n",
              "      border-bottom-color: var(--fill-color);\n",
              "    }\n",
              "  }\n",
              "</style>\n",
              "\n",
              "  <script>\n",
              "    async function quickchart(key) {\n",
              "      const quickchartButtonEl =\n",
              "        document.querySelector('#' + key + ' button');\n",
              "      quickchartButtonEl.disabled = true;  // To prevent multiple clicks.\n",
              "      quickchartButtonEl.classList.add('colab-df-spinner');\n",
              "      try {\n",
              "        const charts = await google.colab.kernel.invokeFunction(\n",
              "            'suggestCharts', [key], {});\n",
              "      } catch (error) {\n",
              "        console.error('Error during call to suggestCharts:', error);\n",
              "      }\n",
              "      quickchartButtonEl.classList.remove('colab-df-spinner');\n",
              "      quickchartButtonEl.classList.add('colab-df-quickchart-complete');\n",
              "    }\n",
              "    (() => {\n",
              "      let quickchartButtonEl =\n",
              "        document.querySelector('#df-28cf4813-70db-423e-9c99-a77058e7c64c button');\n",
              "      quickchartButtonEl.style.display =\n",
              "        google.colab.kernel.accessAllowed ? 'block' : 'none';\n",
              "    })();\n",
              "  </script>\n",
              "</div>\n",
              "\n",
              "    </div>\n",
              "  </div>\n"
            ]
          },
          "metadata": {},
          "execution_count": 5
        }
      ]
    },
    {
      "cell_type": "code",
      "source": [
        "df.info()"
      ],
      "metadata": {
        "colab": {
          "base_uri": "https://localhost:8080/"
        },
        "id": "i2mW5Iy99Vi-",
        "outputId": "47d96766-f5a4-4cfa-96cf-829efdfa7f56"
      },
      "execution_count": 6,
      "outputs": [
        {
          "output_type": "stream",
          "name": "stdout",
          "text": [
            "<class 'pandas.core.frame.DataFrame'>\n",
            "RangeIndex: 2263 entries, 0 to 2262\n",
            "Data columns (total 19 columns):\n",
            " #   Column                                    Non-Null Count  Dtype  \n",
            "---  ------                                    --------------  -----  \n",
            " 0   STATE                                     2263 non-null   object \n",
            " 1   CONSTITUENCY                              2263 non-null   object \n",
            " 2   NAME                                      2263 non-null   object \n",
            " 3   WINNER                                    2263 non-null   int64  \n",
            " 4   PARTY                                     2263 non-null   object \n",
            " 5   SYMBOL                                    2018 non-null   object \n",
            " 6   GENDER                                    2018 non-null   object \n",
            " 7   CRIMINAL                                  2018 non-null   object \n",
            " 8   AGE                                       2018 non-null   float64\n",
            " 9   CATEGORY                                  2018 non-null   object \n",
            " 10  EDUCATION                                 2018 non-null   object \n",
            " 11  ASSETS                                    2018 non-null   object \n",
            " 12  LIABILITIES                               2018 non-null   object \n",
            " 13  GENERALS_VOTERS                           2263 non-null   int64  \n",
            " 14  POSTAL_VOTERS                             2263 non-null   int64  \n",
            " 15  TOTAL_VOTERS                              2263 non-null   int64  \n",
            " 16  OVER_TOTAL_ELECTORS_IN_CONSTITUENCY       2263 non-null   float64\n",
            " 17  OVER_TOTAL_VOTES_POLLED_IN_CONSTITUENCY\n",
            "  2263 non-null   float64\n",
            " 18  TOTAL_ELECTORS                            2263 non-null   int64  \n",
            "dtypes: float64(3), int64(5), object(11)\n",
            "memory usage: 336.0+ KB\n"
          ]
        }
      ]
    },
    {
      "cell_type": "code",
      "source": [
        "df.shape"
      ],
      "metadata": {
        "colab": {
          "base_uri": "https://localhost:8080/"
        },
        "id": "DZbaHA_x9YNG",
        "outputId": "d0d30c1b-7d9e-4651-fbfa-baee2b7755f6"
      },
      "execution_count": 7,
      "outputs": [
        {
          "output_type": "execute_result",
          "data": {
            "text/plain": [
              "(2263, 19)"
            ]
          },
          "metadata": {},
          "execution_count": 7
        }
      ]
    },
    {
      "cell_type": "code",
      "source": [
        "df['AGE'].describe()"
      ],
      "metadata": {
        "colab": {
          "base_uri": "https://localhost:8080/"
        },
        "id": "63Z4c-0S9aJ-",
        "outputId": "791a3586-1cda-4cb1-e034-a11a819845a3"
      },
      "execution_count": 8,
      "outputs": [
        {
          "output_type": "execute_result",
          "data": {
            "text/plain": [
              "count    2018.000000\n",
              "mean       52.273538\n",
              "std        11.869373\n",
              "min        25.000000\n",
              "25%        43.250000\n",
              "50%        52.000000\n",
              "75%        61.000000\n",
              "max        86.000000\n",
              "Name: AGE, dtype: float64"
            ]
          },
          "metadata": {},
          "execution_count": 8
        }
      ]
    },
    {
      "cell_type": "code",
      "source": [
        "df.corr()"
      ],
      "metadata": {
        "colab": {
          "base_uri": "https://localhost:8080/",
          "height": 300
        },
        "id": "fSzLjzdD9bz2",
        "outputId": "fd2f3741-ff25-46cb-fcd4-cb4229cf5bb7"
      },
      "execution_count": 9,
      "outputs": [
        {
          "output_type": "execute_result",
          "data": {
            "text/plain": [
              "                                             WINNER       AGE  \\\n",
              "WINNER                                     1.000000  0.110294   \n",
              "AGE                                        0.110294  1.000000   \n",
              "GENERALS_VOTERS                            0.725678  0.208567   \n",
              "POSTAL_VOTERS                              0.520286  0.129360   \n",
              "TOTAL_VOTERS                               0.726125  0.208600   \n",
              "OVER_TOTAL_ELECTORS_IN_CONSTITUENCY        0.738976  0.207304   \n",
              "OVER_TOTAL_VOTES_POLLED_IN_CONSTITUENCY\\n  0.757303  0.223700   \n",
              "TOTAL_ELECTORS                             0.038107  0.021083   \n",
              "\n",
              "                                           GENERALS_VOTERS  POSTAL_VOTERS  \\\n",
              "WINNER                                            0.725678       0.520286   \n",
              "AGE                                               0.208567       0.129360   \n",
              "GENERALS_VOTERS                                   1.000000       0.616742   \n",
              "POSTAL_VOTERS                                     0.616742       1.000000   \n",
              "TOTAL_VOTERS                                      0.999988       0.620614   \n",
              "OVER_TOTAL_ELECTORS_IN_CONSTITUENCY               0.962219       0.630882   \n",
              "OVER_TOTAL_VOTES_POLLED_IN_CONSTITUENCY\\n         0.962905       0.634896   \n",
              "TOTAL_ELECTORS                                    0.211092       0.038453   \n",
              "\n",
              "                                           TOTAL_VOTERS  \\\n",
              "WINNER                                         0.726125   \n",
              "AGE                                            0.208600   \n",
              "GENERALS_VOTERS                                0.999988   \n",
              "POSTAL_VOTERS                                  0.620614   \n",
              "TOTAL_VOTERS                                   1.000000   \n",
              "OVER_TOTAL_ELECTORS_IN_CONSTITUENCY            0.962441   \n",
              "OVER_TOTAL_VOTES_POLLED_IN_CONSTITUENCY\\n      0.963150   \n",
              "TOTAL_ELECTORS                                 0.210515   \n",
              "\n",
              "                                           OVER_TOTAL_ELECTORS_IN_CONSTITUENCY  \\\n",
              "WINNER                                                                0.738976   \n",
              "AGE                                                                   0.207304   \n",
              "GENERALS_VOTERS                                                       0.962219   \n",
              "POSTAL_VOTERS                                                         0.630882   \n",
              "TOTAL_VOTERS                                                          0.962441   \n",
              "OVER_TOTAL_ELECTORS_IN_CONSTITUENCY                                   1.000000   \n",
              "OVER_TOTAL_VOTES_POLLED_IN_CONSTITUENCY\\n                             0.977416   \n",
              "TOTAL_ELECTORS                                                        0.009227   \n",
              "\n",
              "                                           OVER_TOTAL_VOTES_POLLED_IN_CONSTITUENCY\\n  \\\n",
              "WINNER                                                                      0.757303   \n",
              "AGE                                                                         0.223700   \n",
              "GENERALS_VOTERS                                                             0.962905   \n",
              "POSTAL_VOTERS                                                               0.634896   \n",
              "TOTAL_VOTERS                                                                0.963150   \n",
              "OVER_TOTAL_ELECTORS_IN_CONSTITUENCY                                         0.977416   \n",
              "OVER_TOTAL_VOTES_POLLED_IN_CONSTITUENCY\\n                                   1.000000   \n",
              "TOTAL_ELECTORS                                                              0.072228   \n",
              "\n",
              "                                           TOTAL_ELECTORS  \n",
              "WINNER                                           0.038107  \n",
              "AGE                                              0.021083  \n",
              "GENERALS_VOTERS                                  0.211092  \n",
              "POSTAL_VOTERS                                    0.038453  \n",
              "TOTAL_VOTERS                                     0.210515  \n",
              "OVER_TOTAL_ELECTORS_IN_CONSTITUENCY              0.009227  \n",
              "OVER_TOTAL_VOTES_POLLED_IN_CONSTITUENCY\\n        0.072228  \n",
              "TOTAL_ELECTORS                                   1.000000  "
            ],
            "text/html": [
              "\n",
              "  <div id=\"df-4f7e7a76-15c5-4309-b403-0de4d277fa2d\" class=\"colab-df-container\">\n",
              "    <div>\n",
              "<style scoped>\n",
              "    .dataframe tbody tr th:only-of-type {\n",
              "        vertical-align: middle;\n",
              "    }\n",
              "\n",
              "    .dataframe tbody tr th {\n",
              "        vertical-align: top;\n",
              "    }\n",
              "\n",
              "    .dataframe thead th {\n",
              "        text-align: right;\n",
              "    }\n",
              "</style>\n",
              "<table border=\"1\" class=\"dataframe\">\n",
              "  <thead>\n",
              "    <tr style=\"text-align: right;\">\n",
              "      <th></th>\n",
              "      <th>WINNER</th>\n",
              "      <th>AGE</th>\n",
              "      <th>GENERALS_VOTERS</th>\n",
              "      <th>POSTAL_VOTERS</th>\n",
              "      <th>TOTAL_VOTERS</th>\n",
              "      <th>OVER_TOTAL_ELECTORS_IN_CONSTITUENCY</th>\n",
              "      <th>OVER_TOTAL_VOTES_POLLED_IN_CONSTITUENCY\\n</th>\n",
              "      <th>TOTAL_ELECTORS</th>\n",
              "    </tr>\n",
              "  </thead>\n",
              "  <tbody>\n",
              "    <tr>\n",
              "      <th>WINNER</th>\n",
              "      <td>1.000000</td>\n",
              "      <td>0.110294</td>\n",
              "      <td>0.725678</td>\n",
              "      <td>0.520286</td>\n",
              "      <td>0.726125</td>\n",
              "      <td>0.738976</td>\n",
              "      <td>0.757303</td>\n",
              "      <td>0.038107</td>\n",
              "    </tr>\n",
              "    <tr>\n",
              "      <th>AGE</th>\n",
              "      <td>0.110294</td>\n",
              "      <td>1.000000</td>\n",
              "      <td>0.208567</td>\n",
              "      <td>0.129360</td>\n",
              "      <td>0.208600</td>\n",
              "      <td>0.207304</td>\n",
              "      <td>0.223700</td>\n",
              "      <td>0.021083</td>\n",
              "    </tr>\n",
              "    <tr>\n",
              "      <th>GENERALS_VOTERS</th>\n",
              "      <td>0.725678</td>\n",
              "      <td>0.208567</td>\n",
              "      <td>1.000000</td>\n",
              "      <td>0.616742</td>\n",
              "      <td>0.999988</td>\n",
              "      <td>0.962219</td>\n",
              "      <td>0.962905</td>\n",
              "      <td>0.211092</td>\n",
              "    </tr>\n",
              "    <tr>\n",
              "      <th>POSTAL_VOTERS</th>\n",
              "      <td>0.520286</td>\n",
              "      <td>0.129360</td>\n",
              "      <td>0.616742</td>\n",
              "      <td>1.000000</td>\n",
              "      <td>0.620614</td>\n",
              "      <td>0.630882</td>\n",
              "      <td>0.634896</td>\n",
              "      <td>0.038453</td>\n",
              "    </tr>\n",
              "    <tr>\n",
              "      <th>TOTAL_VOTERS</th>\n",
              "      <td>0.726125</td>\n",
              "      <td>0.208600</td>\n",
              "      <td>0.999988</td>\n",
              "      <td>0.620614</td>\n",
              "      <td>1.000000</td>\n",
              "      <td>0.962441</td>\n",
              "      <td>0.963150</td>\n",
              "      <td>0.210515</td>\n",
              "    </tr>\n",
              "    <tr>\n",
              "      <th>OVER_TOTAL_ELECTORS_IN_CONSTITUENCY</th>\n",
              "      <td>0.738976</td>\n",
              "      <td>0.207304</td>\n",
              "      <td>0.962219</td>\n",
              "      <td>0.630882</td>\n",
              "      <td>0.962441</td>\n",
              "      <td>1.000000</td>\n",
              "      <td>0.977416</td>\n",
              "      <td>0.009227</td>\n",
              "    </tr>\n",
              "    <tr>\n",
              "      <th>OVER_TOTAL_VOTES_POLLED_IN_CONSTITUENCY\\n</th>\n",
              "      <td>0.757303</td>\n",
              "      <td>0.223700</td>\n",
              "      <td>0.962905</td>\n",
              "      <td>0.634896</td>\n",
              "      <td>0.963150</td>\n",
              "      <td>0.977416</td>\n",
              "      <td>1.000000</td>\n",
              "      <td>0.072228</td>\n",
              "    </tr>\n",
              "    <tr>\n",
              "      <th>TOTAL_ELECTORS</th>\n",
              "      <td>0.038107</td>\n",
              "      <td>0.021083</td>\n",
              "      <td>0.211092</td>\n",
              "      <td>0.038453</td>\n",
              "      <td>0.210515</td>\n",
              "      <td>0.009227</td>\n",
              "      <td>0.072228</td>\n",
              "      <td>1.000000</td>\n",
              "    </tr>\n",
              "  </tbody>\n",
              "</table>\n",
              "</div>\n",
              "    <div class=\"colab-df-buttons\">\n",
              "\n",
              "  <div class=\"colab-df-container\">\n",
              "    <button class=\"colab-df-convert\" onclick=\"convertToInteractive('df-4f7e7a76-15c5-4309-b403-0de4d277fa2d')\"\n",
              "            title=\"Convert this dataframe to an interactive table.\"\n",
              "            style=\"display:none;\">\n",
              "\n",
              "  <svg xmlns=\"http://www.w3.org/2000/svg\" height=\"24px\" viewBox=\"0 -960 960 960\">\n",
              "    <path d=\"M120-120v-720h720v720H120Zm60-500h600v-160H180v160Zm220 220h160v-160H400v160Zm0 220h160v-160H400v160ZM180-400h160v-160H180v160Zm440 0h160v-160H620v160ZM180-180h160v-160H180v160Zm440 0h160v-160H620v160Z\"/>\n",
              "  </svg>\n",
              "    </button>\n",
              "\n",
              "  <style>\n",
              "    .colab-df-container {\n",
              "      display:flex;\n",
              "      gap: 12px;\n",
              "    }\n",
              "\n",
              "    .colab-df-convert {\n",
              "      background-color: #E8F0FE;\n",
              "      border: none;\n",
              "      border-radius: 50%;\n",
              "      cursor: pointer;\n",
              "      display: none;\n",
              "      fill: #1967D2;\n",
              "      height: 32px;\n",
              "      padding: 0 0 0 0;\n",
              "      width: 32px;\n",
              "    }\n",
              "\n",
              "    .colab-df-convert:hover {\n",
              "      background-color: #E2EBFA;\n",
              "      box-shadow: 0px 1px 2px rgba(60, 64, 67, 0.3), 0px 1px 3px 1px rgba(60, 64, 67, 0.15);\n",
              "      fill: #174EA6;\n",
              "    }\n",
              "\n",
              "    .colab-df-buttons div {\n",
              "      margin-bottom: 4px;\n",
              "    }\n",
              "\n",
              "    [theme=dark] .colab-df-convert {\n",
              "      background-color: #3B4455;\n",
              "      fill: #D2E3FC;\n",
              "    }\n",
              "\n",
              "    [theme=dark] .colab-df-convert:hover {\n",
              "      background-color: #434B5C;\n",
              "      box-shadow: 0px 1px 3px 1px rgba(0, 0, 0, 0.15);\n",
              "      filter: drop-shadow(0px 1px 2px rgba(0, 0, 0, 0.3));\n",
              "      fill: #FFFFFF;\n",
              "    }\n",
              "  </style>\n",
              "\n",
              "    <script>\n",
              "      const buttonEl =\n",
              "        document.querySelector('#df-4f7e7a76-15c5-4309-b403-0de4d277fa2d button.colab-df-convert');\n",
              "      buttonEl.style.display =\n",
              "        google.colab.kernel.accessAllowed ? 'block' : 'none';\n",
              "\n",
              "      async function convertToInteractive(key) {\n",
              "        const element = document.querySelector('#df-4f7e7a76-15c5-4309-b403-0de4d277fa2d');\n",
              "        const dataTable =\n",
              "          await google.colab.kernel.invokeFunction('convertToInteractive',\n",
              "                                                    [key], {});\n",
              "        if (!dataTable) return;\n",
              "\n",
              "        const docLinkHtml = 'Like what you see? Visit the ' +\n",
              "          '<a target=\"_blank\" href=https://colab.research.google.com/notebooks/data_table.ipynb>data table notebook</a>'\n",
              "          + ' to learn more about interactive tables.';\n",
              "        element.innerHTML = '';\n",
              "        dataTable['output_type'] = 'display_data';\n",
              "        await google.colab.output.renderOutput(dataTable, element);\n",
              "        const docLink = document.createElement('div');\n",
              "        docLink.innerHTML = docLinkHtml;\n",
              "        element.appendChild(docLink);\n",
              "      }\n",
              "    </script>\n",
              "  </div>\n",
              "\n",
              "\n",
              "<div id=\"df-3b0ae72c-d83b-448d-b7a3-7865d100aafa\">\n",
              "  <button class=\"colab-df-quickchart\" onclick=\"quickchart('df-3b0ae72c-d83b-448d-b7a3-7865d100aafa')\"\n",
              "            title=\"Suggest charts\"\n",
              "            style=\"display:none;\">\n",
              "\n",
              "<svg xmlns=\"http://www.w3.org/2000/svg\" height=\"24px\"viewBox=\"0 0 24 24\"\n",
              "     width=\"24px\">\n",
              "    <g>\n",
              "        <path d=\"M19 3H5c-1.1 0-2 .9-2 2v14c0 1.1.9 2 2 2h14c1.1 0 2-.9 2-2V5c0-1.1-.9-2-2-2zM9 17H7v-7h2v7zm4 0h-2V7h2v10zm4 0h-2v-4h2v4z\"/>\n",
              "    </g>\n",
              "</svg>\n",
              "  </button>\n",
              "\n",
              "<style>\n",
              "  .colab-df-quickchart {\n",
              "      --bg-color: #E8F0FE;\n",
              "      --fill-color: #1967D2;\n",
              "      --hover-bg-color: #E2EBFA;\n",
              "      --hover-fill-color: #174EA6;\n",
              "      --disabled-fill-color: #AAA;\n",
              "      --disabled-bg-color: #DDD;\n",
              "  }\n",
              "\n",
              "  [theme=dark] .colab-df-quickchart {\n",
              "      --bg-color: #3B4455;\n",
              "      --fill-color: #D2E3FC;\n",
              "      --hover-bg-color: #434B5C;\n",
              "      --hover-fill-color: #FFFFFF;\n",
              "      --disabled-bg-color: #3B4455;\n",
              "      --disabled-fill-color: #666;\n",
              "  }\n",
              "\n",
              "  .colab-df-quickchart {\n",
              "    background-color: var(--bg-color);\n",
              "    border: none;\n",
              "    border-radius: 50%;\n",
              "    cursor: pointer;\n",
              "    display: none;\n",
              "    fill: var(--fill-color);\n",
              "    height: 32px;\n",
              "    padding: 0;\n",
              "    width: 32px;\n",
              "  }\n",
              "\n",
              "  .colab-df-quickchart:hover {\n",
              "    background-color: var(--hover-bg-color);\n",
              "    box-shadow: 0 1px 2px rgba(60, 64, 67, 0.3), 0 1px 3px 1px rgba(60, 64, 67, 0.15);\n",
              "    fill: var(--button-hover-fill-color);\n",
              "  }\n",
              "\n",
              "  .colab-df-quickchart-complete:disabled,\n",
              "  .colab-df-quickchart-complete:disabled:hover {\n",
              "    background-color: var(--disabled-bg-color);\n",
              "    fill: var(--disabled-fill-color);\n",
              "    box-shadow: none;\n",
              "  }\n",
              "\n",
              "  .colab-df-spinner {\n",
              "    border: 2px solid var(--fill-color);\n",
              "    border-color: transparent;\n",
              "    border-bottom-color: var(--fill-color);\n",
              "    animation:\n",
              "      spin 1s steps(1) infinite;\n",
              "  }\n",
              "\n",
              "  @keyframes spin {\n",
              "    0% {\n",
              "      border-color: transparent;\n",
              "      border-bottom-color: var(--fill-color);\n",
              "      border-left-color: var(--fill-color);\n",
              "    }\n",
              "    20% {\n",
              "      border-color: transparent;\n",
              "      border-left-color: var(--fill-color);\n",
              "      border-top-color: var(--fill-color);\n",
              "    }\n",
              "    30% {\n",
              "      border-color: transparent;\n",
              "      border-left-color: var(--fill-color);\n",
              "      border-top-color: var(--fill-color);\n",
              "      border-right-color: var(--fill-color);\n",
              "    }\n",
              "    40% {\n",
              "      border-color: transparent;\n",
              "      border-right-color: var(--fill-color);\n",
              "      border-top-color: var(--fill-color);\n",
              "    }\n",
              "    60% {\n",
              "      border-color: transparent;\n",
              "      border-right-color: var(--fill-color);\n",
              "    }\n",
              "    80% {\n",
              "      border-color: transparent;\n",
              "      border-right-color: var(--fill-color);\n",
              "      border-bottom-color: var(--fill-color);\n",
              "    }\n",
              "    90% {\n",
              "      border-color: transparent;\n",
              "      border-bottom-color: var(--fill-color);\n",
              "    }\n",
              "  }\n",
              "</style>\n",
              "\n",
              "  <script>\n",
              "    async function quickchart(key) {\n",
              "      const quickchartButtonEl =\n",
              "        document.querySelector('#' + key + ' button');\n",
              "      quickchartButtonEl.disabled = true;  // To prevent multiple clicks.\n",
              "      quickchartButtonEl.classList.add('colab-df-spinner');\n",
              "      try {\n",
              "        const charts = await google.colab.kernel.invokeFunction(\n",
              "            'suggestCharts', [key], {});\n",
              "      } catch (error) {\n",
              "        console.error('Error during call to suggestCharts:', error);\n",
              "      }\n",
              "      quickchartButtonEl.classList.remove('colab-df-spinner');\n",
              "      quickchartButtonEl.classList.add('colab-df-quickchart-complete');\n",
              "    }\n",
              "    (() => {\n",
              "      let quickchartButtonEl =\n",
              "        document.querySelector('#df-3b0ae72c-d83b-448d-b7a3-7865d100aafa button');\n",
              "      quickchartButtonEl.style.display =\n",
              "        google.colab.kernel.accessAllowed ? 'block' : 'none';\n",
              "    })();\n",
              "  </script>\n",
              "</div>\n",
              "\n",
              "    </div>\n",
              "  </div>\n"
            ]
          },
          "metadata": {},
          "execution_count": 9
        }
      ]
    },
    {
      "cell_type": "code",
      "source": [
        "x=df.drop('WINNER',axis=1)\n",
        "y=df['WINNER']\n",
        "x_train,x_test,y_train,y_test=train_test_split(x,y,test_size=0.2,random_state=4)\n",
        "print(x_train.shape,y_train.shape)\n",
        "print(x_test.shape,y_test.shape)"
      ],
      "metadata": {
        "colab": {
          "base_uri": "https://localhost:8080/"
        },
        "id": "rRf4Z_jU9fqu",
        "outputId": "a8bf8024-9dec-4243-8e36-2a2ea35ca25d"
      },
      "execution_count": 12,
      "outputs": [
        {
          "output_type": "stream",
          "name": "stdout",
          "text": [
            "(1810, 18) (1810,)\n",
            "(453, 18) (453,)\n"
          ]
        }
      ]
    },
    {
      "cell_type": "markdown",
      "source": [
        "**Data Cleaning**"
      ],
      "metadata": {
        "id": "be1A3rVwP27T"
      }
    },
    {
      "cell_type": "code",
      "source": [
        "df.isnull().sum()"
      ],
      "metadata": {
        "colab": {
          "base_uri": "https://localhost:8080/"
        },
        "id": "uZ4p6SKN9uZh",
        "outputId": "5234b3ab-aff6-431c-a186-c5d4b869a8b1"
      },
      "execution_count": 13,
      "outputs": [
        {
          "output_type": "execute_result",
          "data": {
            "text/plain": [
              "STATE                                          0\n",
              "CONSTITUENCY                                   0\n",
              "NAME                                           0\n",
              "WINNER                                         0\n",
              "PARTY                                          0\n",
              "SYMBOL                                       245\n",
              "GENDER                                       245\n",
              "CRIMINAL                                     245\n",
              "AGE                                          245\n",
              "CATEGORY                                     245\n",
              "EDUCATION                                    245\n",
              "ASSETS                                       245\n",
              "LIABILITIES                                  245\n",
              "GENERALS_VOTERS                                0\n",
              "POSTAL_VOTERS                                  0\n",
              "TOTAL_VOTERS                                   0\n",
              "OVER_TOTAL_ELECTORS_IN_CONSTITUENCY            0\n",
              "OVER_TOTAL_VOTES_POLLED_IN_CONSTITUENCY\\n      0\n",
              "TOTAL_ELECTORS                                 0\n",
              "dtype: int64"
            ]
          },
          "metadata": {},
          "execution_count": 13
        }
      ]
    },
    {
      "cell_type": "code",
      "source": [
        "df_non_nota = df.dropna()\n",
        "df_non_nota.head()"
      ],
      "metadata": {
        "colab": {
          "base_uri": "https://localhost:8080/",
          "height": 293
        },
        "id": "TXes2guw9wy4",
        "outputId": "81cd70b4-b9e9-46d1-9eee-3d70e2b5abf4"
      },
      "execution_count": 14,
      "outputs": [
        {
          "output_type": "execute_result",
          "data": {
            "text/plain": [
              "           STATE CONSTITUENCY                   NAME  WINNER PARTY    SYMBOL  \\\n",
              "0      Telangana     ADILABAD         SOYAM BAPU RAO       1   BJP     Lotus   \n",
              "1      Telangana     ADILABAD           Godam Nagesh       0   TRS       Car   \n",
              "2      Telangana     ADILABAD          RATHOD RAMESH       0   INC      Hand   \n",
              "4  Uttar Pradesh         AGRA  Satyapal Singh Baghel       1   BJP     Lotus   \n",
              "5  Uttar Pradesh         AGRA       Manoj Kumar Soni       0   BSP  Elephant   \n",
              "\n",
              "  GENDER CRIMINAL   AGE CATEGORY      EDUCATION  \\\n",
              "0   MALE       52  52.0       ST      12th Pass   \n",
              "1   MALE        0  54.0       ST  Post Graduate   \n",
              "2   MALE        3  52.0       ST      12th Pass   \n",
              "4   MALE        5  58.0       SC      Doctorate   \n",
              "5   MALE        0  47.0       SC  Post Graduate   \n",
              "\n",
              "                          ASSETS                  LIABILITIES  \\\n",
              "0      Rs 30,99,414\\n ~ 30 Lacs+      Rs 2,31,450\\n ~ 2 Lacs+   \n",
              "1    Rs 1,84,77,888\\n ~ 1 Crore+      Rs 8,47,000\\n ~ 8 Lacs+   \n",
              "2    Rs 3,64,91,000\\n ~ 3 Crore+  Rs 1,53,00,000\\n ~ 1 Crore+   \n",
              "4    Rs 7,42,74,036\\n ~ 7 Crore+    Rs 86,06,522\\n ~ 86 Lacs+   \n",
              "5  Rs 13,37,84,385\\n ~ 13 Crore+  Rs 2,22,51,891\\n ~ 2 Crore+   \n",
              "\n",
              "   GENERALS_VOTERS  POSTAL_VOTERS  TOTAL_VOTERS  \\\n",
              "0           376892            482        377374   \n",
              "1           318665            149        318814   \n",
              "2           314057            181        314238   \n",
              "4           644459           2416        646875   \n",
              "5           434199           1130        435329   \n",
              "\n",
              "   OVER_TOTAL_ELECTORS_IN_CONSTITUENCY  \\\n",
              "0                            25.330684   \n",
              "1                            21.399929   \n",
              "2                            21.092771   \n",
              "4                            33.383823   \n",
              "5                            22.466390   \n",
              "\n",
              "   OVER_TOTAL_VOTES_POLLED_IN_CONSTITUENCY\\n  TOTAL_ELECTORS  \n",
              "0                                  35.468248         1489790  \n",
              "1                                  29.964370         1489790  \n",
              "2                                  29.534285         1489790  \n",
              "4                                  56.464615         1937690  \n",
              "5                                  37.999125         1937690  "
            ],
            "text/html": [
              "\n",
              "  <div id=\"df-e9b7329d-f51b-4c5a-a4b2-cce838ab3ed0\" class=\"colab-df-container\">\n",
              "    <div>\n",
              "<style scoped>\n",
              "    .dataframe tbody tr th:only-of-type {\n",
              "        vertical-align: middle;\n",
              "    }\n",
              "\n",
              "    .dataframe tbody tr th {\n",
              "        vertical-align: top;\n",
              "    }\n",
              "\n",
              "    .dataframe thead th {\n",
              "        text-align: right;\n",
              "    }\n",
              "</style>\n",
              "<table border=\"1\" class=\"dataframe\">\n",
              "  <thead>\n",
              "    <tr style=\"text-align: right;\">\n",
              "      <th></th>\n",
              "      <th>STATE</th>\n",
              "      <th>CONSTITUENCY</th>\n",
              "      <th>NAME</th>\n",
              "      <th>WINNER</th>\n",
              "      <th>PARTY</th>\n",
              "      <th>SYMBOL</th>\n",
              "      <th>GENDER</th>\n",
              "      <th>CRIMINAL</th>\n",
              "      <th>AGE</th>\n",
              "      <th>CATEGORY</th>\n",
              "      <th>EDUCATION</th>\n",
              "      <th>ASSETS</th>\n",
              "      <th>LIABILITIES</th>\n",
              "      <th>GENERALS_VOTERS</th>\n",
              "      <th>POSTAL_VOTERS</th>\n",
              "      <th>TOTAL_VOTERS</th>\n",
              "      <th>OVER_TOTAL_ELECTORS_IN_CONSTITUENCY</th>\n",
              "      <th>OVER_TOTAL_VOTES_POLLED_IN_CONSTITUENCY\\n</th>\n",
              "      <th>TOTAL_ELECTORS</th>\n",
              "    </tr>\n",
              "  </thead>\n",
              "  <tbody>\n",
              "    <tr>\n",
              "      <th>0</th>\n",
              "      <td>Telangana</td>\n",
              "      <td>ADILABAD</td>\n",
              "      <td>SOYAM BAPU RAO</td>\n",
              "      <td>1</td>\n",
              "      <td>BJP</td>\n",
              "      <td>Lotus</td>\n",
              "      <td>MALE</td>\n",
              "      <td>52</td>\n",
              "      <td>52.0</td>\n",
              "      <td>ST</td>\n",
              "      <td>12th Pass</td>\n",
              "      <td>Rs 30,99,414\\n ~ 30 Lacs+</td>\n",
              "      <td>Rs 2,31,450\\n ~ 2 Lacs+</td>\n",
              "      <td>376892</td>\n",
              "      <td>482</td>\n",
              "      <td>377374</td>\n",
              "      <td>25.330684</td>\n",
              "      <td>35.468248</td>\n",
              "      <td>1489790</td>\n",
              "    </tr>\n",
              "    <tr>\n",
              "      <th>1</th>\n",
              "      <td>Telangana</td>\n",
              "      <td>ADILABAD</td>\n",
              "      <td>Godam Nagesh</td>\n",
              "      <td>0</td>\n",
              "      <td>TRS</td>\n",
              "      <td>Car</td>\n",
              "      <td>MALE</td>\n",
              "      <td>0</td>\n",
              "      <td>54.0</td>\n",
              "      <td>ST</td>\n",
              "      <td>Post Graduate</td>\n",
              "      <td>Rs 1,84,77,888\\n ~ 1 Crore+</td>\n",
              "      <td>Rs 8,47,000\\n ~ 8 Lacs+</td>\n",
              "      <td>318665</td>\n",
              "      <td>149</td>\n",
              "      <td>318814</td>\n",
              "      <td>21.399929</td>\n",
              "      <td>29.964370</td>\n",
              "      <td>1489790</td>\n",
              "    </tr>\n",
              "    <tr>\n",
              "      <th>2</th>\n",
              "      <td>Telangana</td>\n",
              "      <td>ADILABAD</td>\n",
              "      <td>RATHOD RAMESH</td>\n",
              "      <td>0</td>\n",
              "      <td>INC</td>\n",
              "      <td>Hand</td>\n",
              "      <td>MALE</td>\n",
              "      <td>3</td>\n",
              "      <td>52.0</td>\n",
              "      <td>ST</td>\n",
              "      <td>12th Pass</td>\n",
              "      <td>Rs 3,64,91,000\\n ~ 3 Crore+</td>\n",
              "      <td>Rs 1,53,00,000\\n ~ 1 Crore+</td>\n",
              "      <td>314057</td>\n",
              "      <td>181</td>\n",
              "      <td>314238</td>\n",
              "      <td>21.092771</td>\n",
              "      <td>29.534285</td>\n",
              "      <td>1489790</td>\n",
              "    </tr>\n",
              "    <tr>\n",
              "      <th>4</th>\n",
              "      <td>Uttar Pradesh</td>\n",
              "      <td>AGRA</td>\n",
              "      <td>Satyapal Singh Baghel</td>\n",
              "      <td>1</td>\n",
              "      <td>BJP</td>\n",
              "      <td>Lotus</td>\n",
              "      <td>MALE</td>\n",
              "      <td>5</td>\n",
              "      <td>58.0</td>\n",
              "      <td>SC</td>\n",
              "      <td>Doctorate</td>\n",
              "      <td>Rs 7,42,74,036\\n ~ 7 Crore+</td>\n",
              "      <td>Rs 86,06,522\\n ~ 86 Lacs+</td>\n",
              "      <td>644459</td>\n",
              "      <td>2416</td>\n",
              "      <td>646875</td>\n",
              "      <td>33.383823</td>\n",
              "      <td>56.464615</td>\n",
              "      <td>1937690</td>\n",
              "    </tr>\n",
              "    <tr>\n",
              "      <th>5</th>\n",
              "      <td>Uttar Pradesh</td>\n",
              "      <td>AGRA</td>\n",
              "      <td>Manoj Kumar Soni</td>\n",
              "      <td>0</td>\n",
              "      <td>BSP</td>\n",
              "      <td>Elephant</td>\n",
              "      <td>MALE</td>\n",
              "      <td>0</td>\n",
              "      <td>47.0</td>\n",
              "      <td>SC</td>\n",
              "      <td>Post Graduate</td>\n",
              "      <td>Rs 13,37,84,385\\n ~ 13 Crore+</td>\n",
              "      <td>Rs 2,22,51,891\\n ~ 2 Crore+</td>\n",
              "      <td>434199</td>\n",
              "      <td>1130</td>\n",
              "      <td>435329</td>\n",
              "      <td>22.466390</td>\n",
              "      <td>37.999125</td>\n",
              "      <td>1937690</td>\n",
              "    </tr>\n",
              "  </tbody>\n",
              "</table>\n",
              "</div>\n",
              "    <div class=\"colab-df-buttons\">\n",
              "\n",
              "  <div class=\"colab-df-container\">\n",
              "    <button class=\"colab-df-convert\" onclick=\"convertToInteractive('df-e9b7329d-f51b-4c5a-a4b2-cce838ab3ed0')\"\n",
              "            title=\"Convert this dataframe to an interactive table.\"\n",
              "            style=\"display:none;\">\n",
              "\n",
              "  <svg xmlns=\"http://www.w3.org/2000/svg\" height=\"24px\" viewBox=\"0 -960 960 960\">\n",
              "    <path d=\"M120-120v-720h720v720H120Zm60-500h600v-160H180v160Zm220 220h160v-160H400v160Zm0 220h160v-160H400v160ZM180-400h160v-160H180v160Zm440 0h160v-160H620v160ZM180-180h160v-160H180v160Zm440 0h160v-160H620v160Z\"/>\n",
              "  </svg>\n",
              "    </button>\n",
              "\n",
              "  <style>\n",
              "    .colab-df-container {\n",
              "      display:flex;\n",
              "      gap: 12px;\n",
              "    }\n",
              "\n",
              "    .colab-df-convert {\n",
              "      background-color: #E8F0FE;\n",
              "      border: none;\n",
              "      border-radius: 50%;\n",
              "      cursor: pointer;\n",
              "      display: none;\n",
              "      fill: #1967D2;\n",
              "      height: 32px;\n",
              "      padding: 0 0 0 0;\n",
              "      width: 32px;\n",
              "    }\n",
              "\n",
              "    .colab-df-convert:hover {\n",
              "      background-color: #E2EBFA;\n",
              "      box-shadow: 0px 1px 2px rgba(60, 64, 67, 0.3), 0px 1px 3px 1px rgba(60, 64, 67, 0.15);\n",
              "      fill: #174EA6;\n",
              "    }\n",
              "\n",
              "    .colab-df-buttons div {\n",
              "      margin-bottom: 4px;\n",
              "    }\n",
              "\n",
              "    [theme=dark] .colab-df-convert {\n",
              "      background-color: #3B4455;\n",
              "      fill: #D2E3FC;\n",
              "    }\n",
              "\n",
              "    [theme=dark] .colab-df-convert:hover {\n",
              "      background-color: #434B5C;\n",
              "      box-shadow: 0px 1px 3px 1px rgba(0, 0, 0, 0.15);\n",
              "      filter: drop-shadow(0px 1px 2px rgba(0, 0, 0, 0.3));\n",
              "      fill: #FFFFFF;\n",
              "    }\n",
              "  </style>\n",
              "\n",
              "    <script>\n",
              "      const buttonEl =\n",
              "        document.querySelector('#df-e9b7329d-f51b-4c5a-a4b2-cce838ab3ed0 button.colab-df-convert');\n",
              "      buttonEl.style.display =\n",
              "        google.colab.kernel.accessAllowed ? 'block' : 'none';\n",
              "\n",
              "      async function convertToInteractive(key) {\n",
              "        const element = document.querySelector('#df-e9b7329d-f51b-4c5a-a4b2-cce838ab3ed0');\n",
              "        const dataTable =\n",
              "          await google.colab.kernel.invokeFunction('convertToInteractive',\n",
              "                                                    [key], {});\n",
              "        if (!dataTable) return;\n",
              "\n",
              "        const docLinkHtml = 'Like what you see? Visit the ' +\n",
              "          '<a target=\"_blank\" href=https://colab.research.google.com/notebooks/data_table.ipynb>data table notebook</a>'\n",
              "          + ' to learn more about interactive tables.';\n",
              "        element.innerHTML = '';\n",
              "        dataTable['output_type'] = 'display_data';\n",
              "        await google.colab.output.renderOutput(dataTable, element);\n",
              "        const docLink = document.createElement('div');\n",
              "        docLink.innerHTML = docLinkHtml;\n",
              "        element.appendChild(docLink);\n",
              "      }\n",
              "    </script>\n",
              "  </div>\n",
              "\n",
              "\n",
              "<div id=\"df-47408324-c1a6-4555-8968-e11f00853e31\">\n",
              "  <button class=\"colab-df-quickchart\" onclick=\"quickchart('df-47408324-c1a6-4555-8968-e11f00853e31')\"\n",
              "            title=\"Suggest charts\"\n",
              "            style=\"display:none;\">\n",
              "\n",
              "<svg xmlns=\"http://www.w3.org/2000/svg\" height=\"24px\"viewBox=\"0 0 24 24\"\n",
              "     width=\"24px\">\n",
              "    <g>\n",
              "        <path d=\"M19 3H5c-1.1 0-2 .9-2 2v14c0 1.1.9 2 2 2h14c1.1 0 2-.9 2-2V5c0-1.1-.9-2-2-2zM9 17H7v-7h2v7zm4 0h-2V7h2v10zm4 0h-2v-4h2v4z\"/>\n",
              "    </g>\n",
              "</svg>\n",
              "  </button>\n",
              "\n",
              "<style>\n",
              "  .colab-df-quickchart {\n",
              "      --bg-color: #E8F0FE;\n",
              "      --fill-color: #1967D2;\n",
              "      --hover-bg-color: #E2EBFA;\n",
              "      --hover-fill-color: #174EA6;\n",
              "      --disabled-fill-color: #AAA;\n",
              "      --disabled-bg-color: #DDD;\n",
              "  }\n",
              "\n",
              "  [theme=dark] .colab-df-quickchart {\n",
              "      --bg-color: #3B4455;\n",
              "      --fill-color: #D2E3FC;\n",
              "      --hover-bg-color: #434B5C;\n",
              "      --hover-fill-color: #FFFFFF;\n",
              "      --disabled-bg-color: #3B4455;\n",
              "      --disabled-fill-color: #666;\n",
              "  }\n",
              "\n",
              "  .colab-df-quickchart {\n",
              "    background-color: var(--bg-color);\n",
              "    border: none;\n",
              "    border-radius: 50%;\n",
              "    cursor: pointer;\n",
              "    display: none;\n",
              "    fill: var(--fill-color);\n",
              "    height: 32px;\n",
              "    padding: 0;\n",
              "    width: 32px;\n",
              "  }\n",
              "\n",
              "  .colab-df-quickchart:hover {\n",
              "    background-color: var(--hover-bg-color);\n",
              "    box-shadow: 0 1px 2px rgba(60, 64, 67, 0.3), 0 1px 3px 1px rgba(60, 64, 67, 0.15);\n",
              "    fill: var(--button-hover-fill-color);\n",
              "  }\n",
              "\n",
              "  .colab-df-quickchart-complete:disabled,\n",
              "  .colab-df-quickchart-complete:disabled:hover {\n",
              "    background-color: var(--disabled-bg-color);\n",
              "    fill: var(--disabled-fill-color);\n",
              "    box-shadow: none;\n",
              "  }\n",
              "\n",
              "  .colab-df-spinner {\n",
              "    border: 2px solid var(--fill-color);\n",
              "    border-color: transparent;\n",
              "    border-bottom-color: var(--fill-color);\n",
              "    animation:\n",
              "      spin 1s steps(1) infinite;\n",
              "  }\n",
              "\n",
              "  @keyframes spin {\n",
              "    0% {\n",
              "      border-color: transparent;\n",
              "      border-bottom-color: var(--fill-color);\n",
              "      border-left-color: var(--fill-color);\n",
              "    }\n",
              "    20% {\n",
              "      border-color: transparent;\n",
              "      border-left-color: var(--fill-color);\n",
              "      border-top-color: var(--fill-color);\n",
              "    }\n",
              "    30% {\n",
              "      border-color: transparent;\n",
              "      border-left-color: var(--fill-color);\n",
              "      border-top-color: var(--fill-color);\n",
              "      border-right-color: var(--fill-color);\n",
              "    }\n",
              "    40% {\n",
              "      border-color: transparent;\n",
              "      border-right-color: var(--fill-color);\n",
              "      border-top-color: var(--fill-color);\n",
              "    }\n",
              "    60% {\n",
              "      border-color: transparent;\n",
              "      border-right-color: var(--fill-color);\n",
              "    }\n",
              "    80% {\n",
              "      border-color: transparent;\n",
              "      border-right-color: var(--fill-color);\n",
              "      border-bottom-color: var(--fill-color);\n",
              "    }\n",
              "    90% {\n",
              "      border-color: transparent;\n",
              "      border-bottom-color: var(--fill-color);\n",
              "    }\n",
              "  }\n",
              "</style>\n",
              "\n",
              "  <script>\n",
              "    async function quickchart(key) {\n",
              "      const quickchartButtonEl =\n",
              "        document.querySelector('#' + key + ' button');\n",
              "      quickchartButtonEl.disabled = true;  // To prevent multiple clicks.\n",
              "      quickchartButtonEl.classList.add('colab-df-spinner');\n",
              "      try {\n",
              "        const charts = await google.colab.kernel.invokeFunction(\n",
              "            'suggestCharts', [key], {});\n",
              "      } catch (error) {\n",
              "        console.error('Error during call to suggestCharts:', error);\n",
              "      }\n",
              "      quickchartButtonEl.classList.remove('colab-df-spinner');\n",
              "      quickchartButtonEl.classList.add('colab-df-quickchart-complete');\n",
              "    }\n",
              "    (() => {\n",
              "      let quickchartButtonEl =\n",
              "        document.querySelector('#df-47408324-c1a6-4555-8968-e11f00853e31 button');\n",
              "      quickchartButtonEl.style.display =\n",
              "        google.colab.kernel.accessAllowed ? 'block' : 'none';\n",
              "    })();\n",
              "  </script>\n",
              "</div>\n",
              "\n",
              "    </div>\n",
              "  </div>\n"
            ]
          },
          "metadata": {},
          "execution_count": 14
        }
      ]
    },
    {
      "cell_type": "code",
      "source": [
        "df_non_nota.isnull().sum()"
      ],
      "metadata": {
        "colab": {
          "base_uri": "https://localhost:8080/"
        },
        "id": "9w2YS6F29ywt",
        "outputId": "9a2732bb-db2b-4995-c144-d1c29ae98690"
      },
      "execution_count": 15,
      "outputs": [
        {
          "output_type": "execute_result",
          "data": {
            "text/plain": [
              "STATE                                        0\n",
              "CONSTITUENCY                                 0\n",
              "NAME                                         0\n",
              "WINNER                                       0\n",
              "PARTY                                        0\n",
              "SYMBOL                                       0\n",
              "GENDER                                       0\n",
              "CRIMINAL                                     0\n",
              "AGE                                          0\n",
              "CATEGORY                                     0\n",
              "EDUCATION                                    0\n",
              "ASSETS                                       0\n",
              "LIABILITIES                                  0\n",
              "GENERALS_VOTERS                              0\n",
              "POSTAL_VOTERS                                0\n",
              "TOTAL_VOTERS                                 0\n",
              "OVER_TOTAL_ELECTORS_IN_CONSTITUENCY          0\n",
              "OVER_TOTAL_VOTES_POLLED_IN_CONSTITUENCY\\n    0\n",
              "TOTAL_ELECTORS                               0\n",
              "dtype: int64"
            ]
          },
          "metadata": {},
          "execution_count": 15
        }
      ]
    },
    {
      "cell_type": "code",
      "source": [
        "df_non_nota.drop(['SYMBOL','ASSETS','LIABILITIES','GENERALS_VOTERS','POSTAL_VOTERS','OVER_TOTAL_ELECTORS_IN_CONSTITUENCY','TOTAL_ELECTORS'],axis=1,inplace=True)\n",
        "df_non_nota.head()"
      ],
      "metadata": {
        "colab": {
          "base_uri": "https://localhost:8080/",
          "height": 206
        },
        "id": "Zpf-sQ-X959-",
        "outputId": "11b62b71-bc12-47c6-d4d1-a403efc1290d"
      },
      "execution_count": 17,
      "outputs": [
        {
          "output_type": "execute_result",
          "data": {
            "text/plain": [
              "           STATE CONSTITUENCY                   NAME  WINNER PARTY GENDER  \\\n",
              "0      Telangana     ADILABAD         SOYAM BAPU RAO       1   BJP   MALE   \n",
              "1      Telangana     ADILABAD           Godam Nagesh       0   TRS   MALE   \n",
              "2      Telangana     ADILABAD          RATHOD RAMESH       0   INC   MALE   \n",
              "4  Uttar Pradesh         AGRA  Satyapal Singh Baghel       1   BJP   MALE   \n",
              "5  Uttar Pradesh         AGRA       Manoj Kumar Soni       0   BSP   MALE   \n",
              "\n",
              "  CRIMINAL   AGE CATEGORY      EDUCATION  TOTAL_VOTERS  \\\n",
              "0       52  52.0       ST      12th Pass        377374   \n",
              "1        0  54.0       ST  Post Graduate        318814   \n",
              "2        3  52.0       ST      12th Pass        314238   \n",
              "4        5  58.0       SC      Doctorate        646875   \n",
              "5        0  47.0       SC  Post Graduate        435329   \n",
              "\n",
              "   OVER_TOTAL_VOTES_POLLED_IN_CONSTITUENCY\\n  \n",
              "0                                  35.468248  \n",
              "1                                  29.964370  \n",
              "2                                  29.534285  \n",
              "4                                  56.464615  \n",
              "5                                  37.999125  "
            ],
            "text/html": [
              "\n",
              "  <div id=\"df-899fbfb6-cc37-4a9a-8d99-5141bc967326\" class=\"colab-df-container\">\n",
              "    <div>\n",
              "<style scoped>\n",
              "    .dataframe tbody tr th:only-of-type {\n",
              "        vertical-align: middle;\n",
              "    }\n",
              "\n",
              "    .dataframe tbody tr th {\n",
              "        vertical-align: top;\n",
              "    }\n",
              "\n",
              "    .dataframe thead th {\n",
              "        text-align: right;\n",
              "    }\n",
              "</style>\n",
              "<table border=\"1\" class=\"dataframe\">\n",
              "  <thead>\n",
              "    <tr style=\"text-align: right;\">\n",
              "      <th></th>\n",
              "      <th>STATE</th>\n",
              "      <th>CONSTITUENCY</th>\n",
              "      <th>NAME</th>\n",
              "      <th>WINNER</th>\n",
              "      <th>PARTY</th>\n",
              "      <th>GENDER</th>\n",
              "      <th>CRIMINAL</th>\n",
              "      <th>AGE</th>\n",
              "      <th>CATEGORY</th>\n",
              "      <th>EDUCATION</th>\n",
              "      <th>TOTAL_VOTERS</th>\n",
              "      <th>OVER_TOTAL_VOTES_POLLED_IN_CONSTITUENCY\\n</th>\n",
              "    </tr>\n",
              "  </thead>\n",
              "  <tbody>\n",
              "    <tr>\n",
              "      <th>0</th>\n",
              "      <td>Telangana</td>\n",
              "      <td>ADILABAD</td>\n",
              "      <td>SOYAM BAPU RAO</td>\n",
              "      <td>1</td>\n",
              "      <td>BJP</td>\n",
              "      <td>MALE</td>\n",
              "      <td>52</td>\n",
              "      <td>52.0</td>\n",
              "      <td>ST</td>\n",
              "      <td>12th Pass</td>\n",
              "      <td>377374</td>\n",
              "      <td>35.468248</td>\n",
              "    </tr>\n",
              "    <tr>\n",
              "      <th>1</th>\n",
              "      <td>Telangana</td>\n",
              "      <td>ADILABAD</td>\n",
              "      <td>Godam Nagesh</td>\n",
              "      <td>0</td>\n",
              "      <td>TRS</td>\n",
              "      <td>MALE</td>\n",
              "      <td>0</td>\n",
              "      <td>54.0</td>\n",
              "      <td>ST</td>\n",
              "      <td>Post Graduate</td>\n",
              "      <td>318814</td>\n",
              "      <td>29.964370</td>\n",
              "    </tr>\n",
              "    <tr>\n",
              "      <th>2</th>\n",
              "      <td>Telangana</td>\n",
              "      <td>ADILABAD</td>\n",
              "      <td>RATHOD RAMESH</td>\n",
              "      <td>0</td>\n",
              "      <td>INC</td>\n",
              "      <td>MALE</td>\n",
              "      <td>3</td>\n",
              "      <td>52.0</td>\n",
              "      <td>ST</td>\n",
              "      <td>12th Pass</td>\n",
              "      <td>314238</td>\n",
              "      <td>29.534285</td>\n",
              "    </tr>\n",
              "    <tr>\n",
              "      <th>4</th>\n",
              "      <td>Uttar Pradesh</td>\n",
              "      <td>AGRA</td>\n",
              "      <td>Satyapal Singh Baghel</td>\n",
              "      <td>1</td>\n",
              "      <td>BJP</td>\n",
              "      <td>MALE</td>\n",
              "      <td>5</td>\n",
              "      <td>58.0</td>\n",
              "      <td>SC</td>\n",
              "      <td>Doctorate</td>\n",
              "      <td>646875</td>\n",
              "      <td>56.464615</td>\n",
              "    </tr>\n",
              "    <tr>\n",
              "      <th>5</th>\n",
              "      <td>Uttar Pradesh</td>\n",
              "      <td>AGRA</td>\n",
              "      <td>Manoj Kumar Soni</td>\n",
              "      <td>0</td>\n",
              "      <td>BSP</td>\n",
              "      <td>MALE</td>\n",
              "      <td>0</td>\n",
              "      <td>47.0</td>\n",
              "      <td>SC</td>\n",
              "      <td>Post Graduate</td>\n",
              "      <td>435329</td>\n",
              "      <td>37.999125</td>\n",
              "    </tr>\n",
              "  </tbody>\n",
              "</table>\n",
              "</div>\n",
              "    <div class=\"colab-df-buttons\">\n",
              "\n",
              "  <div class=\"colab-df-container\">\n",
              "    <button class=\"colab-df-convert\" onclick=\"convertToInteractive('df-899fbfb6-cc37-4a9a-8d99-5141bc967326')\"\n",
              "            title=\"Convert this dataframe to an interactive table.\"\n",
              "            style=\"display:none;\">\n",
              "\n",
              "  <svg xmlns=\"http://www.w3.org/2000/svg\" height=\"24px\" viewBox=\"0 -960 960 960\">\n",
              "    <path d=\"M120-120v-720h720v720H120Zm60-500h600v-160H180v160Zm220 220h160v-160H400v160Zm0 220h160v-160H400v160ZM180-400h160v-160H180v160Zm440 0h160v-160H620v160ZM180-180h160v-160H180v160Zm440 0h160v-160H620v160Z\"/>\n",
              "  </svg>\n",
              "    </button>\n",
              "\n",
              "  <style>\n",
              "    .colab-df-container {\n",
              "      display:flex;\n",
              "      gap: 12px;\n",
              "    }\n",
              "\n",
              "    .colab-df-convert {\n",
              "      background-color: #E8F0FE;\n",
              "      border: none;\n",
              "      border-radius: 50%;\n",
              "      cursor: pointer;\n",
              "      display: none;\n",
              "      fill: #1967D2;\n",
              "      height: 32px;\n",
              "      padding: 0 0 0 0;\n",
              "      width: 32px;\n",
              "    }\n",
              "\n",
              "    .colab-df-convert:hover {\n",
              "      background-color: #E2EBFA;\n",
              "      box-shadow: 0px 1px 2px rgba(60, 64, 67, 0.3), 0px 1px 3px 1px rgba(60, 64, 67, 0.15);\n",
              "      fill: #174EA6;\n",
              "    }\n",
              "\n",
              "    .colab-df-buttons div {\n",
              "      margin-bottom: 4px;\n",
              "    }\n",
              "\n",
              "    [theme=dark] .colab-df-convert {\n",
              "      background-color: #3B4455;\n",
              "      fill: #D2E3FC;\n",
              "    }\n",
              "\n",
              "    [theme=dark] .colab-df-convert:hover {\n",
              "      background-color: #434B5C;\n",
              "      box-shadow: 0px 1px 3px 1px rgba(0, 0, 0, 0.15);\n",
              "      filter: drop-shadow(0px 1px 2px rgba(0, 0, 0, 0.3));\n",
              "      fill: #FFFFFF;\n",
              "    }\n",
              "  </style>\n",
              "\n",
              "    <script>\n",
              "      const buttonEl =\n",
              "        document.querySelector('#df-899fbfb6-cc37-4a9a-8d99-5141bc967326 button.colab-df-convert');\n",
              "      buttonEl.style.display =\n",
              "        google.colab.kernel.accessAllowed ? 'block' : 'none';\n",
              "\n",
              "      async function convertToInteractive(key) {\n",
              "        const element = document.querySelector('#df-899fbfb6-cc37-4a9a-8d99-5141bc967326');\n",
              "        const dataTable =\n",
              "          await google.colab.kernel.invokeFunction('convertToInteractive',\n",
              "                                                    [key], {});\n",
              "        if (!dataTable) return;\n",
              "\n",
              "        const docLinkHtml = 'Like what you see? Visit the ' +\n",
              "          '<a target=\"_blank\" href=https://colab.research.google.com/notebooks/data_table.ipynb>data table notebook</a>'\n",
              "          + ' to learn more about interactive tables.';\n",
              "        element.innerHTML = '';\n",
              "        dataTable['output_type'] = 'display_data';\n",
              "        await google.colab.output.renderOutput(dataTable, element);\n",
              "        const docLink = document.createElement('div');\n",
              "        docLink.innerHTML = docLinkHtml;\n",
              "        element.appendChild(docLink);\n",
              "      }\n",
              "    </script>\n",
              "  </div>\n",
              "\n",
              "\n",
              "<div id=\"df-5b413284-1987-41ab-9855-87c08668c267\">\n",
              "  <button class=\"colab-df-quickchart\" onclick=\"quickchart('df-5b413284-1987-41ab-9855-87c08668c267')\"\n",
              "            title=\"Suggest charts\"\n",
              "            style=\"display:none;\">\n",
              "\n",
              "<svg xmlns=\"http://www.w3.org/2000/svg\" height=\"24px\"viewBox=\"0 0 24 24\"\n",
              "     width=\"24px\">\n",
              "    <g>\n",
              "        <path d=\"M19 3H5c-1.1 0-2 .9-2 2v14c0 1.1.9 2 2 2h14c1.1 0 2-.9 2-2V5c0-1.1-.9-2-2-2zM9 17H7v-7h2v7zm4 0h-2V7h2v10zm4 0h-2v-4h2v4z\"/>\n",
              "    </g>\n",
              "</svg>\n",
              "  </button>\n",
              "\n",
              "<style>\n",
              "  .colab-df-quickchart {\n",
              "      --bg-color: #E8F0FE;\n",
              "      --fill-color: #1967D2;\n",
              "      --hover-bg-color: #E2EBFA;\n",
              "      --hover-fill-color: #174EA6;\n",
              "      --disabled-fill-color: #AAA;\n",
              "      --disabled-bg-color: #DDD;\n",
              "  }\n",
              "\n",
              "  [theme=dark] .colab-df-quickchart {\n",
              "      --bg-color: #3B4455;\n",
              "      --fill-color: #D2E3FC;\n",
              "      --hover-bg-color: #434B5C;\n",
              "      --hover-fill-color: #FFFFFF;\n",
              "      --disabled-bg-color: #3B4455;\n",
              "      --disabled-fill-color: #666;\n",
              "  }\n",
              "\n",
              "  .colab-df-quickchart {\n",
              "    background-color: var(--bg-color);\n",
              "    border: none;\n",
              "    border-radius: 50%;\n",
              "    cursor: pointer;\n",
              "    display: none;\n",
              "    fill: var(--fill-color);\n",
              "    height: 32px;\n",
              "    padding: 0;\n",
              "    width: 32px;\n",
              "  }\n",
              "\n",
              "  .colab-df-quickchart:hover {\n",
              "    background-color: var(--hover-bg-color);\n",
              "    box-shadow: 0 1px 2px rgba(60, 64, 67, 0.3), 0 1px 3px 1px rgba(60, 64, 67, 0.15);\n",
              "    fill: var(--button-hover-fill-color);\n",
              "  }\n",
              "\n",
              "  .colab-df-quickchart-complete:disabled,\n",
              "  .colab-df-quickchart-complete:disabled:hover {\n",
              "    background-color: var(--disabled-bg-color);\n",
              "    fill: var(--disabled-fill-color);\n",
              "    box-shadow: none;\n",
              "  }\n",
              "\n",
              "  .colab-df-spinner {\n",
              "    border: 2px solid var(--fill-color);\n",
              "    border-color: transparent;\n",
              "    border-bottom-color: var(--fill-color);\n",
              "    animation:\n",
              "      spin 1s steps(1) infinite;\n",
              "  }\n",
              "\n",
              "  @keyframes spin {\n",
              "    0% {\n",
              "      border-color: transparent;\n",
              "      border-bottom-color: var(--fill-color);\n",
              "      border-left-color: var(--fill-color);\n",
              "    }\n",
              "    20% {\n",
              "      border-color: transparent;\n",
              "      border-left-color: var(--fill-color);\n",
              "      border-top-color: var(--fill-color);\n",
              "    }\n",
              "    30% {\n",
              "      border-color: transparent;\n",
              "      border-left-color: var(--fill-color);\n",
              "      border-top-color: var(--fill-color);\n",
              "      border-right-color: var(--fill-color);\n",
              "    }\n",
              "    40% {\n",
              "      border-color: transparent;\n",
              "      border-right-color: var(--fill-color);\n",
              "      border-top-color: var(--fill-color);\n",
              "    }\n",
              "    60% {\n",
              "      border-color: transparent;\n",
              "      border-right-color: var(--fill-color);\n",
              "    }\n",
              "    80% {\n",
              "      border-color: transparent;\n",
              "      border-right-color: var(--fill-color);\n",
              "      border-bottom-color: var(--fill-color);\n",
              "    }\n",
              "    90% {\n",
              "      border-color: transparent;\n",
              "      border-bottom-color: var(--fill-color);\n",
              "    }\n",
              "  }\n",
              "</style>\n",
              "\n",
              "  <script>\n",
              "    async function quickchart(key) {\n",
              "      const quickchartButtonEl =\n",
              "        document.querySelector('#' + key + ' button');\n",
              "      quickchartButtonEl.disabled = true;  // To prevent multiple clicks.\n",
              "      quickchartButtonEl.classList.add('colab-df-spinner');\n",
              "      try {\n",
              "        const charts = await google.colab.kernel.invokeFunction(\n",
              "            'suggestCharts', [key], {});\n",
              "      } catch (error) {\n",
              "        console.error('Error during call to suggestCharts:', error);\n",
              "      }\n",
              "      quickchartButtonEl.classList.remove('colab-df-spinner');\n",
              "      quickchartButtonEl.classList.add('colab-df-quickchart-complete');\n",
              "    }\n",
              "    (() => {\n",
              "      let quickchartButtonEl =\n",
              "        document.querySelector('#df-5b413284-1987-41ab-9855-87c08668c267 button');\n",
              "      quickchartButtonEl.style.display =\n",
              "        google.colab.kernel.accessAllowed ? 'block' : 'none';\n",
              "    })();\n",
              "  </script>\n",
              "</div>\n",
              "\n",
              "    </div>\n",
              "  </div>\n"
            ]
          },
          "metadata": {},
          "execution_count": 17
        }
      ]
    },
    {
      "cell_type": "code",
      "source": [
        "df_non_nota.EDUCATION.value_counts()"
      ],
      "metadata": {
        "colab": {
          "base_uri": "https://localhost:8080/"
        },
        "id": "ZCJf5mVO-IiG",
        "outputId": "a7332e66-d0e7-40b5-e3bf-1c366250b476"
      },
      "execution_count": 18,
      "outputs": [
        {
          "output_type": "execute_result",
          "data": {
            "text/plain": [
              "Post Graduate            502\n",
              "Graduate                 441\n",
              "Graduate Professional    336\n",
              "12th Pass                256\n",
              "10th Pass                196\n",
              "8th Pass                  78\n",
              "Doctorate                 73\n",
              "Others                    50\n",
              "Literate                  30\n",
              "5th Pass                  28\n",
              "Not Available             22\n",
              "Illiterate                 5\n",
              "Post Graduate\\n            1\n",
              "Name: EDUCATION, dtype: int64"
            ]
          },
          "metadata": {},
          "execution_count": 18
        }
      ]
    },
    {
      "cell_type": "markdown",
      "source": [
        "**Data transformation**"
      ],
      "metadata": {
        "id": "4YrsAZ14PtDq"
      }
    },
    {
      "cell_type": "code",
      "source": [
        "import pandas as pd\n",
        "from sklearn.preprocessing import StandardScaler, LabelEncoder\n",
        "print(\"Original Dataset:\")\n",
        "print(df.head())\n",
        "df.dropna(inplace=True)\n",
        "le = LabelEncoder()\n",
        "df['PARTY'] = le.fit_transform(df['PARTY'])\n",
        "scaler = StandardScaler()\n",
        "numerical_cols = ['TOTAL_VOTERS', 'GENERALS_VOTERS']\n",
        "df[numerical_cols] = scaler.fit_transform(df[numerical_cols])\n",
        "dataset = pd.get_dummies(df, columns=['STATE', 'NAME'])\n",
        "print(\"\\nTransformed Dataset:\")\n",
        "print(df.head())"
      ],
      "metadata": {
        "colab": {
          "base_uri": "https://localhost:8080/"
        },
        "id": "JaRSY7SB-LW1",
        "outputId": "916f63c1-e91f-4cde-8fce-3e84c2a82e45"
      },
      "execution_count": 20,
      "outputs": [
        {
          "output_type": "stream",
          "name": "stdout",
          "text": [
            "Original Dataset:\n",
            "           STATE CONSTITUENCY                   NAME  WINNER  PARTY    SYMBOL  \\\n",
            "0      Telangana     ADILABAD         SOYAM BAPU RAO       1     26     Lotus   \n",
            "1      Telangana     ADILABAD           Godam Nagesh       0    119       Car   \n",
            "2      Telangana     ADILABAD          RATHOD RAMESH       0     46      Hand   \n",
            "4  Uttar Pradesh         AGRA  Satyapal Singh Baghel       1     26     Lotus   \n",
            "5  Uttar Pradesh         AGRA       Manoj Kumar Soni       0     35  Elephant   \n",
            "\n",
            "  GENDER CRIMINAL   AGE CATEGORY      EDUCATION  \\\n",
            "0   MALE       52  52.0       ST      12th Pass   \n",
            "1   MALE        0  54.0       ST  Post Graduate   \n",
            "2   MALE        3  52.0       ST      12th Pass   \n",
            "4   MALE        5  58.0       SC      Doctorate   \n",
            "5   MALE        0  47.0       SC  Post Graduate   \n",
            "\n",
            "                          ASSETS                  LIABILITIES  \\\n",
            "0      Rs 30,99,414\\n ~ 30 Lacs+      Rs 2,31,450\\n ~ 2 Lacs+   \n",
            "1    Rs 1,84,77,888\\n ~ 1 Crore+      Rs 8,47,000\\n ~ 8 Lacs+   \n",
            "2    Rs 3,64,91,000\\n ~ 3 Crore+  Rs 1,53,00,000\\n ~ 1 Crore+   \n",
            "4    Rs 7,42,74,036\\n ~ 7 Crore+    Rs 86,06,522\\n ~ 86 Lacs+   \n",
            "5  Rs 13,37,84,385\\n ~ 13 Crore+  Rs 2,22,51,891\\n ~ 2 Crore+   \n",
            "\n",
            "   GENERALS_VOTERS  POSTAL_VOTERS  TOTAL_VOTERS  \\\n",
            "0           376892            482        377374   \n",
            "1           318665            149        318814   \n",
            "2           314057            181        314238   \n",
            "4           644459           2416        646875   \n",
            "5           434199           1130        435329   \n",
            "\n",
            "   OVER_TOTAL_ELECTORS_IN_CONSTITUENCY  \\\n",
            "0                            25.330684   \n",
            "1                            21.399929   \n",
            "2                            21.092771   \n",
            "4                            33.383823   \n",
            "5                            22.466390   \n",
            "\n",
            "   OVER_TOTAL_VOTES_POLLED_IN_CONSTITUENCY\\n  TOTAL_ELECTORS  \n",
            "0                                  35.468248         1489790  \n",
            "1                                  29.964370         1489790  \n",
            "2                                  29.534285         1489790  \n",
            "4                                  56.464615         1937690  \n",
            "5                                  37.999125         1937690  \n",
            "\n",
            "Transformed Dataset:\n",
            "           STATE CONSTITUENCY                   NAME  WINNER  PARTY    SYMBOL  \\\n",
            "0      Telangana     ADILABAD         SOYAM BAPU RAO       1     26     Lotus   \n",
            "1      Telangana     ADILABAD           Godam Nagesh       0    119       Car   \n",
            "2      Telangana     ADILABAD          RATHOD RAMESH       0     46      Hand   \n",
            "4  Uttar Pradesh         AGRA  Satyapal Singh Baghel       1     26     Lotus   \n",
            "5  Uttar Pradesh         AGRA       Manoj Kumar Soni       0     35  Elephant   \n",
            "\n",
            "  GENDER CRIMINAL   AGE CATEGORY      EDUCATION  \\\n",
            "0   MALE       52  52.0       ST      12th Pass   \n",
            "1   MALE        0  54.0       ST  Post Graduate   \n",
            "2   MALE        3  52.0       ST      12th Pass   \n",
            "4   MALE        5  58.0       SC      Doctorate   \n",
            "5   MALE        0  47.0       SC  Post Graduate   \n",
            "\n",
            "                          ASSETS                  LIABILITIES  \\\n",
            "0      Rs 30,99,414\\n ~ 30 Lacs+      Rs 2,31,450\\n ~ 2 Lacs+   \n",
            "1    Rs 1,84,77,888\\n ~ 1 Crore+      Rs 8,47,000\\n ~ 8 Lacs+   \n",
            "2    Rs 3,64,91,000\\n ~ 3 Crore+  Rs 1,53,00,000\\n ~ 1 Crore+   \n",
            "4    Rs 7,42,74,036\\n ~ 7 Crore+    Rs 86,06,522\\n ~ 86 Lacs+   \n",
            "5  Rs 13,37,84,385\\n ~ 13 Crore+  Rs 2,22,51,891\\n ~ 2 Crore+   \n",
            "\n",
            "   GENERALS_VOTERS  POSTAL_VOTERS  TOTAL_VOTERS  \\\n",
            "0         0.336701            482      0.332957   \n",
            "1         0.107942            149      0.103781   \n",
            "2         0.089838            181      0.085873   \n",
            "4         1.387908           2416      1.387657   \n",
            "5         0.561847           1130      0.559766   \n",
            "\n",
            "   OVER_TOTAL_ELECTORS_IN_CONSTITUENCY  \\\n",
            "0                            25.330684   \n",
            "1                            21.399929   \n",
            "2                            21.092771   \n",
            "4                            33.383823   \n",
            "5                            22.466390   \n",
            "\n",
            "   OVER_TOTAL_VOTES_POLLED_IN_CONSTITUENCY\\n  TOTAL_ELECTORS  \n",
            "0                                  35.468248         1489790  \n",
            "1                                  29.964370         1489790  \n",
            "2                                  29.534285         1489790  \n",
            "4                                  56.464615         1937690  \n",
            "5                                  37.999125         1937690  \n"
          ]
        }
      ]
    },
    {
      "cell_type": "code",
      "source": [
        "!pip install plotly"
      ],
      "metadata": {
        "colab": {
          "base_uri": "https://localhost:8080/"
        },
        "id": "gWEI6J9bAI3l",
        "outputId": "f14333ca-0ce7-4b2b-f1e7-2bd4e60baa38"
      },
      "execution_count": 27,
      "outputs": [
        {
          "output_type": "stream",
          "name": "stdout",
          "text": [
            "Requirement already satisfied: plotly in /usr/local/lib/python3.10/dist-packages (5.15.0)\n",
            "Requirement already satisfied: tenacity>=6.2.0 in /usr/local/lib/python3.10/dist-packages (from plotly) (8.2.3)\n",
            "Requirement already satisfied: packaging in /usr/local/lib/python3.10/dist-packages (from plotly) (23.2)\n"
          ]
        }
      ]
    },
    {
      "cell_type": "markdown",
      "source": [
        "**Visualization**"
      ],
      "metadata": {
        "id": "oX_fN8kCPjBA"
      }
    },
    {
      "cell_type": "code",
      "source": [
        "top_20parties = pd.Series(df_non_nota['PARTY'].value_counts().head(21))\n",
        "top_20parties = top_20parties.index.drop(['IND'])\n",
        "top_20parties"
      ],
      "metadata": {
        "colab": {
          "base_uri": "https://localhost:8080/"
        },
        "id": "ReYXspcnBBw0",
        "outputId": "a60a1c34-0695-45f1-8911-7b74717843c0"
      },
      "execution_count": 31,
      "outputs": [
        {
          "output_type": "execute_result",
          "data": {
            "text/plain": [
              "Index(['BJP', 'INC', 'BSP', 'CPI(M)', 'VBA', 'AITC', 'SP', 'NTK', 'MNM', 'SHS',\n",
              "       'TDP', 'AAP', 'YSRCP', 'DMK', 'RJD', 'NCP', 'AIADMK', 'BJD', 'JnP',\n",
              "       'JD(U)'],\n",
              "      dtype='object')"
            ]
          },
          "metadata": {},
          "execution_count": 31
        }
      ]
    },
    {
      "cell_type": "code",
      "source": [
        "candidate_df=df.drop(['SYMBOL', 'GENERALS_VOTERS', 'POSTAL_VOTERS','OVER_TOTAL_ELECTORS_IN_CONSTITUENCY', 'OVER_TOTAL_VOTES_POLLED_IN_CONSTITUENCY\\n'], axis=1)\n",
        "candidate_df.rename(columns = {\"CRIMINAL\": \"CRIMINAL\", \"TOTAL_VOTES\": \"TOTAL_VOTES\"}, inplace = True)\n",
        "candidate_df.sort_values([\"STATE\", \"CONSTITUENCY\"], inplace = True)"
      ],
      "metadata": {
        "id": "nfGOagcHCS9E"
      },
      "execution_count": 33,
      "outputs": []
    },
    {
      "cell_type": "code",
      "source": [
        "winner_df = candidate_df[candidate_df['WINNER']== 1].sort_values(['STATE','CONSTITUENCY']).reset_index()\n",
        "winner_df.drop(['index','WINNER'],axis = 1,inplace = True)\n",
        "winner_df.head()"
      ],
      "metadata": {
        "colab": {
          "base_uri": "https://localhost:8080/",
          "height": 206
        },
        "id": "zbvecs5ODZI_",
        "outputId": "86ddbcdc-491e-49d1-bac4-2fb1d06b41ba"
      },
      "execution_count": 34,
      "outputs": [
        {
          "output_type": "execute_result",
          "data": {
            "text/plain": [
              "                       STATE               CONSTITUENCY  \\\n",
              "0  Andaman & Nicobar Islands  ANDAMAN & NICOBAR ISLANDS   \n",
              "1             Andhra Pradesh                 AMALAPURAM   \n",
              "2             Andhra Pradesh                 ANAKAPALLI   \n",
              "3             Andhra Pradesh                  ANANTAPUR   \n",
              "4             Andhra Pradesh                      ARUKU   \n",
              "\n",
              "                             NAME  PARTY  GENDER CRIMINAL   AGE CATEGORY  \\\n",
              "0              KULDEEP RAI SHARMA     46    MALE        0  52.0  GENERAL   \n",
              "1                 CHINTA ANURADHA    130  FEMALE        0  46.0       SC   \n",
              "2  Dr.Beesetti Venkata Satyavathi    130  FEMALE        0  52.0  GENERAL   \n",
              "3                 TALARI RANGAIAH    130    MALE        2  48.0  GENERAL   \n",
              "4                GODDETI. MADHAVI    130  FEMALE        0  26.0       ST   \n",
              "\n",
              "               EDUCATION                         ASSETS  \\\n",
              "0  Graduate Professional  Rs 13,22,33,012\\n ~ 13 Crore+   \n",
              "1               Graduate    Rs 8,59,93,362\\n ~ 8 Crore+   \n",
              "2  Graduate Professional    Rs 9,15,26,244\\n ~ 9 Crore+   \n",
              "3              Doctorate    Rs 1,17,73,091\\n ~ 1 Crore+   \n",
              "4  Graduate Professional        Rs 1,41,179\\n ~ 1 Lacs+   \n",
              "\n",
              "                   LIABILITIES  TOTAL_VOTERS  TOTAL_ELECTORS  \n",
              "0  Rs 8,04,50,870\\n ~ 8 Crore+     -0.770915          318471  \n",
              "1    Rs 24,31,407\\n ~ 24 Lacs+      0.757904         1459556  \n",
              "2  Rs 1,11,39,279\\n ~ 1 Crore+      1.150305         1521363  \n",
              "3    Rs 11,35,547\\n ~ 11 Lacs+      1.576809         1664160  \n",
              "4                     Rs 0\\n ~      1.056240         1451418  "
            ],
            "text/html": [
              "\n",
              "  <div id=\"df-a4c14625-06d8-48fc-9be1-b0af48ced214\" class=\"colab-df-container\">\n",
              "    <div>\n",
              "<style scoped>\n",
              "    .dataframe tbody tr th:only-of-type {\n",
              "        vertical-align: middle;\n",
              "    }\n",
              "\n",
              "    .dataframe tbody tr th {\n",
              "        vertical-align: top;\n",
              "    }\n",
              "\n",
              "    .dataframe thead th {\n",
              "        text-align: right;\n",
              "    }\n",
              "</style>\n",
              "<table border=\"1\" class=\"dataframe\">\n",
              "  <thead>\n",
              "    <tr style=\"text-align: right;\">\n",
              "      <th></th>\n",
              "      <th>STATE</th>\n",
              "      <th>CONSTITUENCY</th>\n",
              "      <th>NAME</th>\n",
              "      <th>PARTY</th>\n",
              "      <th>GENDER</th>\n",
              "      <th>CRIMINAL</th>\n",
              "      <th>AGE</th>\n",
              "      <th>CATEGORY</th>\n",
              "      <th>EDUCATION</th>\n",
              "      <th>ASSETS</th>\n",
              "      <th>LIABILITIES</th>\n",
              "      <th>TOTAL_VOTERS</th>\n",
              "      <th>TOTAL_ELECTORS</th>\n",
              "    </tr>\n",
              "  </thead>\n",
              "  <tbody>\n",
              "    <tr>\n",
              "      <th>0</th>\n",
              "      <td>Andaman &amp; Nicobar Islands</td>\n",
              "      <td>ANDAMAN &amp; NICOBAR ISLANDS</td>\n",
              "      <td>KULDEEP RAI SHARMA</td>\n",
              "      <td>46</td>\n",
              "      <td>MALE</td>\n",
              "      <td>0</td>\n",
              "      <td>52.0</td>\n",
              "      <td>GENERAL</td>\n",
              "      <td>Graduate Professional</td>\n",
              "      <td>Rs 13,22,33,012\\n ~ 13 Crore+</td>\n",
              "      <td>Rs 8,04,50,870\\n ~ 8 Crore+</td>\n",
              "      <td>-0.770915</td>\n",
              "      <td>318471</td>\n",
              "    </tr>\n",
              "    <tr>\n",
              "      <th>1</th>\n",
              "      <td>Andhra Pradesh</td>\n",
              "      <td>AMALAPURAM</td>\n",
              "      <td>CHINTA ANURADHA</td>\n",
              "      <td>130</td>\n",
              "      <td>FEMALE</td>\n",
              "      <td>0</td>\n",
              "      <td>46.0</td>\n",
              "      <td>SC</td>\n",
              "      <td>Graduate</td>\n",
              "      <td>Rs 8,59,93,362\\n ~ 8 Crore+</td>\n",
              "      <td>Rs 24,31,407\\n ~ 24 Lacs+</td>\n",
              "      <td>0.757904</td>\n",
              "      <td>1459556</td>\n",
              "    </tr>\n",
              "    <tr>\n",
              "      <th>2</th>\n",
              "      <td>Andhra Pradesh</td>\n",
              "      <td>ANAKAPALLI</td>\n",
              "      <td>Dr.Beesetti Venkata Satyavathi</td>\n",
              "      <td>130</td>\n",
              "      <td>FEMALE</td>\n",
              "      <td>0</td>\n",
              "      <td>52.0</td>\n",
              "      <td>GENERAL</td>\n",
              "      <td>Graduate Professional</td>\n",
              "      <td>Rs 9,15,26,244\\n ~ 9 Crore+</td>\n",
              "      <td>Rs 1,11,39,279\\n ~ 1 Crore+</td>\n",
              "      <td>1.150305</td>\n",
              "      <td>1521363</td>\n",
              "    </tr>\n",
              "    <tr>\n",
              "      <th>3</th>\n",
              "      <td>Andhra Pradesh</td>\n",
              "      <td>ANANTAPUR</td>\n",
              "      <td>TALARI RANGAIAH</td>\n",
              "      <td>130</td>\n",
              "      <td>MALE</td>\n",
              "      <td>2</td>\n",
              "      <td>48.0</td>\n",
              "      <td>GENERAL</td>\n",
              "      <td>Doctorate</td>\n",
              "      <td>Rs 1,17,73,091\\n ~ 1 Crore+</td>\n",
              "      <td>Rs 11,35,547\\n ~ 11 Lacs+</td>\n",
              "      <td>1.576809</td>\n",
              "      <td>1664160</td>\n",
              "    </tr>\n",
              "    <tr>\n",
              "      <th>4</th>\n",
              "      <td>Andhra Pradesh</td>\n",
              "      <td>ARUKU</td>\n",
              "      <td>GODDETI. MADHAVI</td>\n",
              "      <td>130</td>\n",
              "      <td>FEMALE</td>\n",
              "      <td>0</td>\n",
              "      <td>26.0</td>\n",
              "      <td>ST</td>\n",
              "      <td>Graduate Professional</td>\n",
              "      <td>Rs 1,41,179\\n ~ 1 Lacs+</td>\n",
              "      <td>Rs 0\\n ~</td>\n",
              "      <td>1.056240</td>\n",
              "      <td>1451418</td>\n",
              "    </tr>\n",
              "  </tbody>\n",
              "</table>\n",
              "</div>\n",
              "    <div class=\"colab-df-buttons\">\n",
              "\n",
              "  <div class=\"colab-df-container\">\n",
              "    <button class=\"colab-df-convert\" onclick=\"convertToInteractive('df-a4c14625-06d8-48fc-9be1-b0af48ced214')\"\n",
              "            title=\"Convert this dataframe to an interactive table.\"\n",
              "            style=\"display:none;\">\n",
              "\n",
              "  <svg xmlns=\"http://www.w3.org/2000/svg\" height=\"24px\" viewBox=\"0 -960 960 960\">\n",
              "    <path d=\"M120-120v-720h720v720H120Zm60-500h600v-160H180v160Zm220 220h160v-160H400v160Zm0 220h160v-160H400v160ZM180-400h160v-160H180v160Zm440 0h160v-160H620v160ZM180-180h160v-160H180v160Zm440 0h160v-160H620v160Z\"/>\n",
              "  </svg>\n",
              "    </button>\n",
              "\n",
              "  <style>\n",
              "    .colab-df-container {\n",
              "      display:flex;\n",
              "      gap: 12px;\n",
              "    }\n",
              "\n",
              "    .colab-df-convert {\n",
              "      background-color: #E8F0FE;\n",
              "      border: none;\n",
              "      border-radius: 50%;\n",
              "      cursor: pointer;\n",
              "      display: none;\n",
              "      fill: #1967D2;\n",
              "      height: 32px;\n",
              "      padding: 0 0 0 0;\n",
              "      width: 32px;\n",
              "    }\n",
              "\n",
              "    .colab-df-convert:hover {\n",
              "      background-color: #E2EBFA;\n",
              "      box-shadow: 0px 1px 2px rgba(60, 64, 67, 0.3), 0px 1px 3px 1px rgba(60, 64, 67, 0.15);\n",
              "      fill: #174EA6;\n",
              "    }\n",
              "\n",
              "    .colab-df-buttons div {\n",
              "      margin-bottom: 4px;\n",
              "    }\n",
              "\n",
              "    [theme=dark] .colab-df-convert {\n",
              "      background-color: #3B4455;\n",
              "      fill: #D2E3FC;\n",
              "    }\n",
              "\n",
              "    [theme=dark] .colab-df-convert:hover {\n",
              "      background-color: #434B5C;\n",
              "      box-shadow: 0px 1px 3px 1px rgba(0, 0, 0, 0.15);\n",
              "      filter: drop-shadow(0px 1px 2px rgba(0, 0, 0, 0.3));\n",
              "      fill: #FFFFFF;\n",
              "    }\n",
              "  </style>\n",
              "\n",
              "    <script>\n",
              "      const buttonEl =\n",
              "        document.querySelector('#df-a4c14625-06d8-48fc-9be1-b0af48ced214 button.colab-df-convert');\n",
              "      buttonEl.style.display =\n",
              "        google.colab.kernel.accessAllowed ? 'block' : 'none';\n",
              "\n",
              "      async function convertToInteractive(key) {\n",
              "        const element = document.querySelector('#df-a4c14625-06d8-48fc-9be1-b0af48ced214');\n",
              "        const dataTable =\n",
              "          await google.colab.kernel.invokeFunction('convertToInteractive',\n",
              "                                                    [key], {});\n",
              "        if (!dataTable) return;\n",
              "\n",
              "        const docLinkHtml = 'Like what you see? Visit the ' +\n",
              "          '<a target=\"_blank\" href=https://colab.research.google.com/notebooks/data_table.ipynb>data table notebook</a>'\n",
              "          + ' to learn more about interactive tables.';\n",
              "        element.innerHTML = '';\n",
              "        dataTable['output_type'] = 'display_data';\n",
              "        await google.colab.output.renderOutput(dataTable, element);\n",
              "        const docLink = document.createElement('div');\n",
              "        docLink.innerHTML = docLinkHtml;\n",
              "        element.appendChild(docLink);\n",
              "      }\n",
              "    </script>\n",
              "  </div>\n",
              "\n",
              "\n",
              "<div id=\"df-b69200ca-e022-4c9d-a0f8-25bb3ed763d3\">\n",
              "  <button class=\"colab-df-quickchart\" onclick=\"quickchart('df-b69200ca-e022-4c9d-a0f8-25bb3ed763d3')\"\n",
              "            title=\"Suggest charts\"\n",
              "            style=\"display:none;\">\n",
              "\n",
              "<svg xmlns=\"http://www.w3.org/2000/svg\" height=\"24px\"viewBox=\"0 0 24 24\"\n",
              "     width=\"24px\">\n",
              "    <g>\n",
              "        <path d=\"M19 3H5c-1.1 0-2 .9-2 2v14c0 1.1.9 2 2 2h14c1.1 0 2-.9 2-2V5c0-1.1-.9-2-2-2zM9 17H7v-7h2v7zm4 0h-2V7h2v10zm4 0h-2v-4h2v4z\"/>\n",
              "    </g>\n",
              "</svg>\n",
              "  </button>\n",
              "\n",
              "<style>\n",
              "  .colab-df-quickchart {\n",
              "      --bg-color: #E8F0FE;\n",
              "      --fill-color: #1967D2;\n",
              "      --hover-bg-color: #E2EBFA;\n",
              "      --hover-fill-color: #174EA6;\n",
              "      --disabled-fill-color: #AAA;\n",
              "      --disabled-bg-color: #DDD;\n",
              "  }\n",
              "\n",
              "  [theme=dark] .colab-df-quickchart {\n",
              "      --bg-color: #3B4455;\n",
              "      --fill-color: #D2E3FC;\n",
              "      --hover-bg-color: #434B5C;\n",
              "      --hover-fill-color: #FFFFFF;\n",
              "      --disabled-bg-color: #3B4455;\n",
              "      --disabled-fill-color: #666;\n",
              "  }\n",
              "\n",
              "  .colab-df-quickchart {\n",
              "    background-color: var(--bg-color);\n",
              "    border: none;\n",
              "    border-radius: 50%;\n",
              "    cursor: pointer;\n",
              "    display: none;\n",
              "    fill: var(--fill-color);\n",
              "    height: 32px;\n",
              "    padding: 0;\n",
              "    width: 32px;\n",
              "  }\n",
              "\n",
              "  .colab-df-quickchart:hover {\n",
              "    background-color: var(--hover-bg-color);\n",
              "    box-shadow: 0 1px 2px rgba(60, 64, 67, 0.3), 0 1px 3px 1px rgba(60, 64, 67, 0.15);\n",
              "    fill: var(--button-hover-fill-color);\n",
              "  }\n",
              "\n",
              "  .colab-df-quickchart-complete:disabled,\n",
              "  .colab-df-quickchart-complete:disabled:hover {\n",
              "    background-color: var(--disabled-bg-color);\n",
              "    fill: var(--disabled-fill-color);\n",
              "    box-shadow: none;\n",
              "  }\n",
              "\n",
              "  .colab-df-spinner {\n",
              "    border: 2px solid var(--fill-color);\n",
              "    border-color: transparent;\n",
              "    border-bottom-color: var(--fill-color);\n",
              "    animation:\n",
              "      spin 1s steps(1) infinite;\n",
              "  }\n",
              "\n",
              "  @keyframes spin {\n",
              "    0% {\n",
              "      border-color: transparent;\n",
              "      border-bottom-color: var(--fill-color);\n",
              "      border-left-color: var(--fill-color);\n",
              "    }\n",
              "    20% {\n",
              "      border-color: transparent;\n",
              "      border-left-color: var(--fill-color);\n",
              "      border-top-color: var(--fill-color);\n",
              "    }\n",
              "    30% {\n",
              "      border-color: transparent;\n",
              "      border-left-color: var(--fill-color);\n",
              "      border-top-color: var(--fill-color);\n",
              "      border-right-color: var(--fill-color);\n",
              "    }\n",
              "    40% {\n",
              "      border-color: transparent;\n",
              "      border-right-color: var(--fill-color);\n",
              "      border-top-color: var(--fill-color);\n",
              "    }\n",
              "    60% {\n",
              "      border-color: transparent;\n",
              "      border-right-color: var(--fill-color);\n",
              "    }\n",
              "    80% {\n",
              "      border-color: transparent;\n",
              "      border-right-color: var(--fill-color);\n",
              "      border-bottom-color: var(--fill-color);\n",
              "    }\n",
              "    90% {\n",
              "      border-color: transparent;\n",
              "      border-bottom-color: var(--fill-color);\n",
              "    }\n",
              "  }\n",
              "</style>\n",
              "\n",
              "  <script>\n",
              "    async function quickchart(key) {\n",
              "      const quickchartButtonEl =\n",
              "        document.querySelector('#' + key + ' button');\n",
              "      quickchartButtonEl.disabled = true;  // To prevent multiple clicks.\n",
              "      quickchartButtonEl.classList.add('colab-df-spinner');\n",
              "      try {\n",
              "        const charts = await google.colab.kernel.invokeFunction(\n",
              "            'suggestCharts', [key], {});\n",
              "      } catch (error) {\n",
              "        console.error('Error during call to suggestCharts:', error);\n",
              "      }\n",
              "      quickchartButtonEl.classList.remove('colab-df-spinner');\n",
              "      quickchartButtonEl.classList.add('colab-df-quickchart-complete');\n",
              "    }\n",
              "    (() => {\n",
              "      let quickchartButtonEl =\n",
              "        document.querySelector('#df-b69200ca-e022-4c9d-a0f8-25bb3ed763d3 button');\n",
              "      quickchartButtonEl.style.display =\n",
              "        google.colab.kernel.accessAllowed ? 'block' : 'none';\n",
              "    })();\n",
              "  </script>\n",
              "</div>\n",
              "\n",
              "    </div>\n",
              "  </div>\n"
            ]
          },
          "metadata": {},
          "execution_count": 34
        }
      ]
    },
    {
      "cell_type": "code",
      "source": [
        "all_party_seat = winner_df.PARTY.value_counts().sort_values(ascending = False)\n",
        "all_party_seat"
      ],
      "metadata": {
        "colab": {
          "base_uri": "https://localhost:8080/"
        },
        "id": "2zef0AcKDbAU",
        "outputId": "aceefd29-fb22-430f-9086-facde5ec9827"
      },
      "execution_count": 35,
      "outputs": [
        {
          "output_type": "execute_result",
          "data": {
            "text/plain": [
              "26     300\n",
              "46      52\n",
              "42      23\n",
              "130     22\n",
              "13      22\n",
              "108     18\n",
              "54      16\n",
              "35      11\n",
              "24      11\n",
              "119      9\n",
              "70       6\n",
              "111      5\n",
              "38       5\n",
              "78       5\n",
              "47       4\n",
              "58       3\n",
              "116      3\n",
              "50       3\n",
              "10       2\n",
              "4        2\n",
              "103      2\n",
              "81       1\n",
              "73       1\n",
              "79       1\n",
              "14       1\n",
              "68       1\n",
              "1        1\n",
              "96       1\n",
              "110      1\n",
              "99       1\n",
              "123      1\n",
              "8        1\n",
              "53       1\n",
              "62       1\n",
              "16       1\n",
              "82       1\n",
              "Name: PARTY, dtype: int64"
            ]
          },
          "metadata": {},
          "execution_count": 35
        }
      ]
    },
    {
      "cell_type": "code",
      "source": [
        "candidate_personal_df = candidate_df[candidate_df.NAME != 'NOTA']\n",
        "candidate_personal_df.head(3)"
      ],
      "metadata": {
        "colab": {
          "base_uri": "https://localhost:8080/",
          "height": 144
        },
        "id": "hKM_HFCuDda9",
        "outputId": "e76f2251-a75d-49e9-9953-a6e7d75d54a1"
      },
      "execution_count": 129,
      "outputs": [
        {
          "output_type": "execute_result",
          "data": {
            "text/plain": [
              "                         STATE               CONSTITUENCY  \\\n",
              "105  Andaman & Nicobar Islands  ANDAMAN & NICOBAR ISLANDS   \n",
              "106  Andaman & Nicobar Islands  ANDAMAN & NICOBAR ISLANDS   \n",
              "107  Andaman & Nicobar Islands  ANDAMAN & NICOBAR ISLANDS   \n",
              "\n",
              "                      NAME  WINNER  PARTY GENDER CRIMINAL   AGE CATEGORY  \\\n",
              "105     KULDEEP RAI SHARMA       1     46   MALE        0  52.0  GENERAL   \n",
              "106           VISHAL JOLLY       0     26   MALE        1  46.0  GENERAL   \n",
              "107  PARITOSH KUMAR HALDAR       0     47   MALE        0  61.0  GENERAL   \n",
              "\n",
              "                 EDUCATION                         ASSETS  \\\n",
              "105  Graduate Professional  Rs 13,22,33,012\\n ~ 13 Crore+   \n",
              "106  Graduate Professional    Rs 8,51,40,573\\n ~ 8 Crore+   \n",
              "107          Post Graduate    Rs 1,99,16,000\\n ~ 1 Crore+   \n",
              "\n",
              "                     LIABILITIES  TOTAL_VOTERS  TOTAL_ELECTORS  \n",
              "105  Rs 8,04,50,870\\n ~ 8 Crore+     -0.770915          318471  \n",
              "106    Rs 46,33,914\\n ~ 46 Lacs+     -0.776422          318471  \n",
              "107    Rs 13,11,000\\n ~ 13 Lacs+     -1.123003          318471  "
            ],
            "text/html": [
              "\n",
              "  <div id=\"df-78d6f211-d737-45c6-a03b-874f730b0817\" class=\"colab-df-container\">\n",
              "    <div>\n",
              "<style scoped>\n",
              "    .dataframe tbody tr th:only-of-type {\n",
              "        vertical-align: middle;\n",
              "    }\n",
              "\n",
              "    .dataframe tbody tr th {\n",
              "        vertical-align: top;\n",
              "    }\n",
              "\n",
              "    .dataframe thead th {\n",
              "        text-align: right;\n",
              "    }\n",
              "</style>\n",
              "<table border=\"1\" class=\"dataframe\">\n",
              "  <thead>\n",
              "    <tr style=\"text-align: right;\">\n",
              "      <th></th>\n",
              "      <th>STATE</th>\n",
              "      <th>CONSTITUENCY</th>\n",
              "      <th>NAME</th>\n",
              "      <th>WINNER</th>\n",
              "      <th>PARTY</th>\n",
              "      <th>GENDER</th>\n",
              "      <th>CRIMINAL</th>\n",
              "      <th>AGE</th>\n",
              "      <th>CATEGORY</th>\n",
              "      <th>EDUCATION</th>\n",
              "      <th>ASSETS</th>\n",
              "      <th>LIABILITIES</th>\n",
              "      <th>TOTAL_VOTERS</th>\n",
              "      <th>TOTAL_ELECTORS</th>\n",
              "    </tr>\n",
              "  </thead>\n",
              "  <tbody>\n",
              "    <tr>\n",
              "      <th>105</th>\n",
              "      <td>Andaman &amp; Nicobar Islands</td>\n",
              "      <td>ANDAMAN &amp; NICOBAR ISLANDS</td>\n",
              "      <td>KULDEEP RAI SHARMA</td>\n",
              "      <td>1</td>\n",
              "      <td>46</td>\n",
              "      <td>MALE</td>\n",
              "      <td>0</td>\n",
              "      <td>52.0</td>\n",
              "      <td>GENERAL</td>\n",
              "      <td>Graduate Professional</td>\n",
              "      <td>Rs 13,22,33,012\\n ~ 13 Crore+</td>\n",
              "      <td>Rs 8,04,50,870\\n ~ 8 Crore+</td>\n",
              "      <td>-0.770915</td>\n",
              "      <td>318471</td>\n",
              "    </tr>\n",
              "    <tr>\n",
              "      <th>106</th>\n",
              "      <td>Andaman &amp; Nicobar Islands</td>\n",
              "      <td>ANDAMAN &amp; NICOBAR ISLANDS</td>\n",
              "      <td>VISHAL JOLLY</td>\n",
              "      <td>0</td>\n",
              "      <td>26</td>\n",
              "      <td>MALE</td>\n",
              "      <td>1</td>\n",
              "      <td>46.0</td>\n",
              "      <td>GENERAL</td>\n",
              "      <td>Graduate Professional</td>\n",
              "      <td>Rs 8,51,40,573\\n ~ 8 Crore+</td>\n",
              "      <td>Rs 46,33,914\\n ~ 46 Lacs+</td>\n",
              "      <td>-0.776422</td>\n",
              "      <td>318471</td>\n",
              "    </tr>\n",
              "    <tr>\n",
              "      <th>107</th>\n",
              "      <td>Andaman &amp; Nicobar Islands</td>\n",
              "      <td>ANDAMAN &amp; NICOBAR ISLANDS</td>\n",
              "      <td>PARITOSH KUMAR HALDAR</td>\n",
              "      <td>0</td>\n",
              "      <td>47</td>\n",
              "      <td>MALE</td>\n",
              "      <td>0</td>\n",
              "      <td>61.0</td>\n",
              "      <td>GENERAL</td>\n",
              "      <td>Post Graduate</td>\n",
              "      <td>Rs 1,99,16,000\\n ~ 1 Crore+</td>\n",
              "      <td>Rs 13,11,000\\n ~ 13 Lacs+</td>\n",
              "      <td>-1.123003</td>\n",
              "      <td>318471</td>\n",
              "    </tr>\n",
              "  </tbody>\n",
              "</table>\n",
              "</div>\n",
              "    <div class=\"colab-df-buttons\">\n",
              "\n",
              "  <div class=\"colab-df-container\">\n",
              "    <button class=\"colab-df-convert\" onclick=\"convertToInteractive('df-78d6f211-d737-45c6-a03b-874f730b0817')\"\n",
              "            title=\"Convert this dataframe to an interactive table.\"\n",
              "            style=\"display:none;\">\n",
              "\n",
              "  <svg xmlns=\"http://www.w3.org/2000/svg\" height=\"24px\" viewBox=\"0 -960 960 960\">\n",
              "    <path d=\"M120-120v-720h720v720H120Zm60-500h600v-160H180v160Zm220 220h160v-160H400v160Zm0 220h160v-160H400v160ZM180-400h160v-160H180v160Zm440 0h160v-160H620v160ZM180-180h160v-160H180v160Zm440 0h160v-160H620v160Z\"/>\n",
              "  </svg>\n",
              "    </button>\n",
              "\n",
              "  <style>\n",
              "    .colab-df-container {\n",
              "      display:flex;\n",
              "      gap: 12px;\n",
              "    }\n",
              "\n",
              "    .colab-df-convert {\n",
              "      background-color: #E8F0FE;\n",
              "      border: none;\n",
              "      border-radius: 50%;\n",
              "      cursor: pointer;\n",
              "      display: none;\n",
              "      fill: #1967D2;\n",
              "      height: 32px;\n",
              "      padding: 0 0 0 0;\n",
              "      width: 32px;\n",
              "    }\n",
              "\n",
              "    .colab-df-convert:hover {\n",
              "      background-color: #E2EBFA;\n",
              "      box-shadow: 0px 1px 2px rgba(60, 64, 67, 0.3), 0px 1px 3px 1px rgba(60, 64, 67, 0.15);\n",
              "      fill: #174EA6;\n",
              "    }\n",
              "\n",
              "    .colab-df-buttons div {\n",
              "      margin-bottom: 4px;\n",
              "    }\n",
              "\n",
              "    [theme=dark] .colab-df-convert {\n",
              "      background-color: #3B4455;\n",
              "      fill: #D2E3FC;\n",
              "    }\n",
              "\n",
              "    [theme=dark] .colab-df-convert:hover {\n",
              "      background-color: #434B5C;\n",
              "      box-shadow: 0px 1px 3px 1px rgba(0, 0, 0, 0.15);\n",
              "      filter: drop-shadow(0px 1px 2px rgba(0, 0, 0, 0.3));\n",
              "      fill: #FFFFFF;\n",
              "    }\n",
              "  </style>\n",
              "\n",
              "    <script>\n",
              "      const buttonEl =\n",
              "        document.querySelector('#df-78d6f211-d737-45c6-a03b-874f730b0817 button.colab-df-convert');\n",
              "      buttonEl.style.display =\n",
              "        google.colab.kernel.accessAllowed ? 'block' : 'none';\n",
              "\n",
              "      async function convertToInteractive(key) {\n",
              "        const element = document.querySelector('#df-78d6f211-d737-45c6-a03b-874f730b0817');\n",
              "        const dataTable =\n",
              "          await google.colab.kernel.invokeFunction('convertToInteractive',\n",
              "                                                    [key], {});\n",
              "        if (!dataTable) return;\n",
              "\n",
              "        const docLinkHtml = 'Like what you see? Visit the ' +\n",
              "          '<a target=\"_blank\" href=https://colab.research.google.com/notebooks/data_table.ipynb>data table notebook</a>'\n",
              "          + ' to learn more about interactive tables.';\n",
              "        element.innerHTML = '';\n",
              "        dataTable['output_type'] = 'display_data';\n",
              "        await google.colab.output.renderOutput(dataTable, element);\n",
              "        const docLink = document.createElement('div');\n",
              "        docLink.innerHTML = docLinkHtml;\n",
              "        element.appendChild(docLink);\n",
              "      }\n",
              "    </script>\n",
              "  </div>\n",
              "\n",
              "\n",
              "<div id=\"df-4c337161-bcd1-42f7-a56f-2d7d2c0cc4f4\">\n",
              "  <button class=\"colab-df-quickchart\" onclick=\"quickchart('df-4c337161-bcd1-42f7-a56f-2d7d2c0cc4f4')\"\n",
              "            title=\"Suggest charts\"\n",
              "            style=\"display:none;\">\n",
              "\n",
              "<svg xmlns=\"http://www.w3.org/2000/svg\" height=\"24px\"viewBox=\"0 0 24 24\"\n",
              "     width=\"24px\">\n",
              "    <g>\n",
              "        <path d=\"M19 3H5c-1.1 0-2 .9-2 2v14c0 1.1.9 2 2 2h14c1.1 0 2-.9 2-2V5c0-1.1-.9-2-2-2zM9 17H7v-7h2v7zm4 0h-2V7h2v10zm4 0h-2v-4h2v4z\"/>\n",
              "    </g>\n",
              "</svg>\n",
              "  </button>\n",
              "\n",
              "<style>\n",
              "  .colab-df-quickchart {\n",
              "      --bg-color: #E8F0FE;\n",
              "      --fill-color: #1967D2;\n",
              "      --hover-bg-color: #E2EBFA;\n",
              "      --hover-fill-color: #174EA6;\n",
              "      --disabled-fill-color: #AAA;\n",
              "      --disabled-bg-color: #DDD;\n",
              "  }\n",
              "\n",
              "  [theme=dark] .colab-df-quickchart {\n",
              "      --bg-color: #3B4455;\n",
              "      --fill-color: #D2E3FC;\n",
              "      --hover-bg-color: #434B5C;\n",
              "      --hover-fill-color: #FFFFFF;\n",
              "      --disabled-bg-color: #3B4455;\n",
              "      --disabled-fill-color: #666;\n",
              "  }\n",
              "\n",
              "  .colab-df-quickchart {\n",
              "    background-color: var(--bg-color);\n",
              "    border: none;\n",
              "    border-radius: 50%;\n",
              "    cursor: pointer;\n",
              "    display: none;\n",
              "    fill: var(--fill-color);\n",
              "    height: 32px;\n",
              "    padding: 0;\n",
              "    width: 32px;\n",
              "  }\n",
              "\n",
              "  .colab-df-quickchart:hover {\n",
              "    background-color: var(--hover-bg-color);\n",
              "    box-shadow: 0 1px 2px rgba(60, 64, 67, 0.3), 0 1px 3px 1px rgba(60, 64, 67, 0.15);\n",
              "    fill: var(--button-hover-fill-color);\n",
              "  }\n",
              "\n",
              "  .colab-df-quickchart-complete:disabled,\n",
              "  .colab-df-quickchart-complete:disabled:hover {\n",
              "    background-color: var(--disabled-bg-color);\n",
              "    fill: var(--disabled-fill-color);\n",
              "    box-shadow: none;\n",
              "  }\n",
              "\n",
              "  .colab-df-spinner {\n",
              "    border: 2px solid var(--fill-color);\n",
              "    border-color: transparent;\n",
              "    border-bottom-color: var(--fill-color);\n",
              "    animation:\n",
              "      spin 1s steps(1) infinite;\n",
              "  }\n",
              "\n",
              "  @keyframes spin {\n",
              "    0% {\n",
              "      border-color: transparent;\n",
              "      border-bottom-color: var(--fill-color);\n",
              "      border-left-color: var(--fill-color);\n",
              "    }\n",
              "    20% {\n",
              "      border-color: transparent;\n",
              "      border-left-color: var(--fill-color);\n",
              "      border-top-color: var(--fill-color);\n",
              "    }\n",
              "    30% {\n",
              "      border-color: transparent;\n",
              "      border-left-color: var(--fill-color);\n",
              "      border-top-color: var(--fill-color);\n",
              "      border-right-color: var(--fill-color);\n",
              "    }\n",
              "    40% {\n",
              "      border-color: transparent;\n",
              "      border-right-color: var(--fill-color);\n",
              "      border-top-color: var(--fill-color);\n",
              "    }\n",
              "    60% {\n",
              "      border-color: transparent;\n",
              "      border-right-color: var(--fill-color);\n",
              "    }\n",
              "    80% {\n",
              "      border-color: transparent;\n",
              "      border-right-color: var(--fill-color);\n",
              "      border-bottom-color: var(--fill-color);\n",
              "    }\n",
              "    90% {\n",
              "      border-color: transparent;\n",
              "      border-bottom-color: var(--fill-color);\n",
              "    }\n",
              "  }\n",
              "</style>\n",
              "\n",
              "  <script>\n",
              "    async function quickchart(key) {\n",
              "      const quickchartButtonEl =\n",
              "        document.querySelector('#' + key + ' button');\n",
              "      quickchartButtonEl.disabled = true;  // To prevent multiple clicks.\n",
              "      quickchartButtonEl.classList.add('colab-df-spinner');\n",
              "      try {\n",
              "        const charts = await google.colab.kernel.invokeFunction(\n",
              "            'suggestCharts', [key], {});\n",
              "      } catch (error) {\n",
              "        console.error('Error during call to suggestCharts:', error);\n",
              "      }\n",
              "      quickchartButtonEl.classList.remove('colab-df-spinner');\n",
              "      quickchartButtonEl.classList.add('colab-df-quickchart-complete');\n",
              "    }\n",
              "    (() => {\n",
              "      let quickchartButtonEl =\n",
              "        document.querySelector('#df-4c337161-bcd1-42f7-a56f-2d7d2c0cc4f4 button');\n",
              "      quickchartButtonEl.style.display =\n",
              "        google.colab.kernel.accessAllowed ? 'block' : 'none';\n",
              "    })();\n",
              "  </script>\n",
              "</div>\n",
              "\n",
              "    </div>\n",
              "  </div>\n"
            ]
          },
          "metadata": {},
          "execution_count": 129
        }
      ]
    },
    {
      "cell_type": "code",
      "source": [
        "print(df.shape) #original shape\n",
        "print(candidate_df.shape) #after removing some columns\n",
        "print(candidate_personal_df.shape)"
      ],
      "metadata": {
        "colab": {
          "base_uri": "https://localhost:8080/"
        },
        "id": "OiCI61vcDgGc",
        "outputId": "a925bc3a-96a7-4795-c9ee-3dcb38e6179b"
      },
      "execution_count": 38,
      "outputs": [
        {
          "output_type": "stream",
          "name": "stdout",
          "text": [
            "(2018, 19)\n",
            "(2018, 14)\n",
            "(2018, 14)\n"
          ]
        }
      ]
    },
    {
      "cell_type": "code",
      "source": [
        "print(df.shape) #original shape\n",
        "print(candidate_df.shape) #after removing some columns\n",
        "print(candidate_personal_df.shape) #after removing some rows(NOTA candidate)\n",
        "print(winner_df.shape)"
      ],
      "metadata": {
        "colab": {
          "base_uri": "https://localhost:8080/"
        },
        "id": "V4ToJ3K9Dkd0",
        "outputId": "1f8db926-77a5-48bf-c966-80f930e8aff0"
      },
      "execution_count": 39,
      "outputs": [
        {
          "output_type": "stream",
          "name": "stdout",
          "text": [
            "(2018, 19)\n",
            "(2018, 14)\n",
            "(2018, 14)\n",
            "(539, 13)\n"
          ]
        }
      ]
    },
    {
      "cell_type": "code",
      "source": [
        "plt.figure(figsize=(20,10))\n",
        "sns.set(style=\"darkgrid\")\n",
        "ax = sns.countplot(x=df_non_nota['STATE'], data=df)\n",
        "plt.title('Candidate by State')\n",
        "ax = ax.set_xticklabels(ax.get_xticklabels(),rotation=90)"
      ],
      "metadata": {
        "colab": {
          "base_uri": "https://localhost:8080/",
          "height": 1000
        },
        "id": "UWLPtoR2VsI2",
        "outputId": "0d1ea6d2-3945-45ee-ab48-196faf796602"
      },
      "execution_count": 134,
      "outputs": [
        {
          "output_type": "display_data",
          "data": {
            "text/plain": [
              "<Figure size 2000x1000 with 1 Axes>"
            ],
            "image/png": "[encoded data removed]"
          },
          "metadata": {}
        }
      ]
    },
    {
      "cell_type": "markdown",
      "source": [
        "This code generates a bar chart that shows the count of candidates in each state. The chart is made more visually appealing by adjusting the figure size and setting a dark grid style. The x-axis labels (states) are rotated for better readability. This plot provides a quick overview of the distribution of candidates across different states in a clear and concise manner."
      ],
      "metadata": {
        "id": "zq5BkLL5isEy"
      }
    },
    {
      "cell_type": "code",
      "source": [
        "plt.figure(figsize = (10,10))\n",
        "sns.heatmap(candidate_personal_df.corr(),annot = True)"
      ],
      "metadata": {
        "colab": {
          "base_uri": "https://localhost:8080/",
          "height": 853
        },
        "id": "5AFjPgjrDmwE",
        "outputId": "a82b1b2e-b756-4753-c2fc-ad021e4531c8"
      },
      "execution_count": 40,
      "outputs": [
        {
          "output_type": "execute_result",
          "data": {
            "text/plain": [
              "<Axes: >"
            ]
          },
          "metadata": {},
          "execution_count": 40
        },
        {
          "output_type": "display_data",
          "data": {
            "text/plain": [
              "<Figure size 1000x1000 with 2 Axes>"
            ],
            "image/png": "[encoded data removed]"
          },
          "metadata": {}
        }
      ]
    },
    {
      "cell_type": "markdown",
      "source": [
        "\"This code generates a heatmap to visually represent the correlation matrix of the 'candidate_personal_df' dataset. The figure size is set to 10x10 inches to ensure clarity and readability. The heatmap provides insights into the linear relationships between different variables in the dataset. The annotated values within each cell indicate the strength and direction of the correlation, aiding in the identification of potential patterns or dependencies among the personal attributes of the election candidates in the context of the 2019 General Election.\""
      ],
      "metadata": {
        "id": "yOgfEu_CcEV-"
      }
    },
    {
      "cell_type": "code",
      "source": [
        "sns.countplot(df_non_nota['EDUCATION'])"
      ],
      "metadata": {
        "colab": {
          "base_uri": "https://localhost:8080/",
          "height": 466
        },
        "id": "3N7qeAJ0A8Ad",
        "outputId": "6fa557f1-c177-4e42-f135-1799caf8085c"
      },
      "execution_count": 30,
      "outputs": [
        {
          "output_type": "execute_result",
          "data": {
            "text/plain": [
              "<Axes: xlabel='count', ylabel='EDUCATION'>"
            ]
          },
          "metadata": {},
          "execution_count": 30
        },
        {
          "output_type": "display_data",
          "data": {
            "text/plain": [
              "<Figure size 640x480 with 1 Axes>"
            ],
            "image/png": "[encoded data removed]"
          },
          "metadata": {}
        }
      ]
    },
    {
      "cell_type": "markdown",
      "source": [
        "\"This count plot visualizes the distribution of educational levels ('EDUCATION') among the observations in the 'df_non_nota' DataFrame. Each bar on the plot represents a unique education category, and the height of the bar corresponds to the count of observations belonging to that category. This visualization provides a quick and effective way to understand the educational composition within the dataset, offering insights into the prevalence of different education levels among the non-NOTA (None of the Above) instances. Analyzing this distribution can be valuable for understanding the educational diversity and patterns present in the dataset.\""
      ],
      "metadata": {
        "id": "zAT-aOiDcU0V"
      }
    },
    {
      "cell_type": "code",
      "source": [
        "st = candidate_personal_df.groupby('STATE').apply(lambda x : x['CONSTITUENCY'].nunique()).reset_index(name = 'CONSTITUENCY') #grouping state\n",
        "shp_gdf = gpd.read_file('/content/Indian_States.shp')\n",
        "merged = shp_gdf.set_index(\"st_nm\").join(st.set_index('STATE'))\n",
        "fig, ax = plt.subplots(1,figsize = (10,10))\n",
        "ax.axis('off')\n",
        "ax.set_title('State-wise Distribution of Indian Constituencies')\n",
        "fig = merged.plot(column = \"CONSTITUENCY\",cmap='inferno_r',linewidth=0.5, ax=ax, edgecolor='0.2',legend=True )\n",
        "st.sort_values(by='CONSTITUENCY',ascending=False,inplace=True)\n",
        "fig2 = px.bar(st,x = 'STATE', y = 'CONSTITUENCY',color ='CONSTITUENCY',labels= {'pop':'Costituencies of India'})\n",
        "fig2.update_layout(title_text ='Statewise distribution of constituencis all over India',template ='plotly_dark')\n",
        "fig2.show()"
      ],
      "metadata": {
        "colab": {
          "base_uri": "https://localhost:8080/",
          "height": 1000
        },
        "id": "J0wuTJHdDpNE",
        "outputId": "611e968d-b027-40ca-fcc0-d6cb3de60fbf"
      },
      "execution_count": 41,
      "outputs": [
        {
          "output_type": "display_data",
          "data": {
            "application/vnd.plotly.v1+json": {
              "data": [
                {
                  "alignmentgroup": "True",
                  "hovertemplate": "STATE=%{x}<br>CONSTITUENCY=%{marker.color}<extra></extra>",
                  "legendgroup": "",
                  "marker": {
                    "color": [
                      80,
                      48,
                      42,
                      40,
                      38,
                      29,
                      28,
                      26,
                      25,
                      25,
                      21,
                      20,
                      17,
                      14,
                      14,
                      13,
                      11,
                      10,
                      7,
                      6,
                      5,
                      4,
                      2,
                      2,
                      2,
                      2,
                      2,
                      1,
                      1,
                      1,
                      1,
                      1,
                      1,
                      1,
                      1,
                      1
                    ],
                    "coloraxis": "coloraxis",
                    "pattern": {
                      "shape": ""
                    }
                  },
                  "name": "",
                  "offsetgroup": "",
                  "orientation": "v",
                  "showlegend": false,
                  "textposition": "auto",
                  "x": [
                    "Uttar Pradesh",
                    "Maharashtra",
                    "West Bengal",
                    "Bihar",
                    "Tamil Nadu",
                    "Madhya Pradesh",
                    "Karnataka",
                    "Gujarat",
                    "Rajasthan",
                    "Andhra Pradesh",
                    "Odisha",
                    "Kerala",
                    "Telangana",
                    "Assam",
                    "Jharkhand",
                    "Punjab",
                    "Chhattisgarh",
                    "Haryana",
                    "NCT OF Delhi",
                    "Jammu & Kashmir",
                    "Uttarakhand",
                    "Himachal Pradesh",
                    "Tripura",
                    "Arunachal Pradesh",
                    "Meghalaya",
                    "Manipur",
                    "Goa",
                    "Nagaland",
                    "Puducherry",
                    "Mizoram",
                    "Dadra & Nagar Haveli",
                    "Sikkim",
                    "Chandigarh",
                    "Lakshadweep",
                    "Daman & Diu",
                    "Andaman & Nicobar Islands"
                  ],
                  "xaxis": "x",
                  "y": [
                    80,
                    48,
                    42,
                    40,
                    38,
                    29,
                    28,
                    26,
                    25,
                    25,
                    21,
                    20,
                    17,
                    14,
                    14,
                    13,
                    11,
                    10,
                    7,
                    6,
                    5,
                    4,
                    2,
                    2,
                    2,
                    2,
                    2,
                    1,
                    1,
                    1,
                    1,
                    1,
                    1,
                    1,
                    1,
                    1
                  ],
                  "yaxis": "y",
                  "type": "bar"
                }
              ],
              "layout": {
                "template": {
                  "data": {
                    "barpolar": [
                      {
                        "marker": {
                          "line": {
                            "color": "rgb(17,17,17)",
                            "width": 0.5
                          },
                          "pattern": {
                            "fillmode": "overlay",
                            "size": 10,
                            "solidity": 0.2
                          }
                        },
                        "type": "barpolar"
                      }
                    ],
                    "bar": [
                      {
                        "error_x": {
                          "color": "#f2f5fa"
                        },
                        "error_y": {
                          "color": "#f2f5fa"
                        },
                        "marker": {
                          "line": {
                            "color": "rgb(17,17,17)",
                            "width": 0.5
                          },
                          "pattern": {
                            "fillmode": "overlay",
                            "size": 10,
                            "solidity": 0.2
                          }
                        },
                        "type": "bar"
                      }
                    ],
                    "carpet": [
                      {
                        "aaxis": {
                          "endlinecolor": "#A2B1C6",
                          "gridcolor": "#506784",
                          "linecolor": "#506784",
                          "minorgridcolor": "#506784",
                          "startlinecolor": "#A2B1C6"
                        },
                        "baxis": {
                          "endlinecolor": "#A2B1C6",
                          "gridcolor": "#506784",
                          "linecolor": "#506784",
                          "minorgridcolor": "#506784",
                          "startlinecolor": "#A2B1C6"
                        },
                        "type": "carpet"
                      }
                    ],
                    "choropleth": [
                      {
                        "colorbar": {
                          "outlinewidth": 0,
                          "ticks": ""
                        },
                        "type": "choropleth"
                      }
                    ],
                    "contourcarpet": [
                      {
                        "colorbar": {
                          "outlinewidth": 0,
                          "ticks": ""
                        },
                        "type": "contourcarpet"
                      }
                    ],
                    "contour": [
                      {
                        "colorbar": {
                          "outlinewidth": 0,
                          "ticks": ""
                        },
                        "colorscale": [
                          [
                            0,
                            "#0d0887"
                          ],
                          [
                            0.1111111111111111,
                            "#46039f"
                          ],
                          [
                            0.2222222222222222,
                            "#7201a8"
                          ],
                          [
                            0.3333333333333333,
                            "#9c179e"
                          ],
                          [
                            0.4444444444444444,
                            "#bd3786"
                          ],
                          [
                            0.5555555555555556,
                            "#d8576b"
                          ],
                          [
                            0.6666666666666666,
                            "#ed7953"
                          ],
                          [
                            0.7777777777777778,
                            "#fb9f3a"
                          ],
                          [
                            0.8888888888888888,
                            "#fdca26"
                          ],
                          [
                            1,
                            "#f0f921"
                          ]
                        ],
                        "type": "contour"
                      }
                    ],
                    "heatmapgl": [
                      {
                        "colorbar": {
                          "outlinewidth": 0,
                          "ticks": ""
                        },
                        "colorscale": [
                          [
                            0,
                            "#0d0887"
                          ],
                          [
                            0.1111111111111111,
                            "#46039f"
                          ],
                          [
                            0.2222222222222222,
                            "#7201a8"
                          ],
                          [
                            0.3333333333333333,
                            "#9c179e"
                          ],
                          [
                            0.4444444444444444,
                            "#bd3786"
                          ],
                          [
                            0.5555555555555556,
                            "#d8576b"
                          ],
                          [
                            0.6666666666666666,
                            "#ed7953"
                          ],
                          [
                            0.7777777777777778,
                            "#fb9f3a"
                          ],
                          [
                            0.8888888888888888,
                            "#fdca26"
                          ],
                          [
                            1,
                            "#f0f921"
                          ]
                        ],
                        "type": "heatmapgl"
                      }
                    ],
                    "heatmap": [
                      {
                        "colorbar": {
                          "outlinewidth": 0,
                          "ticks": ""
                        },
                        "colorscale": [
                          [
                            0,
                            "#0d0887"
                          ],
                          [
                            0.1111111111111111,
                            "#46039f"
                          ],
                          [
                            0.2222222222222222,
                            "#7201a8"
                          ],
                          [
                            0.3333333333333333,
                            "#9c179e"
                          ],
                          [
                            0.4444444444444444,
                            "#bd3786"
                          ],
                          [
                            0.5555555555555556,
                            "#d8576b"
                          ],
                          [
                            0.6666666666666666,
                            "#ed7953"
                          ],
                          [
                            0.7777777777777778,
                            "#fb9f3a"
                          ],
                          [
                            0.8888888888888888,
                            "#fdca26"
                          ],
                          [
                            1,
                            "#f0f921"
                          ]
                        ],
                        "type": "heatmap"
                      }
                    ],
                    "histogram2dcontour": [
                      {
                        "colorbar": {
                          "outlinewidth": 0,
                          "ticks": ""
                        },
                        "colorscale": [
                          [
                            0,
                            "#0d0887"
                          ],
                          [
                            0.1111111111111111,
                            "#46039f"
                          ],
                          [
                            0.2222222222222222,
                            "#7201a8"
                          ],
                          [
                            0.3333333333333333,
                            "#9c179e"
                          ],
                          [
                            0.4444444444444444,
                            "#bd3786"
                          ],
                          [
                            0.5555555555555556,
                            "#d8576b"
                          ],
                          [
                            0.6666666666666666,
                            "#ed7953"
                          ],
                          [
                            0.7777777777777778,
                            "#fb9f3a"
                          ],
                          [
                            0.8888888888888888,
                            "#fdca26"
                          ],
                          [
                            1,
                            "#f0f921"
                          ]
                        ],
                        "type": "histogram2dcontour"
                      }
                    ],
                    "histogram2d": [
                      {
                        "colorbar": {
                          "outlinewidth": 0,
                          "ticks": ""
                        },
                        "colorscale": [
                          [
                            0,
                            "#0d0887"
                          ],
                          [
                            0.1111111111111111,
                            "#46039f"
                          ],
                          [
                            0.2222222222222222,
                            "#7201a8"
                          ],
                          [
                            0.3333333333333333,
                            "#9c179e"
                          ],
                          [
                            0.4444444444444444,
                            "#bd3786"
                          ],
                          [
                            0.5555555555555556,
                            "#d8576b"
                          ],
                          [
                            0.6666666666666666,
                            "#ed7953"
                          ],
                          [
                            0.7777777777777778,
                            "#fb9f3a"
                          ],
                          [
                            0.8888888888888888,
                            "#fdca26"
                          ],
                          [
                            1,
                            "#f0f921"
                          ]
                        ],
                        "type": "histogram2d"
                      }
                    ],
                    "histogram": [
                      {
                        "marker": {
                          "pattern": {
                            "fillmode": "overlay",
                            "size": 10,
                            "solidity": 0.2
                          }
                        },
                        "type": "histogram"
                      }
                    ],
                    "mesh3d": [
                      {
                        "colorbar": {
                          "outlinewidth": 0,
                          "ticks": ""
                        },
                        "type": "mesh3d"
                      }
                    ],
                    "parcoords": [
                      {
                        "line": {
                          "colorbar": {
                            "outlinewidth": 0,
                            "ticks": ""
                          }
                        },
                        "type": "parcoords"
                      }
                    ],
                    "pie": [
                      {
                        "automargin": true,
                        "type": "pie"
                      }
                    ],
                    "scatter3d": [
                      {
                        "line": {
                          "colorbar": {
                            "outlinewidth": 0,
                            "ticks": ""
                          }
                        },
                        "marker": {
                          "colorbar": {
                            "outlinewidth": 0,
                            "ticks": ""
                          }
                        },
                        "type": "scatter3d"
                      }
                    ],
                    "scattercarpet": [
                      {
                        "marker": {
                          "colorbar": {
                            "outlinewidth": 0,
                            "ticks": ""
                          }
                        },
                        "type": "scattercarpet"
                      }
                    ],
                    "scattergeo": [
                      {
                        "marker": {
                          "colorbar": {
                            "outlinewidth": 0,
                            "ticks": ""
                          }
                        },
                        "type": "scattergeo"
                      }
                    ],
                    "scattergl": [
                      {
                        "marker": {
                          "line": {
                            "color": "#283442"
                          }
                        },
                        "type": "scattergl"
                      }
                    ],
                    "scattermapbox": [
                      {
                        "marker": {
                          "colorbar": {
                            "outlinewidth": 0,
                            "ticks": ""
                          }
                        },
                        "type": "scattermapbox"
                      }
                    ],
                    "scatterpolargl": [
                      {
                        "marker": {
                          "colorbar": {
                            "outlinewidth": 0,
                            "ticks": ""
                          }
                        },
                        "type": "scatterpolargl"
                      }
                    ],
                    "scatterpolar": [
                      {
                        "marker": {
                          "colorbar": {
                            "outlinewidth": 0,
                            "ticks": ""
                          }
                        },
                        "type": "scatterpolar"
                      }
                    ],
                    "scatter": [
                      {
                        "marker": {
                          "line": {
                            "color": "#283442"
                          }
                        },
                        "type": "scatter"
                      }
                    ],
                    "scatterternary": [
                      {
                        "marker": {
                          "colorbar": {
                            "outlinewidth": 0,
                            "ticks": ""
                          }
                        },
                        "type": "scatterternary"
                      }
                    ],
                    "surface": [
                      {
                        "colorbar": {
                          "outlinewidth": 0,
                          "ticks": ""
                        },
                        "colorscale": [
                          [
                            0,
                            "#0d0887"
                          ],
                          [
                            0.1111111111111111,
                            "#46039f"
                          ],
                          [
                            0.2222222222222222,
                            "#7201a8"
                          ],
                          [
                            0.3333333333333333,
                            "#9c179e"
                          ],
                          [
                            0.4444444444444444,
                            "#bd3786"
                          ],
                          [
                            0.5555555555555556,
                            "#d8576b"
                          ],
                          [
                            0.6666666666666666,
                            "#ed7953"
                          ],
                          [
                            0.7777777777777778,
                            "#fb9f3a"
                          ],
                          [
                            0.8888888888888888,
                            "#fdca26"
                          ],
                          [
                            1,
                            "#f0f921"
                          ]
                        ],
                        "type": "surface"
                      }
                    ],
                    "table": [
                      {
                        "cells": {
                          "fill": {
                            "color": "#506784"
                          },
                          "line": {
                            "color": "rgb(17,17,17)"
                          }
                        },
                        "header": {
                          "fill": {
                            "color": "#2a3f5f"
                          },
                          "line": {
                            "color": "rgb(17,17,17)"
                          }
                        },
                        "type": "table"
                      }
                    ]
                  },
                  "layout": {
                    "annotationdefaults": {
                      "arrowcolor": "#f2f5fa",
                      "arrowhead": 0,
                      "arrowwidth": 1
                    },
                    "autotypenumbers": "strict",
                    "coloraxis": {
                      "colorbar": {
                        "outlinewidth": 0,
                        "ticks": ""
                      }
                    },
                    "colorscale": {
                      "diverging": [
                        [
                          0,
                          "#8e0152"
                        ],
                        [
                          0.1,
                          "#c51b7d"
                        ],
                        [
                          0.2,
                          "#de77ae"
                        ],
                        [
                          0.3,
                          "#f1b6da"
                        ],
                        [
                          0.4,
                          "#fde0ef"
                        ],
                        [
                          0.5,
                          "#f7f7f7"
                        ],
                        [
                          0.6,
                          "#e6f5d0"
                        ],
                        [
                          0.7,
                          "#b8e186"
                        ],
                        [
                          0.8,
                          "#7fbc41"
                        ],
                        [
                          0.9,
                          "#4d9221"
                        ],
                        [
                          1,
                          "#276419"
                        ]
                      ],
                      "sequential": [
                        [
                          0,
                          "#0d0887"
                        ],
                        [
                          0.1111111111111111,
                          "#46039f"
                        ],
                        [
                          0.2222222222222222,
                          "#7201a8"
                        ],
                        [
                          0.3333333333333333,
                          "#9c179e"
                        ],
                        [
                          0.4444444444444444,
                          "#bd3786"
                        ],
                        [
                          0.5555555555555556,
                          "#d8576b"
                        ],
                        [
                          0.6666666666666666,
                          "#ed7953"
                        ],
                        [
                          0.7777777777777778,
                          "#fb9f3a"
                        ],
                        [
                          0.8888888888888888,
                          "#fdca26"
                        ],
                        [
                          1,
                          "#f0f921"
                        ]
                      ],
                      "sequentialminus": [
                        [
                          0,
                          "#0d0887"
                        ],
                        [
                          0.1111111111111111,
                          "#46039f"
                        ],
                        [
                          0.2222222222222222,
                          "#7201a8"
                        ],
                        [
                          0.3333333333333333,
                          "#9c179e"
                        ],
                        [
                          0.4444444444444444,
                          "#bd3786"
                        ],
                        [
                          0.5555555555555556,
                          "#d8576b"
                        ],
                        [
                          0.6666666666666666,
                          "#ed7953"
                        ],
                        [
                          0.7777777777777778,
                          "#fb9f3a"
                        ],
                        [
                          0.8888888888888888,
                          "#fdca26"
                        ],
                        [
                          1,
                          "#f0f921"
                        ]
                      ]
                    },
                    "colorway": [
                      "#636efa",
                      "#EF553B",
                      "#00cc96",
                      "#ab63fa",
                      "#FFA15A",
                      "#19d3f3",
                      "#FF6692",
                      "#B6E880",
                      "#FF97FF",
                      "#FECB52"
                    ],
                    "font": {
                      "color": "#f2f5fa"
                    },
                    "geo": {
                      "bgcolor": "rgb(17,17,17)",
                      "lakecolor": "rgb(17,17,17)",
                      "landcolor": "rgb(17,17,17)",
                      "showlakes": true,
                      "showland": true,
                      "subunitcolor": "#506784"
                    },
                    "hoverlabel": {
                      "align": "left"
                    },
                    "hovermode": "closest",
                    "mapbox": {
                      "style": "dark"
                    },
                    "paper_bgcolor": "rgb(17,17,17)",
                    "plot_bgcolor": "rgb(17,17,17)",
                    "polar": {
                      "angularaxis": {
                        "gridcolor": "#506784",
                        "linecolor": "#506784",
                        "ticks": ""
                      },
                      "bgcolor": "rgb(17,17,17)",
                      "radialaxis": {
                        "gridcolor": "#506784",
                        "linecolor": "#506784",
                        "ticks": ""
                      }
                    },
                    "scene": {
                      "xaxis": {
                        "backgroundcolor": "rgb(17,17,17)",
                        "gridcolor": "#506784",
                        "gridwidth": 2,
                        "linecolor": "#506784",
                        "showbackground": true,
                        "ticks": "",
                        "zerolinecolor": "#C8D4E3"
                      },
                      "yaxis": {
                        "backgroundcolor": "rgb(17,17,17)",
                        "gridcolor": "#506784",
                        "gridwidth": 2,
                        "linecolor": "#506784",
                        "showbackground": true,
                        "ticks": "",
                        "zerolinecolor": "#C8D4E3"
                      },
                      "zaxis": {
                        "backgroundcolor": "rgb(17,17,17)",
                        "gridcolor": "#506784",
                        "gridwidth": 2,
                        "linecolor": "#506784",
                        "showbackground": true,
                        "ticks": "",
                        "zerolinecolor": "#C8D4E3"
                      }
                    },
                    "shapedefaults": {
                      "line": {
                        "color": "#f2f5fa"
                      }
                    },
                    "sliderdefaults": {
                      "bgcolor": "#C8D4E3",
                      "bordercolor": "rgb(17,17,17)",
                      "borderwidth": 1,
                      "tickwidth": 0
                    },
                    "ternary": {
                      "aaxis": {
                        "gridcolor": "#506784",
                        "linecolor": "#506784",
                        "ticks": ""
                      },
                      "baxis": {
                        "gridcolor": "#506784",
                        "linecolor": "#506784",
                        "ticks": ""
                      },
                      "bgcolor": "rgb(17,17,17)",
                      "caxis": {
                        "gridcolor": "#506784",
                        "linecolor": "#506784",
                        "ticks": ""
                      }
                    },
                    "title": {
                      "x": 0.05
                    },
                    "updatemenudefaults": {
                      "bgcolor": "#506784",
                      "borderwidth": 0
                    },
                    "xaxis": {
                      "automargin": true,
                      "gridcolor": "#283442",
                      "linecolor": "#506784",
                      "ticks": "",
                      "title": {
                        "standoff": 15
                      },
                      "zerolinecolor": "#283442",
                      "zerolinewidth": 2
                    },
                    "yaxis": {
                      "automargin": true,
                      "gridcolor": "#283442",
                      "linecolor": "#506784",
                      "ticks": "",
                      "title": {
                        "standoff": 15
                      },
                      "zerolinecolor": "#283442",
                      "zerolinewidth": 2
                    }
                  }
                },
                "xaxis": {
                  "anchor": "y",
                  "domain": [
                    0,
                    1
                  ],
                  "title": {
                    "text": "STATE"
                  }
                },
                "yaxis": {
                  "anchor": "x",
                  "domain": [
                    0,
                    1
                  ],
                  "title": {
                    "text": "CONSTITUENCY"
                  }
                },
                "coloraxis": {
                  "colorbar": {
                    "title": {
                      "text": "CONSTITUENCY"
                    }
                  },
                  "colorscale": [
                    [
                      0,
                      "#0d0887"
                    ],
                    [
                      0.1111111111111111,
                      "#46039f"
                    ],
                    [
                      0.2222222222222222,
                      "#7201a8"
                    ],
                    [
                      0.3333333333333333,
                      "#9c179e"
                    ],
                    [
                      0.4444444444444444,
                      "#bd3786"
                    ],
                    [
                      0.5555555555555556,
                      "#d8576b"
                    ],
                    [
                      0.6666666666666666,
                      "#ed7953"
                    ],
                    [
                      0.7777777777777778,
                      "#fb9f3a"
                    ],
                    [
                      0.8888888888888888,
                      "#fdca26"
                    ],
                    [
                      1,
                      "#f0f921"
                    ]
                  ]
                },
                "legend": {
                  "tracegroupgap": 0
                },
                "margin": {
                  "t": 60
                },
                "barmode": "relative",
                "title": {
                  "text": "Statewise distribution of constituencis all over India"
                }
              },
              "config": {
                "plotlyServerURL": "https://plot.ly"
              }
            },
            "text/html": [
              "<div>                            <div id=\"d3a9fc39-6f5d-4d9f-b787-8c498268e7dd\" class=\"plotly-graph-div\" style=\"height:525px; width:100%;\"></div>            <script type=\"text/javascript\">                require([\"plotly\"], function(Plotly) {                    window.PLOTLYENV=window.PLOTLYENV || {};                                    if (document.getElementById(\"d3a9fc39-6f5d-4d9f-b787-8c498268e7dd\")) {                    Plotly.newPlot(                        \"d3a9fc39-6f5d-4d9f-b787-8c498268e7dd\",                        [{\"alignmentgroup\":\"True\",\"hovertemplate\":\"STATE=%{x}\\u003cbr\\u003eCONSTITUENCY=%{marker.color}\\u003cextra\\u003e\\u003c\\u002fextra\\u003e\",\"legendgroup\":\"\",\"marker\":{\"color\":[80,48,42,40,38,29,28,26,25,25,21,20,17,14,14,13,11,10,7,6,5,4,2,2,2,2,2,1,1,1,1,1,1,1,1,1],\"coloraxis\":\"coloraxis\",\"pattern\":{\"shape\":\"\"}},\"name\":\"\",\"offsetgroup\":\"\",\"orientation\":\"v\",\"showlegend\":false,\"textposition\":\"auto\",\"x\":[\"Uttar Pradesh\",\"Maharashtra\",\"West Bengal\",\"Bihar\",\"Tamil Nadu\",\"Madhya Pradesh\",\"Karnataka\",\"Gujarat\",\"Rajasthan\",\"Andhra Pradesh\",\"Odisha\",\"Kerala\",\"Telangana\",\"Assam\",\"Jharkhand\",\"Punjab\",\"Chhattisgarh\",\"Haryana\",\"NCT OF Delhi\",\"Jammu & Kashmir\",\"Uttarakhand\",\"Himachal Pradesh\",\"Tripura\",\"Arunachal Pradesh\",\"Meghalaya\",\"Manipur\",\"Goa\",\"Nagaland\",\"Puducherry\",\"Mizoram\",\"Dadra & Nagar Haveli\",\"Sikkim\",\"Chandigarh\",\"Lakshadweep\",\"Daman & Diu\",\"Andaman & Nicobar Islands\"],\"xaxis\":\"x\",\"y\":[80,48,42,40,38,29,28,26,25,25,21,20,17,14,14,13,11,10,7,6,5,4,2,2,2,2,2,1,1,1,1,1,1,1,1,1],\"yaxis\":\"y\",\"type\":\"bar\"}],                        {\"template\":{\"data\":{\"barpolar\":[{\"marker\":{\"line\":{\"color\":\"rgb(17,17,17)\",\"width\":0.5},\"pattern\":{\"fillmode\":\"overlay\",\"size\":10,\"solidity\":0.2}},\"type\":\"barpolar\"}],\"bar\":[{\"error_x\":{\"color\":\"#f2f5fa\"},\"error_y\":{\"color\":\"#f2f5fa\"},\"marker\":{\"line\":{\"color\":\"rgb(17,17,17)\",\"width\":0.5},\"pattern\":{\"fillmode\":\"overlay\",\"size\":10,\"solidity\":0.2}},\"type\":\"bar\"}],\"carpet\":[{\"aaxis\":{\"endlinecolor\":\"#A2B1C6\",\"gridcolor\":\"#506784\",\"linecolor\":\"#506784\",\"minorgridcolor\":\"#506784\",\"startlinecolor\":\"#A2B1C6\"},\"baxis\":{\"endlinecolor\":\"#A2B1C6\",\"gridcolor\":\"#506784\",\"linecolor\":\"#506784\",\"minorgridcolor\":\"#506784\",\"startlinecolor\":\"#A2B1C6\"},\"type\":\"carpet\"}],\"choropleth\":[{\"colorbar\":{\"outlinewidth\":0,\"ticks\":\"\"},\"type\":\"choropleth\"}],\"contourcarpet\":[{\"colorbar\":{\"outlinewidth\":0,\"ticks\":\"\"},\"type\":\"contourcarpet\"}],\"contour\":[{\"colorbar\":{\"outlinewidth\":0,\"ticks\":\"\"},\"colorscale\":[[0.0,\"#0d0887\"],[0.1111111111111111,\"#46039f\"],[0.2222222222222222,\"#7201a8\"],[0.3333333333333333,\"#9c179e\"],[0.4444444444444444,\"#bd3786\"],[0.5555555555555556,\"#d8576b\"],[0.6666666666666666,\"#ed7953\"],[0.7777777777777778,\"#fb9f3a\"],[0.8888888888888888,\"#fdca26\"],[1.0,\"#f0f921\"]],\"type\":\"contour\"}],\"heatmapgl\":[{\"colorbar\":{\"outlinewidth\":0,\"ticks\":\"\"},\"colorscale\":[[0.0,\"#0d0887\"],[0.1111111111111111,\"#46039f\"],[0.2222222222222222,\"#7201a8\"],[0.3333333333333333,\"#9c179e\"],[0.4444444444444444,\"#bd3786\"],[0.5555555555555556,\"#d8576b\"],[0.6666666666666666,\"#ed7953\"],[0.7777777777777778,\"#fb9f3a\"],[0.8888888888888888,\"#fdca26\"],[1.0,\"#f0f921\"]],\"type\":\"heatmapgl\"}],\"heatmap\":[{\"colorbar\":{\"outlinewidth\":0,\"ticks\":\"\"},\"colorscale\":[[0.0,\"#0d0887\"],[0.1111111111111111,\"#46039f\"],[0.2222222222222222,\"#7201a8\"],[0.3333333333333333,\"#9c179e\"],[0.4444444444444444,\"#bd3786\"],[0.5555555555555556,\"#d8576b\"],[0.6666666666666666,\"#ed7953\"],[0.7777777777777778,\"#fb9f3a\"],[0.8888888888888888,\"#fdca26\"],[1.0,\"#f0f921\"]],\"type\":\"heatmap\"}],\"histogram2dcontour\":[{\"colorbar\":{\"outlinewidth\":0,\"ticks\":\"\"},\"colorscale\":[[0.0,\"#0d0887\"],[0.1111111111111111,\"#46039f\"],[0.2222222222222222,\"#7201a8\"],[0.3333333333333333,\"#9c179e\"],[0.4444444444444444,\"#bd3786\"],[0.5555555555555556,\"#d8576b\"],[0.6666666666666666,\"#ed7953\"],[0.7777777777777778,\"#fb9f3a\"],[0.8888888888888888,\"#fdca26\"],[1.0,\"#f0f921\"]],\"type\":\"histogram2dcontour\"}],\"histogram2d\":[{\"colorbar\":{\"outlinewidth\":0,\"ticks\":\"\"},\"colorscale\":[[0.0,\"#0d0887\"],[0.1111111111111111,\"#46039f\"],[0.2222222222222222,\"#7201a8\"],[0.3333333333333333,\"#9c179e\"],[0.4444444444444444,\"#bd3786\"],[0.5555555555555556,\"#d8576b\"],[0.6666666666666666,\"#ed7953\"],[0.7777777777777778,\"#fb9f3a\"],[0.8888888888888888,\"#fdca26\"],[1.0,\"#f0f921\"]],\"type\":\"histogram2d\"}],\"histogram\":[{\"marker\":{\"pattern\":{\"fillmode\":\"overlay\",\"size\":10,\"solidity\":0.2}},\"type\":\"histogram\"}],\"mesh3d\":[{\"colorbar\":{\"outlinewidth\":0,\"ticks\":\"\"},\"type\":\"mesh3d\"}],\"parcoords\":[{\"line\":{\"colorbar\":{\"outlinewidth\":0,\"ticks\":\"\"}},\"type\":\"parcoords\"}],\"pie\":[{\"automargin\":true,\"type\":\"pie\"}],\"scatter3d\":[{\"line\":{\"colorbar\":{\"outlinewidth\":0,\"ticks\":\"\"}},\"marker\":{\"colorbar\":{\"outlinewidth\":0,\"ticks\":\"\"}},\"type\":\"scatter3d\"}],\"scattercarpet\":[{\"marker\":{\"colorbar\":{\"outlinewidth\":0,\"ticks\":\"\"}},\"type\":\"scattercarpet\"}],\"scattergeo\":[{\"marker\":{\"colorbar\":{\"outlinewidth\":0,\"ticks\":\"\"}},\"type\":\"scattergeo\"}],\"scattergl\":[{\"marker\":{\"line\":{\"color\":\"#283442\"}},\"type\":\"scattergl\"}],\"scattermapbox\":[{\"marker\":{\"colorbar\":{\"outlinewidth\":0,\"ticks\":\"\"}},\"type\":\"scattermapbox\"}],\"scatterpolargl\":[{\"marker\":{\"colorbar\":{\"outlinewidth\":0,\"ticks\":\"\"}},\"type\":\"scatterpolargl\"}],\"scatterpolar\":[{\"marker\":{\"colorbar\":{\"outlinewidth\":0,\"ticks\":\"\"}},\"type\":\"scatterpolar\"}],\"scatter\":[{\"marker\":{\"line\":{\"color\":\"#283442\"}},\"type\":\"scatter\"}],\"scatterternary\":[{\"marker\":{\"colorbar\":{\"outlinewidth\":0,\"ticks\":\"\"}},\"type\":\"scatterternary\"}],\"surface\":[{\"colorbar\":{\"outlinewidth\":0,\"ticks\":\"\"},\"colorscale\":[[0.0,\"#0d0887\"],[0.1111111111111111,\"#46039f\"],[0.2222222222222222,\"#7201a8\"],[0.3333333333333333,\"#9c179e\"],[0.4444444444444444,\"#bd3786\"],[0.5555555555555556,\"#d8576b\"],[0.6666666666666666,\"#ed7953\"],[0.7777777777777778,\"#fb9f3a\"],[0.8888888888888888,\"#fdca26\"],[1.0,\"#f0f921\"]],\"type\":\"surface\"}],\"table\":[{\"cells\":{\"fill\":{\"color\":\"#506784\"},\"line\":{\"color\":\"rgb(17,17,17)\"}},\"header\":{\"fill\":{\"color\":\"#2a3f5f\"},\"line\":{\"color\":\"rgb(17,17,17)\"}},\"type\":\"table\"}]},\"layout\":{\"annotationdefaults\":{\"arrowcolor\":\"#f2f5fa\",\"arrowhead\":0,\"arrowwidth\":1},\"autotypenumbers\":\"strict\",\"coloraxis\":{\"colorbar\":{\"outlinewidth\":0,\"ticks\":\"\"}},\"colorscale\":{\"diverging\":[[0,\"#8e0152\"],[0.1,\"#c51b7d\"],[0.2,\"#de77ae\"],[0.3,\"#f1b6da\"],[0.4,\"#fde0ef\"],[0.5,\"#f7f7f7\"],[0.6,\"#e6f5d0\"],[0.7,\"#b8e186\"],[0.8,\"#7fbc41\"],[0.9,\"#4d9221\"],[1,\"#276419\"]],\"sequential\":[[0.0,\"#0d0887\"],[0.1111111111111111,\"#46039f\"],[0.2222222222222222,\"#7201a8\"],[0.3333333333333333,\"#9c179e\"],[0.4444444444444444,\"#bd3786\"],[0.5555555555555556,\"#d8576b\"],[0.6666666666666666,\"#ed7953\"],[0.7777777777777778,\"#fb9f3a\"],[0.8888888888888888,\"#fdca26\"],[1.0,\"#f0f921\"]],\"sequentialminus\":[[0.0,\"#0d0887\"],[0.1111111111111111,\"#46039f\"],[0.2222222222222222,\"#7201a8\"],[0.3333333333333333,\"#9c179e\"],[0.4444444444444444,\"#bd3786\"],[0.5555555555555556,\"#d8576b\"],[0.6666666666666666,\"#ed7953\"],[0.7777777777777778,\"#fb9f3a\"],[0.8888888888888888,\"#fdca26\"],[1.0,\"#f0f921\"]]},\"colorway\":[\"#636efa\",\"#EF553B\",\"#00cc96\",\"#ab63fa\",\"#FFA15A\",\"#19d3f3\",\"#FF6692\",\"#B6E880\",\"#FF97FF\",\"#FECB52\"],\"font\":{\"color\":\"#f2f5fa\"},\"geo\":{\"bgcolor\":\"rgb(17,17,17)\",\"lakecolor\":\"rgb(17,17,17)\",\"landcolor\":\"rgb(17,17,17)\",\"showlakes\":true,\"showland\":true,\"subunitcolor\":\"#506784\"},\"hoverlabel\":{\"align\":\"left\"},\"hovermode\":\"closest\",\"mapbox\":{\"style\":\"dark\"},\"paper_bgcolor\":\"rgb(17,17,17)\",\"plot_bgcolor\":\"rgb(17,17,17)\",\"polar\":{\"angularaxis\":{\"gridcolor\":\"#506784\",\"linecolor\":\"#506784\",\"ticks\":\"\"},\"bgcolor\":\"rgb(17,17,17)\",\"radialaxis\":{\"gridcolor\":\"#506784\",\"linecolor\":\"#506784\",\"ticks\":\"\"}},\"scene\":{\"xaxis\":{\"backgroundcolor\":\"rgb(17,17,17)\",\"gridcolor\":\"#506784\",\"gridwidth\":2,\"linecolor\":\"#506784\",\"showbackground\":true,\"ticks\":\"\",\"zerolinecolor\":\"#C8D4E3\"},\"yaxis\":{\"backgroundcolor\":\"rgb(17,17,17)\",\"gridcolor\":\"#506784\",\"gridwidth\":2,\"linecolor\":\"#506784\",\"showbackground\":true,\"ticks\":\"\",\"zerolinecolor\":\"#C8D4E3\"},\"zaxis\":{\"backgroundcolor\":\"rgb(17,17,17)\",\"gridcolor\":\"#506784\",\"gridwidth\":2,\"linecolor\":\"#506784\",\"showbackground\":true,\"ticks\":\"\",\"zerolinecolor\":\"#C8D4E3\"}},\"shapedefaults\":{\"line\":{\"color\":\"#f2f5fa\"}},\"sliderdefaults\":{\"bgcolor\":\"#C8D4E3\",\"bordercolor\":\"rgb(17,17,17)\",\"borderwidth\":1,\"tickwidth\":0},\"ternary\":{\"aaxis\":{\"gridcolor\":\"#506784\",\"linecolor\":\"#506784\",\"ticks\":\"\"},\"baxis\":{\"gridcolor\":\"#506784\",\"linecolor\":\"#506784\",\"ticks\":\"\"},\"bgcolor\":\"rgb(17,17,17)\",\"caxis\":{\"gridcolor\":\"#506784\",\"linecolor\":\"#506784\",\"ticks\":\"\"}},\"title\":{\"x\":0.05},\"updatemenudefaults\":{\"bgcolor\":\"#506784\",\"borderwidth\":0},\"xaxis\":{\"automargin\":true,\"gridcolor\":\"#283442\",\"linecolor\":\"#506784\",\"ticks\":\"\",\"title\":{\"standoff\":15},\"zerolinecolor\":\"#283442\",\"zerolinewidth\":2},\"yaxis\":{\"automargin\":true,\"gridcolor\":\"#283442\",\"linecolor\":\"#506784\",\"ticks\":\"\",\"title\":{\"standoff\":15},\"zerolinecolor\":\"#283442\",\"zerolinewidth\":2}}},\"xaxis\":{\"anchor\":\"y\",\"domain\":[0.0,1.0],\"title\":{\"text\":\"STATE\"}},\"yaxis\":{\"anchor\":\"x\",\"domain\":[0.0,1.0],\"title\":{\"text\":\"CONSTITUENCY\"}},\"coloraxis\":{\"colorbar\":{\"title\":{\"text\":\"CONSTITUENCY\"}},\"colorscale\":[[0.0,\"#0d0887\"],[0.1111111111111111,\"#46039f\"],[0.2222222222222222,\"#7201a8\"],[0.3333333333333333,\"#9c179e\"],[0.4444444444444444,\"#bd3786\"],[0.5555555555555556,\"#d8576b\"],[0.6666666666666666,\"#ed7953\"],[0.7777777777777778,\"#fb9f3a\"],[0.8888888888888888,\"#fdca26\"],[1.0,\"#f0f921\"]]},\"legend\":{\"tracegroupgap\":0},\"margin\":{\"t\":60},\"barmode\":\"relative\",\"title\":{\"text\":\"Statewise distribution of constituencis all over India\"}},                        {\"responsive\": true}                    ).then(function(){\n",
              "                            \n",
              "var gd = document.getElementById('d3a9fc39-6f5d-4d9f-b787-8c498268e7dd');\n",
              "var x = new MutationObserver(function (mutations, observer) {{\n",
              "        var display = window.getComputedStyle(gd).display;\n",
              "        if (!display || display === 'none') {{\n",
              "            console.log([gd, 'removed!']);\n",
              "            Plotly.purge(gd);\n",
              "            observer.disconnect();\n",
              "        }}\n",
              "}});\n",
              "\n",
              "// Listen for the removal of the full notebook cells\n",
              "var notebookContainer = gd.closest('#notebook-container');\n",
              "if (notebookContainer) {{\n",
              "    x.observe(notebookContainer, {childList: true});\n",
              "}}\n",
              "\n",
              "// Listen for the clearing of the current output cell\n",
              "var outputEl = gd.closest('.output');\n",
              "if (outputEl) {{\n",
              "    x.observe(outputEl, {childList: true});\n",
              "}}\n",
              "\n",
              "                        })                };                });            </script>        </div>"
            ]
          },
          "metadata": {}
        },
        {
          "output_type": "display_data",
          "data": {
            "text/plain": [
              "<Figure size 1000x1000 with 2 Axes>"
            ],
            "image/png": "[encoded data removed]"
          },
          "metadata": {}
        }
      ]
    },
    {
      "cell_type": "markdown",
      "source": [
        "\"This code combines geospatial and bar chart visualizations to depict the state-wise distribution of constituencies in India. The GeoPandas library is used to merge constituency count data with the geographical shapefile of Indian states. The resulting geospatial plot showcases the distribution of constituencies across states using a color gradient. Additionally, a Plotly bar chart is generated to provide an interactive representation of the same information, allowing for a more detailed exploration of the constituency counts in each state. This comprehensive visualization aids in understanding the variations in the number of constituencies across different states in India.\""
      ],
      "metadata": {
        "id": "cseeeDPJcjSn"
      }
    },
    {
      "cell_type": "code",
      "source": [
        "%matplotlib inline\n",
        "import plotly.express as px\n",
        "sns.histplot(data = candidate_personal_df, x= 'CATEGORY',bins = np.arange(0,50,10),color = 'indigo',alpha = 0.5,kde = True)\n",
        "sns.histplot(data = winner_df, x= 'CATEGORY',bins = np.arange(0,50,10),color ='lightgreen',alpha = 1,kde = True)"
      ],
      "metadata": {
        "colab": {
          "base_uri": "https://localhost:8080/",
          "height": 466
        },
        "id": "sYR7rYu_DxIF",
        "outputId": "79e70b0a-07df-42c0-d87a-d73194e29664"
      },
      "execution_count": 42,
      "outputs": [
        {
          "output_type": "execute_result",
          "data": {
            "text/plain": [
              "<Axes: xlabel='CATEGORY', ylabel='Count'>"
            ]
          },
          "metadata": {},
          "execution_count": 42
        },
        {
          "output_type": "display_data",
          "data": {
            "text/plain": [
              "<Figure size 640x480 with 1 Axes>"
            ],
            "image/png": "[encoded data removed]"
          },
          "metadata": {}
        }
      ]
    },
    {
      "cell_type": "markdown",
      "source": [
        "\"This code generates overlaid histograms comparing the distribution of the 'CATEGORY' variable in two datasets, 'candidate_personal_df' and 'winner_df'. The indigo-colored histogram represents the distribution in the 'candidate_personal_df' dataset, while the light green-colored histogram corresponds to the 'winner_df' dataset. The histograms are created using Seaborn, with transparency (alpha) applied for visual clarity. Kernel density estimation (KDE) curves are included to provide a smooth representation of the probability density function for each dataset. This visualization allows for a quick comparison of the 'CATEGORY' variable between the overall candidates and the winners, providing insights into potential differences or patterns in the distribution of categories in the context of the General Election dataset.\""
      ],
      "metadata": {
        "id": "kxRwYphAc5mx"
      }
    },
    {
      "cell_type": "code",
      "source": [
        "plt.figure(figsize = (20,10)) #for figsize\n",
        "plt.title(\"Age of Candidate contested and won\") #for title\n",
        "plt.xlabel('Age') #for x axis label\n",
        "plt.ylabel(\"Number of candidates\") #for y axis label\n",
        "\n",
        "sns.histplot(data = candidate_personal_df, x= 'AGE',bins = np.arange(20,100,5),color = 'indigo',alpha = 0.5) #histogram\n",
        "sns.histplot(data = winner_df, x= 'AGE',bins = np.arange(20,100,5),color ='lightgreen',alpha = 1) #histogram\n",
        "\n",
        "plt.legend(['Candidates Contested','Candidate Won']) #for legend\n",
        "\n",
        "plt.text(85,238,\"All Candidates\") #marking\n",
        "plt.figtext(0.77,0.63, round(candidate_personal_df.describe().AGE[['mean','min','max']],2).to_string())\n",
        "\n",
        "plt.text(85,185,\"Winning Candidates:\")\n",
        "plt.figtext(0.77,0.5, round(winner_df.describe().AGE[['mean','min','max']],2).to_string())"
      ],
      "metadata": {
        "colab": {
          "base_uri": "https://localhost:8080/",
          "height": 889
        },
        "id": "zl7y19DZD19E",
        "outputId": "061616d4-b22b-4168-b0cf-589da506b302"
      },
      "execution_count": 43,
      "outputs": [
        {
          "output_type": "execute_result",
          "data": {
            "text/plain": [
              "Text(0.77, 0.5, 'mean    54.44\\nmin     26.00\\nmax     86.00')"
            ]
          },
          "metadata": {},
          "execution_count": 43
        },
        {
          "output_type": "display_data",
          "data": {
            "text/plain": [
              "<Figure size 2000x1000 with 1 Axes>"
            ],
            "image/png": "[encoded data removed]"
          },
          "metadata": {}
        }
      ]
    },
    {
      "cell_type": "markdown",
      "source": [
        "\"This code generates an overlaid histogram comparing the age distribution of candidates who contested and those who won in the General Election. The indigo-colored histogram represents all candidates who contested, while the light green-colored histogram represents winning candidates. The plot provides insights into the age demographics of the candidate pool, with additional statistical information such as mean, minimum, and maximum ages displayed. The visualization offers a comparative perspective on the age distribution between all candidates and the subset of candidates who emerged victorious in the election.\""
      ],
      "metadata": {
        "id": "WeTDULBWdJFc"
      }
    },
    {
      "cell_type": "markdown",
      "source": [
        "**SPLITTING DATA INTO TRAIN AND TEST SET**"
      ],
      "metadata": {
        "id": "v_gDDS0UPYtV"
      }
    },
    {
      "cell_type": "code",
      "source": [
        "X=df.drop(['WINNER','NAME','SYMBOL'],axis=1)\n",
        "y=df['WINNER']"
      ],
      "metadata": {
        "id": "4YlQIjkgD-JU"
      },
      "execution_count": 45,
      "outputs": []
    },
    {
      "cell_type": "code",
      "source": [
        "from sklearn.model_selection import train_test_split\n",
        "X_train, X_test, y_train, y_test = train_test_split(X, y ,test_size=0.33, random_state=42)"
      ],
      "metadata": {
        "id": "Vs_Ij54LEAcs"
      },
      "execution_count": 46,
      "outputs": []
    },
    {
      "cell_type": "markdown",
      "source": [
        "**Train and Test the Model**"
      ],
      "metadata": {
        "id": "Smvg96G4PUdl"
      }
    },
    {
      "cell_type": "code",
      "source": [
        "from keras.models import Sequential\n",
        "from keras.layers import Dense\n",
        "\n",
        "model1 = Sequential()\n",
        "model1.add(Dense(32,activation = 'relu', input_shape= (18,)))\n",
        "model1.add(Dense(32,activation = 'relu'))\n",
        "model1.add(Dense(1, activation = 'sigmoid'))\n",
        "\n",
        "model1.compile(optimizer = 'sgd', loss = 'binary_crossentropy', metrics=['accuracy'])\n",
        "hist1 = model1.fit(X_train, Y_train,\n",
        "                  batch_size=32, epochs=200, validation_data=(X_val, Y_val))"
      ],
      "metadata": {
        "colab": {
          "base_uri": "https://localhost:8080/"
        },
        "id": "lkHnnF3_Gexz",
        "outputId": "5768718e-c66e-46fd-a5eb-b0a93751f6e0"
      },
      "execution_count": 95,
      "outputs": [
        {
          "output_type": "stream",
          "name": "stdout",
          "text": [
            "Epoch 1/200\n",
            "46/46 [==============================] - 2s 19ms/step - loss: 152783814656000.0000 - accuracy: 0.7266 - val_loss: 0.6721 - val_accuracy: 0.7284\n",
            "Epoch 2/200\n",
            "46/46 [==============================] - 1s 13ms/step - loss: 0.6623 - accuracy: 0.7348 - val_loss: 0.6545 - val_accuracy: 0.7284\n",
            "Epoch 3/200\n",
            "46/46 [==============================] - 0s 4ms/step - loss: 0.6461 - accuracy: 0.7348 - val_loss: 0.6404 - val_accuracy: 0.7284\n",
            "Epoch 4/200\n",
            "46/46 [==============================] - 0s 4ms/step - loss: 0.6329 - accuracy: 0.7348 - val_loss: 0.6294 - val_accuracy: 0.7284\n",
            "Epoch 5/200\n",
            "46/46 [==============================] - 0s 3ms/step - loss: 0.6226 - accuracy: 0.7348 - val_loss: 0.6206 - val_accuracy: 0.7284\n",
            "Epoch 6/200\n",
            "46/46 [==============================] - 0s 3ms/step - loss: 0.6143 - accuracy: 0.7348 - val_loss: 0.6134 - val_accuracy: 0.7284\n",
            "Epoch 7/200\n",
            "46/46 [==============================] - 0s 3ms/step - loss: 0.6074 - accuracy: 0.7348 - val_loss: 0.6078 - val_accuracy: 0.7284\n",
            "Epoch 8/200\n",
            "46/46 [==============================] - 0s 3ms/step - loss: 0.6021 - accuracy: 0.7348 - val_loss: 0.6033 - val_accuracy: 0.7284\n",
            "Epoch 9/200\n",
            "46/46 [==============================] - 0s 3ms/step - loss: 0.5977 - accuracy: 0.7348 - val_loss: 0.5997 - val_accuracy: 0.7284\n",
            "Epoch 10/200\n",
            "46/46 [==============================] - 0s 3ms/step - loss: 0.5943 - accuracy: 0.7348 - val_loss: 0.5968 - val_accuracy: 0.7284\n",
            "Epoch 11/200\n",
            "46/46 [==============================] - 0s 3ms/step - loss: 0.5914 - accuracy: 0.7348 - val_loss: 0.5945 - val_accuracy: 0.7284\n",
            "Epoch 12/200\n",
            "46/46 [==============================] - 0s 3ms/step - loss: 0.5891 - accuracy: 0.7348 - val_loss: 0.5926 - val_accuracy: 0.7284\n",
            "Epoch 13/200\n",
            "46/46 [==============================] - 0s 3ms/step - loss: 0.5872 - accuracy: 0.7348 - val_loss: 0.5911 - val_accuracy: 0.7284\n",
            "Epoch 14/200\n",
            "46/46 [==============================] - 0s 3ms/step - loss: 0.5856 - accuracy: 0.7348 - val_loss: 0.5899 - val_accuracy: 0.7284\n",
            "Epoch 15/200\n",
            "46/46 [==============================] - 0s 3ms/step - loss: 0.5844 - accuracy: 0.7348 - val_loss: 0.5888 - val_accuracy: 0.7284\n",
            "Epoch 16/200\n",
            "46/46 [==============================] - 0s 3ms/step - loss: 0.5833 - accuracy: 0.7348 - val_loss: 0.5880 - val_accuracy: 0.7284\n",
            "Epoch 17/200\n",
            "46/46 [==============================] - 0s 3ms/step - loss: 0.5825 - accuracy: 0.7348 - val_loss: 0.5875 - val_accuracy: 0.7284\n",
            "Epoch 18/200\n",
            "46/46 [==============================] - 0s 3ms/step - loss: 0.5819 - accuracy: 0.7348 - val_loss: 0.5869 - val_accuracy: 0.7284\n",
            "Epoch 19/200\n",
            "46/46 [==============================] - 0s 3ms/step - loss: 0.5813 - accuracy: 0.7348 - val_loss: 0.5865 - val_accuracy: 0.7284\n",
            "Epoch 20/200\n",
            "46/46 [==============================] - 0s 3ms/step - loss: 0.5807 - accuracy: 0.7348 - val_loss: 0.5862 - val_accuracy: 0.7284\n",
            "Epoch 21/200\n",
            "46/46 [==============================] - 0s 3ms/step - loss: 0.5804 - accuracy: 0.7348 - val_loss: 0.5859 - val_accuracy: 0.7284\n",
            "Epoch 22/200\n",
            "46/46 [==============================] - 0s 3ms/step - loss: 0.5800 - accuracy: 0.7348 - val_loss: 0.5856 - val_accuracy: 0.7284\n",
            "Epoch 23/200\n",
            "46/46 [==============================] - 0s 3ms/step - loss: 0.5797 - accuracy: 0.7348 - val_loss: 0.5854 - val_accuracy: 0.7284\n",
            "Epoch 24/200\n",
            "46/46 [==============================] - 0s 3ms/step - loss: 0.5795 - accuracy: 0.7348 - val_loss: 0.5853 - val_accuracy: 0.7284\n",
            "Epoch 25/200\n",
            "46/46 [==============================] - 0s 3ms/step - loss: 0.5793 - accuracy: 0.7348 - val_loss: 0.5852 - val_accuracy: 0.7284\n",
            "Epoch 26/200\n",
            "46/46 [==============================] - 0s 3ms/step - loss: 0.5792 - accuracy: 0.7348 - val_loss: 0.5851 - val_accuracy: 0.7284\n",
            "Epoch 27/200\n",
            "46/46 [==============================] - 0s 3ms/step - loss: 0.5790 - accuracy: 0.7348 - val_loss: 0.5850 - val_accuracy: 0.7284\n",
            "Epoch 28/200\n",
            "46/46 [==============================] - 0s 2ms/step - loss: 0.5789 - accuracy: 0.7348 - val_loss: 0.5850 - val_accuracy: 0.7284\n",
            "Epoch 29/200\n",
            "46/46 [==============================] - 0s 3ms/step - loss: 0.5788 - accuracy: 0.7348 - val_loss: 0.5850 - val_accuracy: 0.7284\n",
            "Epoch 30/200\n",
            "46/46 [==============================] - 0s 3ms/step - loss: 0.5788 - accuracy: 0.7348 - val_loss: 0.5849 - val_accuracy: 0.7284\n",
            "Epoch 31/200\n",
            "46/46 [==============================] - 0s 3ms/step - loss: 0.5787 - accuracy: 0.7348 - val_loss: 0.5849 - val_accuracy: 0.7284\n",
            "Epoch 32/200\n",
            "46/46 [==============================] - 0s 3ms/step - loss: 0.5787 - accuracy: 0.7348 - val_loss: 0.5849 - val_accuracy: 0.7284\n",
            "Epoch 33/200\n",
            "46/46 [==============================] - 0s 3ms/step - loss: 0.5786 - accuracy: 0.7348 - val_loss: 0.5849 - val_accuracy: 0.7284\n",
            "Epoch 34/200\n",
            "46/46 [==============================] - 0s 3ms/step - loss: 0.5786 - accuracy: 0.7348 - val_loss: 0.5849 - val_accuracy: 0.7284\n",
            "Epoch 35/200\n",
            "46/46 [==============================] - 0s 3ms/step - loss: 0.5786 - accuracy: 0.7348 - val_loss: 0.5849 - val_accuracy: 0.7284\n",
            "Epoch 36/200\n",
            "46/46 [==============================] - 0s 3ms/step - loss: 0.5785 - accuracy: 0.7348 - val_loss: 0.5848 - val_accuracy: 0.7284\n",
            "Epoch 37/200\n",
            "46/46 [==============================] - 0s 3ms/step - loss: 0.5785 - accuracy: 0.7348 - val_loss: 0.5848 - val_accuracy: 0.7284\n",
            "Epoch 38/200\n",
            "46/46 [==============================] - 0s 3ms/step - loss: 0.5785 - accuracy: 0.7348 - val_loss: 0.5848 - val_accuracy: 0.7284\n",
            "Epoch 39/200\n",
            "46/46 [==============================] - 0s 3ms/step - loss: 0.5785 - accuracy: 0.7348 - val_loss: 0.5849 - val_accuracy: 0.7284\n",
            "Epoch 40/200\n",
            "46/46 [==============================] - 0s 5ms/step - loss: 0.5785 - accuracy: 0.7348 - val_loss: 0.5849 - val_accuracy: 0.7284\n",
            "Epoch 41/200\n",
            "46/46 [==============================] - 0s 4ms/step - loss: 0.5785 - accuracy: 0.7348 - val_loss: 0.5849 - val_accuracy: 0.7284\n",
            "Epoch 42/200\n",
            "46/46 [==============================] - 0s 4ms/step - loss: 0.5784 - accuracy: 0.7348 - val_loss: 0.5849 - val_accuracy: 0.7284\n",
            "Epoch 43/200\n",
            "46/46 [==============================] - 0s 3ms/step - loss: 0.5784 - accuracy: 0.7348 - val_loss: 0.5849 - val_accuracy: 0.7284\n",
            "Epoch 44/200\n",
            "46/46 [==============================] - 0s 4ms/step - loss: 0.5784 - accuracy: 0.7348 - val_loss: 0.5849 - val_accuracy: 0.7284\n",
            "Epoch 45/200\n",
            "46/46 [==============================] - 0s 4ms/step - loss: 0.5784 - accuracy: 0.7348 - val_loss: 0.5849 - val_accuracy: 0.7284\n",
            "Epoch 46/200\n",
            "46/46 [==============================] - 0s 5ms/step - loss: 0.5784 - accuracy: 0.7348 - val_loss: 0.5849 - val_accuracy: 0.7284\n",
            "Epoch 47/200\n",
            "46/46 [==============================] - 0s 4ms/step - loss: 0.5784 - accuracy: 0.7348 - val_loss: 0.5849 - val_accuracy: 0.7284\n",
            "Epoch 48/200\n",
            "46/46 [==============================] - 0s 5ms/step - loss: 0.5784 - accuracy: 0.7348 - val_loss: 0.5849 - val_accuracy: 0.7284\n",
            "Epoch 49/200\n",
            "46/46 [==============================] - 0s 4ms/step - loss: 0.5784 - accuracy: 0.7348 - val_loss: 0.5849 - val_accuracy: 0.7284\n",
            "Epoch 50/200\n",
            "46/46 [==============================] - 0s 5ms/step - loss: 0.5784 - accuracy: 0.7348 - val_loss: 0.5849 - val_accuracy: 0.7284\n",
            "Epoch 51/200\n",
            "46/46 [==============================] - 0s 3ms/step - loss: 0.5784 - accuracy: 0.7348 - val_loss: 0.5849 - val_accuracy: 0.7284\n",
            "Epoch 52/200\n",
            "46/46 [==============================] - 0s 3ms/step - loss: 0.5784 - accuracy: 0.7348 - val_loss: 0.5849 - val_accuracy: 0.7284\n",
            "Epoch 53/200\n",
            "46/46 [==============================] - 0s 3ms/step - loss: 0.5784 - accuracy: 0.7348 - val_loss: 0.5849 - val_accuracy: 0.7284\n",
            "Epoch 54/200\n",
            "46/46 [==============================] - 0s 3ms/step - loss: 0.5784 - accuracy: 0.7348 - val_loss: 0.5849 - val_accuracy: 0.7284\n",
            "Epoch 55/200\n",
            "46/46 [==============================] - 0s 3ms/step - loss: 0.5784 - accuracy: 0.7348 - val_loss: 0.5849 - val_accuracy: 0.7284\n",
            "Epoch 56/200\n",
            "46/46 [==============================] - 0s 3ms/step - loss: 0.5784 - accuracy: 0.7348 - val_loss: 0.5849 - val_accuracy: 0.7284\n",
            "Epoch 57/200\n",
            "46/46 [==============================] - 0s 3ms/step - loss: 0.5784 - accuracy: 0.7348 - val_loss: 0.5849 - val_accuracy: 0.7284\n",
            "Epoch 58/200\n",
            "46/46 [==============================] - 0s 3ms/step - loss: 0.5784 - accuracy: 0.7348 - val_loss: 0.5849 - val_accuracy: 0.7284\n",
            "Epoch 59/200\n",
            "46/46 [==============================] - 0s 3ms/step - loss: 0.5784 - accuracy: 0.7348 - val_loss: 0.5849 - val_accuracy: 0.7284\n",
            "Epoch 60/200\n",
            "46/46 [==============================] - 0s 3ms/step - loss: 0.5784 - accuracy: 0.7348 - val_loss: 0.5849 - val_accuracy: 0.7284\n",
            "Epoch 61/200\n",
            "46/46 [==============================] - 0s 3ms/step - loss: 0.5784 - accuracy: 0.7348 - val_loss: 0.5849 - val_accuracy: 0.7284\n",
            "Epoch 62/200\n",
            "46/46 [==============================] - 0s 3ms/step - loss: 0.5784 - accuracy: 0.7348 - val_loss: 0.5849 - val_accuracy: 0.7284\n",
            "Epoch 63/200\n",
            "46/46 [==============================] - 0s 3ms/step - loss: 0.5784 - accuracy: 0.7348 - val_loss: 0.5849 - val_accuracy: 0.7284\n",
            "Epoch 64/200\n",
            "46/46 [==============================] - 0s 4ms/step - loss: 0.5784 - accuracy: 0.7348 - val_loss: 0.5849 - val_accuracy: 0.7284\n",
            "Epoch 65/200\n",
            "46/46 [==============================] - 0s 4ms/step - loss: 0.5784 - accuracy: 0.7348 - val_loss: 0.5849 - val_accuracy: 0.7284\n",
            "Epoch 66/200\n",
            "46/46 [==============================] - 0s 3ms/step - loss: 0.5784 - accuracy: 0.7348 - val_loss: 0.5850 - val_accuracy: 0.7284\n",
            "Epoch 67/200\n",
            "46/46 [==============================] - 0s 3ms/step - loss: 0.5784 - accuracy: 0.7348 - val_loss: 0.5850 - val_accuracy: 0.7284\n",
            "Epoch 68/200\n",
            "46/46 [==============================] - 0s 3ms/step - loss: 0.5784 - accuracy: 0.7348 - val_loss: 0.5849 - val_accuracy: 0.7284\n",
            "Epoch 69/200\n",
            "46/46 [==============================] - 0s 3ms/step - loss: 0.5784 - accuracy: 0.7348 - val_loss: 0.5849 - val_accuracy: 0.7284\n",
            "Epoch 70/200\n",
            "46/46 [==============================] - 0s 3ms/step - loss: 0.5784 - accuracy: 0.7348 - val_loss: 0.5849 - val_accuracy: 0.7284\n",
            "Epoch 71/200\n",
            "46/46 [==============================] - 0s 3ms/step - loss: 0.5784 - accuracy: 0.7348 - val_loss: 0.5850 - val_accuracy: 0.7284\n",
            "Epoch 72/200\n",
            "46/46 [==============================] - 0s 3ms/step - loss: 0.5784 - accuracy: 0.7348 - val_loss: 0.5850 - val_accuracy: 0.7284\n",
            "Epoch 73/200\n",
            "46/46 [==============================] - 0s 3ms/step - loss: 0.5784 - accuracy: 0.7348 - val_loss: 0.5850 - val_accuracy: 0.7284\n",
            "Epoch 74/200\n",
            "46/46 [==============================] - 0s 3ms/step - loss: 0.5784 - accuracy: 0.7348 - val_loss: 0.5849 - val_accuracy: 0.7284\n",
            "Epoch 75/200\n",
            "46/46 [==============================] - 0s 3ms/step - loss: 0.5784 - accuracy: 0.7348 - val_loss: 0.5849 - val_accuracy: 0.7284\n",
            "Epoch 76/200\n",
            "46/46 [==============================] - 0s 3ms/step - loss: 0.5784 - accuracy: 0.7348 - val_loss: 0.5849 - val_accuracy: 0.7284\n",
            "Epoch 77/200\n",
            "46/46 [==============================] - 0s 3ms/step - loss: 0.5784 - accuracy: 0.7348 - val_loss: 0.5849 - val_accuracy: 0.7284\n",
            "Epoch 78/200\n",
            "46/46 [==============================] - 0s 3ms/step - loss: 0.5784 - accuracy: 0.7348 - val_loss: 0.5849 - val_accuracy: 0.7284\n",
            "Epoch 79/200\n",
            "46/46 [==============================] - 0s 3ms/step - loss: 0.5784 - accuracy: 0.7348 - val_loss: 0.5849 - val_accuracy: 0.7284\n",
            "Epoch 80/200\n",
            "46/46 [==============================] - 0s 2ms/step - loss: 0.5784 - accuracy: 0.7348 - val_loss: 0.5849 - val_accuracy: 0.7284\n",
            "Epoch 81/200\n",
            "46/46 [==============================] - 0s 3ms/step - loss: 0.5784 - accuracy: 0.7348 - val_loss: 0.5849 - val_accuracy: 0.7284\n",
            "Epoch 82/200\n",
            "46/46 [==============================] - 0s 3ms/step - loss: 0.5784 - accuracy: 0.7348 - val_loss: 0.5849 - val_accuracy: 0.7284\n",
            "Epoch 83/200\n",
            "46/46 [==============================] - 0s 4ms/step - loss: 0.5784 - accuracy: 0.7348 - val_loss: 0.5849 - val_accuracy: 0.7284\n",
            "Epoch 84/200\n",
            "46/46 [==============================] - 0s 3ms/step - loss: 0.5784 - accuracy: 0.7348 - val_loss: 0.5849 - val_accuracy: 0.7284\n",
            "Epoch 85/200\n",
            "46/46 [==============================] - 0s 3ms/step - loss: 0.5784 - accuracy: 0.7348 - val_loss: 0.5849 - val_accuracy: 0.7284\n",
            "Epoch 86/200\n",
            "46/46 [==============================] - 0s 4ms/step - loss: 0.5784 - accuracy: 0.7348 - val_loss: 0.5849 - val_accuracy: 0.7284\n",
            "Epoch 87/200\n",
            "46/46 [==============================] - 0s 4ms/step - loss: 0.5784 - accuracy: 0.7348 - val_loss: 0.5849 - val_accuracy: 0.7284\n",
            "Epoch 88/200\n",
            "46/46 [==============================] - 0s 3ms/step - loss: 0.5784 - accuracy: 0.7348 - val_loss: 0.5849 - val_accuracy: 0.7284\n",
            "Epoch 89/200\n",
            "46/46 [==============================] - 0s 3ms/step - loss: 0.5784 - accuracy: 0.7348 - val_loss: 0.5849 - val_accuracy: 0.7284\n",
            "Epoch 90/200\n",
            "46/46 [==============================] - 0s 3ms/step - loss: 0.5784 - accuracy: 0.7348 - val_loss: 0.5849 - val_accuracy: 0.7284\n",
            "Epoch 91/200\n",
            "46/46 [==============================] - 0s 3ms/step - loss: 0.5784 - accuracy: 0.7348 - val_loss: 0.5849 - val_accuracy: 0.7284\n",
            "Epoch 92/200\n",
            "46/46 [==============================] - 0s 3ms/step - loss: 0.5784 - accuracy: 0.7348 - val_loss: 0.5849 - val_accuracy: 0.7284\n",
            "Epoch 93/200\n",
            "46/46 [==============================] - 0s 3ms/step - loss: 0.5784 - accuracy: 0.7348 - val_loss: 0.5849 - val_accuracy: 0.7284\n",
            "Epoch 94/200\n",
            "46/46 [==============================] - 0s 3ms/step - loss: 0.5784 - accuracy: 0.7348 - val_loss: 0.5849 - val_accuracy: 0.7284\n",
            "Epoch 95/200\n",
            "46/46 [==============================] - 0s 3ms/step - loss: 0.5784 - accuracy: 0.7348 - val_loss: 0.5849 - val_accuracy: 0.7284\n",
            "Epoch 96/200\n",
            "46/46 [==============================] - 0s 3ms/step - loss: 0.5784 - accuracy: 0.7348 - val_loss: 0.5849 - val_accuracy: 0.7284\n",
            "Epoch 97/200\n",
            "46/46 [==============================] - 0s 3ms/step - loss: 0.5784 - accuracy: 0.7348 - val_loss: 0.5849 - val_accuracy: 0.7284\n",
            "Epoch 98/200\n",
            "46/46 [==============================] - 0s 3ms/step - loss: 0.5784 - accuracy: 0.7348 - val_loss: 0.5850 - val_accuracy: 0.7284\n",
            "Epoch 99/200\n",
            "46/46 [==============================] - 0s 4ms/step - loss: 0.5784 - accuracy: 0.7348 - val_loss: 0.5850 - val_accuracy: 0.7284\n",
            "Epoch 100/200\n",
            "46/46 [==============================] - 0s 3ms/step - loss: 0.5784 - accuracy: 0.7348 - val_loss: 0.5849 - val_accuracy: 0.7284\n",
            "Epoch 101/200\n",
            "46/46 [==============================] - 0s 3ms/step - loss: 0.5784 - accuracy: 0.7348 - val_loss: 0.5849 - val_accuracy: 0.7284\n",
            "Epoch 102/200\n",
            "46/46 [==============================] - 0s 3ms/step - loss: 0.5784 - accuracy: 0.7348 - val_loss: 0.5849 - val_accuracy: 0.7284\n",
            "Epoch 103/200\n",
            "46/46 [==============================] - 0s 3ms/step - loss: 0.5784 - accuracy: 0.7348 - val_loss: 0.5849 - val_accuracy: 0.7284\n",
            "Epoch 104/200\n",
            "46/46 [==============================] - 0s 3ms/step - loss: 0.5784 - accuracy: 0.7348 - val_loss: 0.5850 - val_accuracy: 0.7284\n",
            "Epoch 105/200\n",
            "46/46 [==============================] - 0s 3ms/step - loss: 0.5784 - accuracy: 0.7348 - val_loss: 0.5849 - val_accuracy: 0.7284\n",
            "Epoch 106/200\n",
            "46/46 [==============================] - 0s 3ms/step - loss: 0.5784 - accuracy: 0.7348 - val_loss: 0.5850 - val_accuracy: 0.7284\n",
            "Epoch 107/200\n",
            "46/46 [==============================] - 0s 3ms/step - loss: 0.5784 - accuracy: 0.7348 - val_loss: 0.5849 - val_accuracy: 0.7284\n",
            "Epoch 108/200\n",
            "46/46 [==============================] - 0s 3ms/step - loss: 0.5784 - accuracy: 0.7348 - val_loss: 0.5850 - val_accuracy: 0.7284\n",
            "Epoch 109/200\n",
            "46/46 [==============================] - 0s 3ms/step - loss: 0.5784 - accuracy: 0.7348 - val_loss: 0.5849 - val_accuracy: 0.7284\n",
            "Epoch 110/200\n",
            "46/46 [==============================] - 0s 3ms/step - loss: 0.5784 - accuracy: 0.7348 - val_loss: 0.5850 - val_accuracy: 0.7284\n",
            "Epoch 111/200\n",
            "46/46 [==============================] - 0s 3ms/step - loss: 0.5784 - accuracy: 0.7348 - val_loss: 0.5850 - val_accuracy: 0.7284\n",
            "Epoch 112/200\n",
            "46/46 [==============================] - 0s 3ms/step - loss: 0.5784 - accuracy: 0.7348 - val_loss: 0.5850 - val_accuracy: 0.7284\n",
            "Epoch 113/200\n",
            "46/46 [==============================] - 0s 3ms/step - loss: 0.5784 - accuracy: 0.7348 - val_loss: 0.5850 - val_accuracy: 0.7284\n",
            "Epoch 114/200\n",
            "46/46 [==============================] - 0s 3ms/step - loss: 0.5784 - accuracy: 0.7348 - val_loss: 0.5849 - val_accuracy: 0.7284\n",
            "Epoch 115/200\n",
            "46/46 [==============================] - 0s 3ms/step - loss: 0.5784 - accuracy: 0.7348 - val_loss: 0.5849 - val_accuracy: 0.7284\n",
            "Epoch 116/200\n",
            "46/46 [==============================] - 0s 3ms/step - loss: 0.5784 - accuracy: 0.7348 - val_loss: 0.5849 - val_accuracy: 0.7284\n",
            "Epoch 117/200\n",
            "46/46 [==============================] - 0s 3ms/step - loss: 0.5784 - accuracy: 0.7348 - val_loss: 0.5849 - val_accuracy: 0.7284\n",
            "Epoch 118/200\n",
            "46/46 [==============================] - 0s 3ms/step - loss: 0.5784 - accuracy: 0.7348 - val_loss: 0.5849 - val_accuracy: 0.7284\n",
            "Epoch 119/200\n",
            "46/46 [==============================] - 0s 3ms/step - loss: 0.5784 - accuracy: 0.7348 - val_loss: 0.5849 - val_accuracy: 0.7284\n",
            "Epoch 120/200\n",
            "46/46 [==============================] - 0s 3ms/step - loss: 0.5784 - accuracy: 0.7348 - val_loss: 0.5849 - val_accuracy: 0.7284\n",
            "Epoch 121/200\n",
            "46/46 [==============================] - 0s 5ms/step - loss: 0.5784 - accuracy: 0.7348 - val_loss: 0.5849 - val_accuracy: 0.7284\n",
            "Epoch 122/200\n",
            "46/46 [==============================] - 0s 5ms/step - loss: 0.5784 - accuracy: 0.7348 - val_loss: 0.5849 - val_accuracy: 0.7284\n",
            "Epoch 123/200\n",
            "46/46 [==============================] - 0s 4ms/step - loss: 0.5784 - accuracy: 0.7348 - val_loss: 0.5849 - val_accuracy: 0.7284\n",
            "Epoch 124/200\n",
            "46/46 [==============================] - 0s 4ms/step - loss: 0.5784 - accuracy: 0.7348 - val_loss: 0.5849 - val_accuracy: 0.7284\n",
            "Epoch 125/200\n",
            "46/46 [==============================] - 0s 4ms/step - loss: 0.5784 - accuracy: 0.7348 - val_loss: 0.5849 - val_accuracy: 0.7284\n",
            "Epoch 126/200\n",
            "46/46 [==============================] - 0s 4ms/step - loss: 0.5784 - accuracy: 0.7348 - val_loss: 0.5849 - val_accuracy: 0.7284\n",
            "Epoch 127/200\n",
            "46/46 [==============================] - 0s 4ms/step - loss: 0.5784 - accuracy: 0.7348 - val_loss: 0.5849 - val_accuracy: 0.7284\n",
            "Epoch 128/200\n",
            "46/46 [==============================] - 0s 4ms/step - loss: 0.5784 - accuracy: 0.7348 - val_loss: 0.5849 - val_accuracy: 0.7284\n",
            "Epoch 129/200\n",
            "46/46 [==============================] - 0s 4ms/step - loss: 0.5784 - accuracy: 0.7348 - val_loss: 0.5850 - val_accuracy: 0.7284\n",
            "Epoch 130/200\n",
            "46/46 [==============================] - 0s 4ms/step - loss: 0.5784 - accuracy: 0.7348 - val_loss: 0.5850 - val_accuracy: 0.7284\n",
            "Epoch 131/200\n",
            "46/46 [==============================] - 0s 4ms/step - loss: 0.5784 - accuracy: 0.7348 - val_loss: 0.5850 - val_accuracy: 0.7284\n",
            "Epoch 132/200\n",
            "46/46 [==============================] - 0s 3ms/step - loss: 0.5784 - accuracy: 0.7348 - val_loss: 0.5850 - val_accuracy: 0.7284\n",
            "Epoch 133/200\n",
            "46/46 [==============================] - 0s 2ms/step - loss: 0.5784 - accuracy: 0.7348 - val_loss: 0.5850 - val_accuracy: 0.7284\n",
            "Epoch 134/200\n",
            "46/46 [==============================] - 0s 3ms/step - loss: 0.5784 - accuracy: 0.7348 - val_loss: 0.5850 - val_accuracy: 0.7284\n",
            "Epoch 135/200\n",
            "46/46 [==============================] - 0s 3ms/step - loss: 0.5784 - accuracy: 0.7348 - val_loss: 0.5850 - val_accuracy: 0.7284\n",
            "Epoch 136/200\n",
            "46/46 [==============================] - 0s 3ms/step - loss: 0.5784 - accuracy: 0.7348 - val_loss: 0.5850 - val_accuracy: 0.7284\n",
            "Epoch 137/200\n",
            "46/46 [==============================] - 0s 3ms/step - loss: 0.5784 - accuracy: 0.7348 - val_loss: 0.5850 - val_accuracy: 0.7284\n",
            "Epoch 138/200\n",
            "46/46 [==============================] - 0s 3ms/step - loss: 0.5784 - accuracy: 0.7348 - val_loss: 0.5850 - val_accuracy: 0.7284\n",
            "Epoch 139/200\n",
            "46/46 [==============================] - 0s 3ms/step - loss: 0.5784 - accuracy: 0.7348 - val_loss: 0.5850 - val_accuracy: 0.7284\n",
            "Epoch 140/200\n",
            "46/46 [==============================] - 0s 3ms/step - loss: 0.5784 - accuracy: 0.7348 - val_loss: 0.5850 - val_accuracy: 0.7284\n",
            "Epoch 141/200\n",
            "46/46 [==============================] - 0s 3ms/step - loss: 0.5784 - accuracy: 0.7348 - val_loss: 0.5850 - val_accuracy: 0.7284\n",
            "Epoch 142/200\n",
            "46/46 [==============================] - 0s 3ms/step - loss: 0.5784 - accuracy: 0.7348 - val_loss: 0.5850 - val_accuracy: 0.7284\n",
            "Epoch 143/200\n",
            "46/46 [==============================] - 0s 3ms/step - loss: 0.5784 - accuracy: 0.7348 - val_loss: 0.5850 - val_accuracy: 0.7284\n",
            "Epoch 144/200\n",
            "46/46 [==============================] - 0s 3ms/step - loss: 0.5784 - accuracy: 0.7348 - val_loss: 0.5850 - val_accuracy: 0.7284\n",
            "Epoch 145/200\n",
            "46/46 [==============================] - 0s 3ms/step - loss: 0.5784 - accuracy: 0.7348 - val_loss: 0.5850 - val_accuracy: 0.7284\n",
            "Epoch 146/200\n",
            "46/46 [==============================] - 0s 3ms/step - loss: 0.5784 - accuracy: 0.7348 - val_loss: 0.5849 - val_accuracy: 0.7284\n",
            "Epoch 147/200\n",
            "46/46 [==============================] - 0s 3ms/step - loss: 0.5784 - accuracy: 0.7348 - val_loss: 0.5850 - val_accuracy: 0.7284\n",
            "Epoch 148/200\n",
            "46/46 [==============================] - 0s 3ms/step - loss: 0.5784 - accuracy: 0.7348 - val_loss: 0.5849 - val_accuracy: 0.7284\n",
            "Epoch 149/200\n",
            "46/46 [==============================] - 0s 3ms/step - loss: 0.5784 - accuracy: 0.7348 - val_loss: 0.5849 - val_accuracy: 0.7284\n",
            "Epoch 150/200\n",
            "46/46 [==============================] - 0s 3ms/step - loss: 0.5784 - accuracy: 0.7348 - val_loss: 0.5849 - val_accuracy: 0.7284\n",
            "Epoch 151/200\n",
            "46/46 [==============================] - 0s 3ms/step - loss: 0.5784 - accuracy: 0.7348 - val_loss: 0.5850 - val_accuracy: 0.7284\n",
            "Epoch 152/200\n",
            "46/46 [==============================] - 0s 3ms/step - loss: 0.5784 - accuracy: 0.7348 - val_loss: 0.5850 - val_accuracy: 0.7284\n",
            "Epoch 153/200\n",
            "46/46 [==============================] - 0s 3ms/step - loss: 0.5784 - accuracy: 0.7348 - val_loss: 0.5849 - val_accuracy: 0.7284\n",
            "Epoch 154/200\n",
            "46/46 [==============================] - 0s 3ms/step - loss: 0.5784 - accuracy: 0.7348 - val_loss: 0.5850 - val_accuracy: 0.7284\n",
            "Epoch 155/200\n",
            "46/46 [==============================] - 0s 3ms/step - loss: 0.5784 - accuracy: 0.7348 - val_loss: 0.5850 - val_accuracy: 0.7284\n",
            "Epoch 156/200\n",
            "46/46 [==============================] - 0s 3ms/step - loss: 0.5784 - accuracy: 0.7348 - val_loss: 0.5849 - val_accuracy: 0.7284\n",
            "Epoch 157/200\n",
            "46/46 [==============================] - 0s 3ms/step - loss: 0.5784 - accuracy: 0.7348 - val_loss: 0.5850 - val_accuracy: 0.7284\n",
            "Epoch 158/200\n",
            "46/46 [==============================] - 0s 3ms/step - loss: 0.5784 - accuracy: 0.7348 - val_loss: 0.5850 - val_accuracy: 0.7284\n",
            "Epoch 159/200\n",
            "46/46 [==============================] - 0s 3ms/step - loss: 0.5784 - accuracy: 0.7348 - val_loss: 0.5850 - val_accuracy: 0.7284\n",
            "Epoch 160/200\n",
            "46/46 [==============================] - 0s 3ms/step - loss: 0.5784 - accuracy: 0.7348 - val_loss: 0.5850 - val_accuracy: 0.7284\n",
            "Epoch 161/200\n",
            "46/46 [==============================] - 0s 3ms/step - loss: 0.5784 - accuracy: 0.7348 - val_loss: 0.5850 - val_accuracy: 0.7284\n",
            "Epoch 162/200\n",
            "46/46 [==============================] - 0s 3ms/step - loss: 0.5784 - accuracy: 0.7348 - val_loss: 0.5850 - val_accuracy: 0.7284\n",
            "Epoch 163/200\n",
            "46/46 [==============================] - 0s 3ms/step - loss: 0.5784 - accuracy: 0.7348 - val_loss: 0.5850 - val_accuracy: 0.7284\n",
            "Epoch 164/200\n",
            "46/46 [==============================] - 0s 3ms/step - loss: 0.5784 - accuracy: 0.7348 - val_loss: 0.5850 - val_accuracy: 0.7284\n",
            "Epoch 165/200\n",
            "46/46 [==============================] - 0s 3ms/step - loss: 0.5784 - accuracy: 0.7348 - val_loss: 0.5850 - val_accuracy: 0.7284\n",
            "Epoch 166/200\n",
            "46/46 [==============================] - 0s 3ms/step - loss: 0.5784 - accuracy: 0.7348 - val_loss: 0.5849 - val_accuracy: 0.7284\n",
            "Epoch 167/200\n",
            "46/46 [==============================] - 0s 3ms/step - loss: 0.5784 - accuracy: 0.7348 - val_loss: 0.5850 - val_accuracy: 0.7284\n",
            "Epoch 168/200\n",
            "46/46 [==============================] - 0s 6ms/step - loss: 0.5784 - accuracy: 0.7348 - val_loss: 0.5850 - val_accuracy: 0.7284\n",
            "Epoch 169/200\n",
            "46/46 [==============================] - 0s 7ms/step - loss: 0.5784 - accuracy: 0.7348 - val_loss: 0.5850 - val_accuracy: 0.7284\n",
            "Epoch 170/200\n",
            "46/46 [==============================] - 0s 7ms/step - loss: 0.5784 - accuracy: 0.7348 - val_loss: 0.5850 - val_accuracy: 0.7284\n",
            "Epoch 171/200\n",
            "46/46 [==============================] - 0s 5ms/step - loss: 0.5784 - accuracy: 0.7348 - val_loss: 0.5850 - val_accuracy: 0.7284\n",
            "Epoch 172/200\n",
            "46/46 [==============================] - 0s 3ms/step - loss: 0.5784 - accuracy: 0.7348 - val_loss: 0.5850 - val_accuracy: 0.7284\n",
            "Epoch 173/200\n",
            "46/46 [==============================] - 0s 3ms/step - loss: 0.5784 - accuracy: 0.7348 - val_loss: 0.5850 - val_accuracy: 0.7284\n",
            "Epoch 174/200\n",
            "46/46 [==============================] - 1s 12ms/step - loss: 0.5784 - accuracy: 0.7348 - val_loss: 0.5850 - val_accuracy: 0.7284\n",
            "Epoch 175/200\n",
            "46/46 [==============================] - 0s 10ms/step - loss: 0.5784 - accuracy: 0.7348 - val_loss: 0.5850 - val_accuracy: 0.7284\n",
            "Epoch 176/200\n",
            "46/46 [==============================] - 1s 13ms/step - loss: 0.5784 - accuracy: 0.7348 - val_loss: 0.5850 - val_accuracy: 0.7284\n",
            "Epoch 177/200\n",
            "46/46 [==============================] - 0s 9ms/step - loss: 0.5784 - accuracy: 0.7348 - val_loss: 0.5850 - val_accuracy: 0.7284\n",
            "Epoch 178/200\n",
            "46/46 [==============================] - 0s 10ms/step - loss: 0.5784 - accuracy: 0.7348 - val_loss: 0.5850 - val_accuracy: 0.7284\n",
            "Epoch 179/200\n",
            "46/46 [==============================] - 1s 14ms/step - loss: 0.5784 - accuracy: 0.7348 - val_loss: 0.5850 - val_accuracy: 0.7284\n",
            "Epoch 180/200\n",
            "46/46 [==============================] - 1s 12ms/step - loss: 0.5784 - accuracy: 0.7348 - val_loss: 0.5850 - val_accuracy: 0.7284\n",
            "Epoch 181/200\n",
            "46/46 [==============================] - 1s 14ms/step - loss: 0.5784 - accuracy: 0.7348 - val_loss: 0.5850 - val_accuracy: 0.7284\n",
            "Epoch 182/200\n",
            "46/46 [==============================] - 1s 14ms/step - loss: 0.5784 - accuracy: 0.7348 - val_loss: 0.5850 - val_accuracy: 0.7284\n",
            "Epoch 183/200\n",
            "46/46 [==============================] - 1s 16ms/step - loss: 0.5784 - accuracy: 0.7348 - val_loss: 0.5850 - val_accuracy: 0.7284\n",
            "Epoch 184/200\n",
            "46/46 [==============================] - 1s 16ms/step - loss: 0.5784 - accuracy: 0.7348 - val_loss: 0.5850 - val_accuracy: 0.7284\n",
            "Epoch 185/200\n",
            "46/46 [==============================] - 0s 7ms/step - loss: 0.5784 - accuracy: 0.7348 - val_loss: 0.5850 - val_accuracy: 0.7284\n",
            "Epoch 186/200\n",
            "46/46 [==============================] - 0s 7ms/step - loss: 0.5784 - accuracy: 0.7348 - val_loss: 0.5850 - val_accuracy: 0.7284\n",
            "Epoch 187/200\n",
            "46/46 [==============================] - 0s 4ms/step - loss: 0.5784 - accuracy: 0.7348 - val_loss: 0.5850 - val_accuracy: 0.7284\n",
            "Epoch 188/200\n",
            "46/46 [==============================] - 0s 6ms/step - loss: 0.5784 - accuracy: 0.7348 - val_loss: 0.5850 - val_accuracy: 0.7284\n",
            "Epoch 189/200\n",
            "46/46 [==============================] - 0s 5ms/step - loss: 0.5784 - accuracy: 0.7348 - val_loss: 0.5850 - val_accuracy: 0.7284\n",
            "Epoch 190/200\n",
            "46/46 [==============================] - 0s 5ms/step - loss: 0.5784 - accuracy: 0.7348 - val_loss: 0.5850 - val_accuracy: 0.7284\n",
            "Epoch 191/200\n",
            "46/46 [==============================] - 0s 4ms/step - loss: 0.5784 - accuracy: 0.7348 - val_loss: 0.5849 - val_accuracy: 0.7284\n",
            "Epoch 192/200\n",
            "46/46 [==============================] - 0s 5ms/step - loss: 0.5784 - accuracy: 0.7348 - val_loss: 0.5850 - val_accuracy: 0.7284\n",
            "Epoch 193/200\n",
            "46/46 [==============================] - 0s 5ms/step - loss: 0.5784 - accuracy: 0.7348 - val_loss: 0.5850 - val_accuracy: 0.7284\n",
            "Epoch 194/200\n",
            "46/46 [==============================] - 0s 6ms/step - loss: 0.5784 - accuracy: 0.7348 - val_loss: 0.5849 - val_accuracy: 0.7284\n",
            "Epoch 195/200\n",
            "46/46 [==============================] - 0s 4ms/step - loss: 0.5784 - accuracy: 0.7348 - val_loss: 0.5849 - val_accuracy: 0.7284\n",
            "Epoch 196/200\n",
            "46/46 [==============================] - 0s 5ms/step - loss: 0.5784 - accuracy: 0.7348 - val_loss: 0.5849 - val_accuracy: 0.7284\n",
            "Epoch 197/200\n",
            "46/46 [==============================] - 0s 4ms/step - loss: 0.5784 - accuracy: 0.7348 - val_loss: 0.5849 - val_accuracy: 0.7284\n",
            "Epoch 198/200\n",
            "46/46 [==============================] - 0s 4ms/step - loss: 0.5784 - accuracy: 0.7348 - val_loss: 0.5849 - val_accuracy: 0.7284\n",
            "Epoch 199/200\n",
            "46/46 [==============================] - 0s 6ms/step - loss: 0.5784 - accuracy: 0.7348 - val_loss: 0.5849 - val_accuracy: 0.7284\n",
            "Epoch 200/200\n",
            "46/46 [==============================] - 0s 3ms/step - loss: 0.5784 - accuracy: 0.7348 - val_loss: 0.5850 - val_accuracy: 0.7284\n"
          ]
        }
      ]
    },
    {
      "cell_type": "code",
      "source": [
        "score = model1.evaluate(X_test,Y_test)\n",
        "print(\"Loss: \", score[0])\n",
        "print(\"Accuracy: \", score[1])"
      ],
      "metadata": {
        "colab": {
          "base_uri": "https://localhost:8080/"
        },
        "id": "sklKsLp2NIux",
        "outputId": "3b6c41e3-9157-49b1-fec1-70aaed19e8a0"
      },
      "execution_count": 96,
      "outputs": [
        {
          "output_type": "stream",
          "name": "stdout",
          "text": [
            "13/13 [==============================] - 0s 2ms/step - loss: 0.5856 - accuracy: 0.7277\n",
            "Loss:  0.5856377482414246\n",
            "Accuracy:  0.7277227640151978\n"
          ]
        }
      ]
    },
    {
      "cell_type": "markdown",
      "source": [
        "**Correlation Matrix**"
      ],
      "metadata": {
        "id": "nhJJi_PvPN_H"
      }
    },
    {
      "cell_type": "code",
      "source": [
        "figsize=(18,14)\n",
        "fig, ax = plt.subplots(figsize=figsize)\n",
        "sns.heatmap(df.corr(), annot=True, fmt=\".2f\", cmap=\"coolwarm\", ax=ax)"
      ],
      "metadata": {
        "colab": {
          "base_uri": "https://localhost:8080/",
          "height": 1000
        },
        "id": "LczFWSv1EQ5c",
        "outputId": "1ca32ce4-0f4c-4b62-efcc-3b9d6b6c3db3"
      },
      "execution_count": 50,
      "outputs": [
        {
          "output_type": "execute_result",
          "data": {
            "text/plain": [
              "<Axes: >"
            ]
          },
          "metadata": {},
          "execution_count": 50
        },
        {
          "output_type": "display_data",
          "data": {
            "text/plain": [
              "<Figure size 1800x1400 with 2 Axes>"
            ],
            "image/png": "[encoded data removed]"
          },
          "metadata": {}
        }
      ]
    },
    {
      "cell_type": "markdown",
      "source": [
        "\"This code creates a heatmap to visualize the correlation matrix of the DataFrame (df). The figure size is set to 18x14 inches for a clear and detailed display. Each cell in the heatmap represents the correlation coefficient between pairs of variables in the DataFrame. Annotations with numerical values are added to provide precise correlation values. The color scale, ranging from cool to warm tones, aids in interpreting the strength and direction of correlations. This heatmap is a valuable tool for identifying patterns and relationships among different variables in the dataset, contributing to a comprehensive understanding of the interdependencies within the"
      ],
      "metadata": {
        "id": "u6uhnkP7d1mL"
      }
    },
    {
      "cell_type": "markdown",
      "source": [
        "**Basic Feature Engineering**"
      ],
      "metadata": {
        "id": "63luD_5OPJq_"
      }
    },
    {
      "cell_type": "code",
      "source": [
        "df['PARTY'].value_counts()"
      ],
      "metadata": {
        "colab": {
          "base_uri": "https://localhost:8080/"
        },
        "id": "J8IIVyilHfXI",
        "outputId": "651a2389-da98-4336-c88a-5d8fa2135fc5"
      },
      "execution_count": 70,
      "outputs": [
        {
          "output_type": "execute_result",
          "data": {
            "text/plain": [
              "26    420\n",
              "46    413\n",
              "47    201\n",
              "35    163\n",
              "38    100\n",
              "     ... \n",
              "68      1\n",
              "67      1\n",
              "52      1\n",
              "17      1\n",
              "85      1\n",
              "Name: PARTY, Length: 132, dtype: int64"
            ]
          },
          "metadata": {},
          "execution_count": 70
        }
      ]
    },
    {
      "cell_type": "code",
      "source": [
        "df['CATEGORY'].value_counts()"
      ],
      "metadata": {
        "colab": {
          "base_uri": "https://localhost:8080/"
        },
        "id": "yDZkWuK4HiiT",
        "outputId": "4fb7cb9a-b11a-4d0d-84ae-16acd9f7aced"
      },
      "execution_count": 71,
      "outputs": [
        {
          "output_type": "execute_result",
          "data": {
            "text/plain": [
              "GENERAL    1392\n",
              "SC          383\n",
              "ST          243\n",
              "Name: CATEGORY, dtype: int64"
            ]
          },
          "metadata": {},
          "execution_count": 71
        }
      ]
    },
    {
      "cell_type": "code",
      "source": [
        "df['EDUCATION'].value_counts()"
      ],
      "metadata": {
        "colab": {
          "base_uri": "https://localhost:8080/"
        },
        "id": "GDL36FKRHk2T",
        "outputId": "945c8f0d-a7eb-4a6e-9a33-9ac06b08633d"
      },
      "execution_count": 72,
      "outputs": [
        {
          "output_type": "execute_result",
          "data": {
            "text/plain": [
              "Post Graduate            502\n",
              "Graduate                 441\n",
              "Graduate Professional    336\n",
              "12th Pass                256\n",
              "10th Pass                196\n",
              "8th Pass                  78\n",
              "Doctorate                 73\n",
              "Others                    50\n",
              "Literate                  30\n",
              "5th Pass                  28\n",
              "Not Available             22\n",
              "Illiterate                 5\n",
              "Post Graduate\\n            1\n",
              "Name: EDUCATION, dtype: int64"
            ]
          },
          "metadata": {},
          "execution_count": 72
        }
      ]
    },
    {
      "cell_type": "code",
      "source": [
        "encoded_edu = []\n",
        "\n",
        "# iterate through each row in the dataset\n",
        "for row in df.itertuples():\n",
        "    education = row.EDUCATION\n",
        "\n",
        "    if education == \"Illiterate\":\n",
        "        encoded_edu.append(0)\n",
        "    elif education == \"Literate\":\n",
        "        encoded_edu.append(1)\n",
        "    elif education == \"5th Pass\":\n",
        "        encoded_edu.append(2)\n",
        "    elif education == \"8th Pass\":\n",
        "        encoded_edu.append(3)\n",
        "    elif education == \"10th Pass\":\n",
        "        encoded_edu.append(4)\n",
        "    elif education == \"12th Pass\":\n",
        "        encoded_edu.append(7)\n",
        "    elif education == \"Graduate\":\n",
        "        encoded_edu.append(8)\n",
        "    elif education == \"Post Graduate\":\n",
        "        encoded_edu.append(9)\n",
        "    elif education == \"Graduate Professional\":\n",
        "        encoded_edu.append(10)\n",
        "    elif education == \"Doctorate\":\n",
        "        encoded_edu.append(11)\n",
        "    else:\n",
        "        encoded_edu.append(5)\n",
        "\n",
        "df['EDUCATION'] = encoded_edu"
      ],
      "metadata": {
        "id": "xpP5AHHFHn06"
      },
      "execution_count": 73,
      "outputs": []
    },
    {
      "cell_type": "markdown",
      "source": [
        "**Creating New Feature Columns**"
      ],
      "metadata": {
        "id": "wRl3N1OwPDGn"
      }
    },
    {
      "cell_type": "code",
      "source": [
        "# Preparing feature values\n",
        "\n",
        "cons_per_state = {}\n",
        "voters_per_state = {}\n",
        "party_winningSeats = {}\n",
        "party_education = {}\n",
        "\n",
        "party_totalCandidates_per_cons = {}\n",
        "party_winningSeats_per_cons = {}\n",
        "party_education_per_cons = {}\n",
        "voters_per_cons = {}\n",
        "\n",
        "\n",
        "# group by state\n",
        "subset = df[['STATE', 'CONSTITUENCY', 'OVER_TOTAL_ELECTORS_IN_CONSTITUENCY']]\n",
        "gk = subset.groupby('STATE')\n",
        "\n",
        "# for each state\n",
        "for name,group in gk:\n",
        "    # total constituencies per state\n",
        "    cons_per_state[name] = len(group)\n",
        "\n",
        "    # total voters per state\n",
        "    voters_per_state[name] = group['OVER_TOTAL_ELECTORS_IN_CONSTITUENCY'].sum()\n",
        "\n",
        "\n",
        "# group by party\n",
        "subset = df[['PARTY', 'CONSTITUENCY','EDUCATION', 'WINNER']]\n",
        "gk = subset.groupby('PARTY')\n",
        "\n",
        "# for each party\n",
        "for name,group in gk:\n",
        "    # winning seats by party\n",
        "    party_winningSeats[name] = group[group['WINNER'] == 1.0].shape[0]\n",
        "\n",
        "\n",
        "    # education qualification by party (sum of candidates)\n",
        "    party_education[name] = group['EDUCATION'].sum()\n",
        "\n",
        "    # group by constituency\n",
        "    gk2 = group.groupby('CONSTITUENCY')\n",
        "\n",
        "    # for each constituency\n",
        "    for name2, group2 in gk2:\n",
        "        key = str(name2) + '_' + str(name)\n",
        "\n",
        "        # total candidates by party in constituency\n",
        "        party_totalCandidates_per_cons[key] = len(group2)\n",
        "\n",
        "        # party winning seats in the constituency\n",
        "        party_winningSeats_per_cons[key] = group2[group2['WINNER'] == 1.0].shape[0]\n",
        "\n",
        "\n",
        "\n",
        "        # education qualification by party in constituency (sum of candidates)\n",
        "        party_education_per_cons[key] = group2['EDUCATION'].sum()\n",
        "\n",
        "\n",
        "# Total voters per constituency\n",
        "subset = df[['CONSTITUENCY', 'OVER_TOTAL_ELECTORS_IN_CONSTITUENCY']]\n",
        "gk = subset.groupby('CONSTITUENCY')\n",
        "\n",
        "# for each constituency\n",
        "for name,group in gk:\n",
        "    voters_per_cons[name] = len(group)\n",
        "# Applying feature values\n",
        "\n",
        "# new feature columns\n",
        "total_cons_per_state = []\n",
        "total_voters_per_state = []\n",
        "total_voters_per_cons = []\n",
        "\n",
        "winning_seats_by_party = []\n",
        "criminal_by_party = []\n",
        "education_by_party = []\n",
        "\n",
        "total_candidates_by_party_per_cons = []\n",
        "winning_seats_by_party_per_cons = []\n",
        "criminal_by_party_per_cons = []\n",
        "education_by_party_per_cons = []\n",
        "\n",
        "\n",
        "# iterate through each row in the dataset\n",
        "for row in df.itertuples():\n",
        "    subkey = str(row.CONSTITUENCY) + '_' + str(row.PARTY)\n",
        "\n",
        "    total_cons_per_state.append(cons_per_state.get(row.STATE))\n",
        "    total_voters_per_state.append(voters_per_state.get(row.STATE))\n",
        "    total_voters_per_cons.append(voters_per_cons.get(row.CONSTITUENCY))\n",
        "    winning_seats_by_party.append(party_winningSeats.get(row.PARTY))\n",
        "    education_by_party.append(party_education.get(row.PARTY))\n",
        "    total_candidates_by_party_per_cons.append(party_totalCandidates_per_cons.get(subkey))\n",
        "    winning_seats_by_party_per_cons.append(party_winningSeats_per_cons.get(subkey))\n",
        "    education_by_party_per_cons.append(party_education_per_cons.get(subkey))\n",
        "\n",
        "\n",
        "# append columns to dataset\n",
        "df['total_cons_per_state'] = total_cons_per_state\n",
        "df['total_voters_per_state'] = total_voters_per_state\n",
        "df['total_voters_per_cons'] = total_voters_per_cons\n",
        "df['winning_seats_by_party'] = winning_seats_by_party\n",
        "df['education_by_party'] = education_by_party\n",
        "df['total_candidates_by_party_per_cons'] = total_candidates_by_party_per_cons\n",
        "df['winning_seats_by_party_per_cons'] = winning_seats_by_party_per_cons\n",
        "df['education_by_party_per_cons'] = education_by_party_per_cons"
      ],
      "metadata": {
        "id": "sNbDEYpOHqSK"
      },
      "execution_count": 75,
      "outputs": []
    },
    {
      "cell_type": "markdown",
      "source": [
        "***Feature selection***"
      ],
      "metadata": {
        "id": "Kq2V9MOEW79_"
      }
    },
    {
      "cell_type": "code",
      "source": [
        "from sklearn.ensemble import RandomForestClassifier\n",
        "from sklearn.feature_selection import SelectFromModel\n",
        "from sklearn.model_selection import train_test_split\n",
        "from sklearn.metrics import accuracy_score, classification_report\n",
        "from sklearn.preprocessing import StandardScaler\n",
        "\n",
        "# Assuming X and y are your feature matrix and target variable, replace them with your actual data\n",
        "# Assuming you have already processed and cleaned your data\n",
        "\n",
        "# Split the data into training and testing sets\n",
        "X_train, X_test, y_train, y_test = train_test_split(X, y, test_size=0.2, random_state=42)\n",
        "\n",
        "# Scale the features (assuming you have numerical features)\n",
        "scaler = StandardScaler()\n",
        "X_train_scaled = scaler.fit_transform(X_train)\n",
        "X_test_scaled = scaler.transform(X_test)\n",
        "\n",
        "# Use RandomForestClassifier for feature selection\n",
        "clf = RandomForestClassifier(random_state=42)\n",
        "selector = SelectFromModel(clf)\n",
        "selector.fit(X_train_scaled, y_train)\n",
        "\n",
        "# Transform the data to include only selected features\n",
        "X_train_selected = selector.transform(X_train_scaled)\n",
        "X_test_selected = selector.transform(X_test_scaled)\n",
        "\n",
        "# Train and evaluate a model with selected features\n",
        "selected_model = RandomForestClassifier(random_state=42)\n",
        "selected_model.fit(X_train_selected, y_train)\n",
        "y_pred_selected = selected_model.predict(X_test_selected)\n",
        "\n",
        "accuracy_selected = accuracy_score(y_test, y_pred_selected)\n",
        "report_selected = classification_report(y_test, y_pred_selected)\n",
        "\n",
        "print(\"Model with Selected Features:\")\n",
        "print(f\"Accuracy: {accuracy_selected:.4f}\")\n",
        "print(\"Classification Report:\\n\", report_selected)\n"
      ],
      "metadata": {
        "colab": {
          "base_uri": "https://localhost:8080/"
        },
        "id": "3A6taPXRWsgl",
        "outputId": "ca20085b-0101-474d-e539-11b99c4fb679"
      },
      "execution_count": 115,
      "outputs": [
        {
          "output_type": "stream",
          "name": "stdout",
          "text": [
            "Model with Selected Features:\n",
            "Accuracy: 0.9653\n",
            "Classification Report:\n",
            "               precision    recall  f1-score   support\n",
            "\n",
            "           0       1.00      1.00      1.00         1\n",
            "           1       0.83      1.00      0.91         5\n",
            "           2       0.00      0.00      0.00         1\n",
            "           3       0.00      0.00      0.00         1\n",
            "           4       1.00      1.00      1.00         1\n",
            "           5       0.00      0.00      0.00         0\n",
            "           8       1.00      1.00      1.00         5\n",
            "           9       1.00      1.00      1.00         1\n",
            "          12       0.00      0.00      0.00         0\n",
            "          13       1.00      1.00      1.00         9\n",
            "          14       1.00      1.00      1.00         2\n",
            "          15       0.00      0.00      0.00         1\n",
            "          19       1.00      1.00      1.00         2\n",
            "          23       1.00      1.00      1.00         2\n",
            "          24       1.00      1.00      1.00         4\n",
            "          26       1.00      1.00      1.00        90\n",
            "          29       1.00      1.00      1.00         1\n",
            "          30       1.00      1.00      1.00         1\n",
            "          35       1.00      1.00      1.00        29\n",
            "          36       1.00      1.00      1.00         1\n",
            "          38       1.00      1.00      1.00        12\n",
            "          39       1.00      1.00      1.00         1\n",
            "          41       1.00      1.00      1.00         1\n",
            "          42       1.00      1.00      1.00         7\n",
            "          44       1.00      1.00      1.00         2\n",
            "          45       1.00      1.00      1.00         1\n",
            "          46       1.00      1.00      1.00       101\n",
            "          47       1.00      1.00      1.00        29\n",
            "          48       1.00      1.00      1.00         1\n",
            "          50       1.00      1.00      1.00         1\n",
            "          52       0.00      0.00      0.00         1\n",
            "          53       1.00      1.00      1.00         3\n",
            "          54       1.00      1.00      1.00         2\n",
            "          55       0.00      0.00      0.00         2\n",
            "          56       0.00      0.00      0.00         0\n",
            "          61       0.00      0.00      0.00         0\n",
            "          62       1.00      1.00      1.00         1\n",
            "          63       1.00      1.00      1.00         3\n",
            "          66       1.00      1.00      1.00         5\n",
            "          68       0.00      0.00      0.00         1\n",
            "          70       1.00      1.00      1.00         2\n",
            "          71       0.00      0.00      0.00         0\n",
            "          72       0.00      0.00      0.00         1\n",
            "          74       1.00      1.00      1.00         8\n",
            "          76       0.00      0.00      0.00         0\n",
            "          77       0.00      0.00      0.00         1\n",
            "          78       1.00      1.00      1.00         7\n",
            "          81       1.00      1.00      1.00         1\n",
            "          83       1.00      1.00      1.00         5\n",
            "          84       0.00      0.00      0.00         1\n",
            "          86       1.00      1.00      1.00         1\n",
            "          92       1.00      1.00      1.00         1\n",
            "          93       0.50      1.00      0.67         1\n",
            "          94       1.00      1.00      1.00         4\n",
            "          95       1.00      1.00      1.00         2\n",
            "          96       0.00      0.00      0.00         0\n",
            "          99       1.00      1.00      1.00         1\n",
            "         103       1.00      1.00      1.00         1\n",
            "         105       0.75      1.00      0.86         3\n",
            "         106       0.00      0.00      0.00         1\n",
            "         107       1.00      1.00      1.00         1\n",
            "         108       1.00      1.00      1.00         5\n",
            "         110       0.00      0.00      0.00         1\n",
            "         111       1.00      1.00      1.00         5\n",
            "         112       0.00      0.00      0.00         0\n",
            "         113       1.00      1.00      1.00         2\n",
            "         116       1.00      1.00      1.00         4\n",
            "         117       0.00      0.00      0.00         0\n",
            "         118       0.00      0.00      0.00         1\n",
            "         119       1.00      1.00      1.00         1\n",
            "         122       1.00      1.00      1.00         4\n",
            "         124       0.00      0.00      0.00         0\n",
            "         125       0.00      0.00      0.00         1\n",
            "         126       1.00      1.00      1.00         1\n",
            "         130       1.00      1.00      1.00         6\n",
            "\n",
            "    accuracy                           0.97       404\n",
            "   macro avg       0.68      0.69      0.69       404\n",
            "weighted avg       0.96      0.97      0.96       404\n",
            "\n"
          ]
        }
      ]
    },
    {
      "cell_type": "markdown",
      "source": [
        "**Model Building**"
      ],
      "metadata": {
        "id": "HGx2ukqUO0PK"
      }
    },
    {
      "cell_type": "code",
      "source": [
        "df.dropna(inplace=True)"
      ],
      "metadata": {
        "id": "9mIHysbUIb1x"
      },
      "execution_count": 76,
      "outputs": []
    },
    {
      "cell_type": "code",
      "source": [
        "def categorizing(dat):\n",
        "    cat = dat.astype('category').cat.codes\n",
        "    return cat"
      ],
      "metadata": {
        "id": "Dse3PKmgIeoj"
      },
      "execution_count": 77,
      "outputs": []
    },
    {
      "cell_type": "code",
      "source": [
        "df['STATE'] = categorizing(df['STATE'])\n",
        "df['CONSTITUENCY'] = categorizing(df['CONSTITUENCY'])\n",
        "df['NAME'] = categorizing(df['NAME'])\n",
        "df['PARTY'] = categorizing(df['PARTY'])\n",
        "df['SYMBOL'] = categorizing(df['SYMBOL'])\n",
        "df['GENDER'] = categorizing(df['GENDER'])\n",
        "df['CATEGORY'] = categorizing(df['CATEGORY'])\n",
        "df['EDUCATION'] = categorizing(df['EDUCATION'])\n",
        "df['ASSETS'] = categorizing(df['ASSETS'])\n",
        "df['LIABILITIES'] = categorizing(df['LIABILITIES'])"
      ],
      "metadata": {
        "id": "OUQ8GpEeIhUb"
      },
      "execution_count": 78,
      "outputs": []
    },
    {
      "cell_type": "code",
      "source": [
        "df.drop(['CRIMINAL'],axis=1,inplace=True)\n",
        "df.head()"
      ],
      "metadata": {
        "colab": {
          "base_uri": "https://localhost:8080/",
          "height": 256
        },
        "id": "6PMX8WJ6IjsD",
        "outputId": "9daa8508-19c6-4a4c-b2a1-b7834e0a5454"
      },
      "execution_count": 79,
      "outputs": [
        {
          "output_type": "execute_result",
          "data": {
            "text/plain": [
              "   STATE  CONSTITUENCY  NAME  WINNER  PARTY  SYMBOL  GENDER   AGE  CATEGORY  \\\n",
              "0     31             0  1712       1     26      80       1  52.0         2   \n",
              "1     31             0   700       0    119      32       1  54.0         2   \n",
              "2     31             0  1497       0     46      66       1  52.0         2   \n",
              "4     33             1  1788       1     26      80       1  58.0         1   \n",
              "5     33             1  1118       0     35      49       1  47.0         1   \n",
              "\n",
              "   EDUCATION  ...  OVER_TOTAL_VOTES_POLLED_IN_CONSTITUENCY\\n  TOTAL_ELECTORS  \\\n",
              "0          6  ...                                  35.468248         1489790   \n",
              "1          8  ...                                  29.964370         1489790   \n",
              "2          6  ...                                  29.534285         1489790   \n",
              "4         10  ...                                  56.464615         1937690   \n",
              "5          8  ...                                  37.999125         1937690   \n",
              "\n",
              "   total_cons_per_state  total_voters_per_state  total_voters_per_cons  \\\n",
              "0                    74             1044.973998                      3   \n",
              "1                    74             1044.973998                      3   \n",
              "2                    74             1044.973998                      3   \n",
              "4                   251             4589.936789                      3   \n",
              "5                   251             4589.936789                      3   \n",
              "\n",
              "   winning_seats_by_party  education_by_party  \\\n",
              "0                     300                3339   \n",
              "1                       9                 147   \n",
              "2                      52                3348   \n",
              "4                     300                3339   \n",
              "5                      11                1111   \n",
              "\n",
              "   total_candidates_by_party_per_cons  winning_seats_by_party_per_cons  \\\n",
              "0                                   1                                1   \n",
              "1                                   1                                0   \n",
              "2                                   1                                0   \n",
              "4                                   1                                1   \n",
              "5                                   1                                0   \n",
              "\n",
              "   education_by_party_per_cons  \n",
              "0                            7  \n",
              "1                            9  \n",
              "2                            7  \n",
              "4                           11  \n",
              "5                            9  \n",
              "\n",
              "[5 rows x 26 columns]"
            ],
            "text/html": [
              "\n",
              "  <div id=\"df-8ba5a56f-8aef-4762-b167-6f875f1d21ba\" class=\"colab-df-container\">\n",
              "    <div>\n",
              "<style scoped>\n",
              "    .dataframe tbody tr th:only-of-type {\n",
              "        vertical-align: middle;\n",
              "    }\n",
              "\n",
              "    .dataframe tbody tr th {\n",
              "        vertical-align: top;\n",
              "    }\n",
              "\n",
              "    .dataframe thead th {\n",
              "        text-align: right;\n",
              "    }\n",
              "</style>\n",
              "<table border=\"1\" class=\"dataframe\">\n",
              "  <thead>\n",
              "    <tr style=\"text-align: right;\">\n",
              "      <th></th>\n",
              "      <th>STATE</th>\n",
              "      <th>CONSTITUENCY</th>\n",
              "      <th>NAME</th>\n",
              "      <th>WINNER</th>\n",
              "      <th>PARTY</th>\n",
              "      <th>SYMBOL</th>\n",
              "      <th>GENDER</th>\n",
              "      <th>AGE</th>\n",
              "      <th>CATEGORY</th>\n",
              "      <th>EDUCATION</th>\n",
              "      <th>...</th>\n",
              "      <th>OVER_TOTAL_VOTES_POLLED_IN_CONSTITUENCY\\n</th>\n",
              "      <th>TOTAL_ELECTORS</th>\n",
              "      <th>total_cons_per_state</th>\n",
              "      <th>total_voters_per_state</th>\n",
              "      <th>total_voters_per_cons</th>\n",
              "      <th>winning_seats_by_party</th>\n",
              "      <th>education_by_party</th>\n",
              "      <th>total_candidates_by_party_per_cons</th>\n",
              "      <th>winning_seats_by_party_per_cons</th>\n",
              "      <th>education_by_party_per_cons</th>\n",
              "    </tr>\n",
              "  </thead>\n",
              "  <tbody>\n",
              "    <tr>\n",
              "      <th>0</th>\n",
              "      <td>31</td>\n",
              "      <td>0</td>\n",
              "      <td>1712</td>\n",
              "      <td>1</td>\n",
              "      <td>26</td>\n",
              "      <td>80</td>\n",
              "      <td>1</td>\n",
              "      <td>52.0</td>\n",
              "      <td>2</td>\n",
              "      <td>6</td>\n",
              "      <td>...</td>\n",
              "      <td>35.468248</td>\n",
              "      <td>1489790</td>\n",
              "      <td>74</td>\n",
              "      <td>1044.973998</td>\n",
              "      <td>3</td>\n",
              "      <td>300</td>\n",
              "      <td>3339</td>\n",
              "      <td>1</td>\n",
              "      <td>1</td>\n",
              "      <td>7</td>\n",
              "    </tr>\n",
              "    <tr>\n",
              "      <th>1</th>\n",
              "      <td>31</td>\n",
              "      <td>0</td>\n",
              "      <td>700</td>\n",
              "      <td>0</td>\n",
              "      <td>119</td>\n",
              "      <td>32</td>\n",
              "      <td>1</td>\n",
              "      <td>54.0</td>\n",
              "      <td>2</td>\n",
              "      <td>8</td>\n",
              "      <td>...</td>\n",
              "      <td>29.964370</td>\n",
              "      <td>1489790</td>\n",
              "      <td>74</td>\n",
              "      <td>1044.973998</td>\n",
              "      <td>3</td>\n",
              "      <td>9</td>\n",
              "      <td>147</td>\n",
              "      <td>1</td>\n",
              "      <td>0</td>\n",
              "      <td>9</td>\n",
              "    </tr>\n",
              "    <tr>\n",
              "      <th>2</th>\n",
              "      <td>31</td>\n",
              "      <td>0</td>\n",
              "      <td>1497</td>\n",
              "      <td>0</td>\n",
              "      <td>46</td>\n",
              "      <td>66</td>\n",
              "      <td>1</td>\n",
              "      <td>52.0</td>\n",
              "      <td>2</td>\n",
              "      <td>6</td>\n",
              "      <td>...</td>\n",
              "      <td>29.534285</td>\n",
              "      <td>1489790</td>\n",
              "      <td>74</td>\n",
              "      <td>1044.973998</td>\n",
              "      <td>3</td>\n",
              "      <td>52</td>\n",
              "      <td>3348</td>\n",
              "      <td>1</td>\n",
              "      <td>0</td>\n",
              "      <td>7</td>\n",
              "    </tr>\n",
              "    <tr>\n",
              "      <th>4</th>\n",
              "      <td>33</td>\n",
              "      <td>1</td>\n",
              "      <td>1788</td>\n",
              "      <td>1</td>\n",
              "      <td>26</td>\n",
              "      <td>80</td>\n",
              "      <td>1</td>\n",
              "      <td>58.0</td>\n",
              "      <td>1</td>\n",
              "      <td>10</td>\n",
              "      <td>...</td>\n",
              "      <td>56.464615</td>\n",
              "      <td>1937690</td>\n",
              "      <td>251</td>\n",
              "      <td>4589.936789</td>\n",
              "      <td>3</td>\n",
              "      <td>300</td>\n",
              "      <td>3339</td>\n",
              "      <td>1</td>\n",
              "      <td>1</td>\n",
              "      <td>11</td>\n",
              "    </tr>\n",
              "    <tr>\n",
              "      <th>5</th>\n",
              "      <td>33</td>\n",
              "      <td>1</td>\n",
              "      <td>1118</td>\n",
              "      <td>0</td>\n",
              "      <td>35</td>\n",
              "      <td>49</td>\n",
              "      <td>1</td>\n",
              "      <td>47.0</td>\n",
              "      <td>1</td>\n",
              "      <td>8</td>\n",
              "      <td>...</td>\n",
              "      <td>37.999125</td>\n",
              "      <td>1937690</td>\n",
              "      <td>251</td>\n",
              "      <td>4589.936789</td>\n",
              "      <td>3</td>\n",
              "      <td>11</td>\n",
              "      <td>1111</td>\n",
              "      <td>1</td>\n",
              "      <td>0</td>\n",
              "      <td>9</td>\n",
              "    </tr>\n",
              "  </tbody>\n",
              "</table>\n",
              "<p>5 rows × 26 columns</p>\n",
              "</div>\n",
              "    <div class=\"colab-df-buttons\">\n",
              "\n",
              "  <div class=\"colab-df-container\">\n",
              "    <button class=\"colab-df-convert\" onclick=\"convertToInteractive('df-8ba5a56f-8aef-4762-b167-6f875f1d21ba')\"\n",
              "            title=\"Convert this dataframe to an interactive table.\"\n",
              "            style=\"display:none;\">\n",
              "\n",
              "  <svg xmlns=\"http://www.w3.org/2000/svg\" height=\"24px\" viewBox=\"0 -960 960 960\">\n",
              "    <path d=\"M120-120v-720h720v720H120Zm60-500h600v-160H180v160Zm220 220h160v-160H400v160Zm0 220h160v-160H400v160ZM180-400h160v-160H180v160Zm440 0h160v-160H620v160ZM180-180h160v-160H180v160Zm440 0h160v-160H620v160Z\"/>\n",
              "  </svg>\n",
              "    </button>\n",
              "\n",
              "  <style>\n",
              "    .colab-df-container {\n",
              "      display:flex;\n",
              "      gap: 12px;\n",
              "    }\n",
              "\n",
              "    .colab-df-convert {\n",
              "      background-color: #E8F0FE;\n",
              "      border: none;\n",
              "      border-radius: 50%;\n",
              "      cursor: pointer;\n",
              "      display: none;\n",
              "      fill: #1967D2;\n",
              "      height: 32px;\n",
              "      padding: 0 0 0 0;\n",
              "      width: 32px;\n",
              "    }\n",
              "\n",
              "    .colab-df-convert:hover {\n",
              "      background-color: #E2EBFA;\n",
              "      box-shadow: 0px 1px 2px rgba(60, 64, 67, 0.3), 0px 1px 3px 1px rgba(60, 64, 67, 0.15);\n",
              "      fill: #174EA6;\n",
              "    }\n",
              "\n",
              "    .colab-df-buttons div {\n",
              "      margin-bottom: 4px;\n",
              "    }\n",
              "\n",
              "    [theme=dark] .colab-df-convert {\n",
              "      background-color: #3B4455;\n",
              "      fill: #D2E3FC;\n",
              "    }\n",
              "\n",
              "    [theme=dark] .colab-df-convert:hover {\n",
              "      background-color: #434B5C;\n",
              "      box-shadow: 0px 1px 3px 1px rgba(0, 0, 0, 0.15);\n",
              "      filter: drop-shadow(0px 1px 2px rgba(0, 0, 0, 0.3));\n",
              "      fill: #FFFFFF;\n",
              "    }\n",
              "  </style>\n",
              "\n",
              "    <script>\n",
              "      const buttonEl =\n",
              "        document.querySelector('#df-8ba5a56f-8aef-4762-b167-6f875f1d21ba button.colab-df-convert');\n",
              "      buttonEl.style.display =\n",
              "        google.colab.kernel.accessAllowed ? 'block' : 'none';\n",
              "\n",
              "      async function convertToInteractive(key) {\n",
              "        const element = document.querySelector('#df-8ba5a56f-8aef-4762-b167-6f875f1d21ba');\n",
              "        const dataTable =\n",
              "          await google.colab.kernel.invokeFunction('convertToInteractive',\n",
              "                                                    [key], {});\n",
              "        if (!dataTable) return;\n",
              "\n",
              "        const docLinkHtml = 'Like what you see? Visit the ' +\n",
              "          '<a target=\"_blank\" href=https://colab.research.google.com/notebooks/data_table.ipynb>data table notebook</a>'\n",
              "          + ' to learn more about interactive tables.';\n",
              "        element.innerHTML = '';\n",
              "        dataTable['output_type'] = 'display_data';\n",
              "        await google.colab.output.renderOutput(dataTable, element);\n",
              "        const docLink = document.createElement('div');\n",
              "        docLink.innerHTML = docLinkHtml;\n",
              "        element.appendChild(docLink);\n",
              "      }\n",
              "    </script>\n",
              "  </div>\n",
              "\n",
              "\n",
              "<div id=\"df-62785322-900f-48ff-acb4-7ee4c463be91\">\n",
              "  <button class=\"colab-df-quickchart\" onclick=\"quickchart('df-62785322-900f-48ff-acb4-7ee4c463be91')\"\n",
              "            title=\"Suggest charts\"\n",
              "            style=\"display:none;\">\n",
              "\n",
              "<svg xmlns=\"http://www.w3.org/2000/svg\" height=\"24px\"viewBox=\"0 0 24 24\"\n",
              "     width=\"24px\">\n",
              "    <g>\n",
              "        <path d=\"M19 3H5c-1.1 0-2 .9-2 2v14c0 1.1.9 2 2 2h14c1.1 0 2-.9 2-2V5c0-1.1-.9-2-2-2zM9 17H7v-7h2v7zm4 0h-2V7h2v10zm4 0h-2v-4h2v4z\"/>\n",
              "    </g>\n",
              "</svg>\n",
              "  </button>\n",
              "\n",
              "<style>\n",
              "  .colab-df-quickchart {\n",
              "      --bg-color: #E8F0FE;\n",
              "      --fill-color: #1967D2;\n",
              "      --hover-bg-color: #E2EBFA;\n",
              "      --hover-fill-color: #174EA6;\n",
              "      --disabled-fill-color: #AAA;\n",
              "      --disabled-bg-color: #DDD;\n",
              "  }\n",
              "\n",
              "  [theme=dark] .colab-df-quickchart {\n",
              "      --bg-color: #3B4455;\n",
              "      --fill-color: #D2E3FC;\n",
              "      --hover-bg-color: #434B5C;\n",
              "      --hover-fill-color: #FFFFFF;\n",
              "      --disabled-bg-color: #3B4455;\n",
              "      --disabled-fill-color: #666;\n",
              "  }\n",
              "\n",
              "  .colab-df-quickchart {\n",
              "    background-color: var(--bg-color);\n",
              "    border: none;\n",
              "    border-radius: 50%;\n",
              "    cursor: pointer;\n",
              "    display: none;\n",
              "    fill: var(--fill-color);\n",
              "    height: 32px;\n",
              "    padding: 0;\n",
              "    width: 32px;\n",
              "  }\n",
              "\n",
              "  .colab-df-quickchart:hover {\n",
              "    background-color: var(--hover-bg-color);\n",
              "    box-shadow: 0 1px 2px rgba(60, 64, 67, 0.3), 0 1px 3px 1px rgba(60, 64, 67, 0.15);\n",
              "    fill: var(--button-hover-fill-color);\n",
              "  }\n",
              "\n",
              "  .colab-df-quickchart-complete:disabled,\n",
              "  .colab-df-quickchart-complete:disabled:hover {\n",
              "    background-color: var(--disabled-bg-color);\n",
              "    fill: var(--disabled-fill-color);\n",
              "    box-shadow: none;\n",
              "  }\n",
              "\n",
              "  .colab-df-spinner {\n",
              "    border: 2px solid var(--fill-color);\n",
              "    border-color: transparent;\n",
              "    border-bottom-color: var(--fill-color);\n",
              "    animation:\n",
              "      spin 1s steps(1) infinite;\n",
              "  }\n",
              "\n",
              "  @keyframes spin {\n",
              "    0% {\n",
              "      border-color: transparent;\n",
              "      border-bottom-color: var(--fill-color);\n",
              "      border-left-color: var(--fill-color);\n",
              "    }\n",
              "    20% {\n",
              "      border-color: transparent;\n",
              "      border-left-color: var(--fill-color);\n",
              "      border-top-color: var(--fill-color);\n",
              "    }\n",
              "    30% {\n",
              "      border-color: transparent;\n",
              "      border-left-color: var(--fill-color);\n",
              "      border-top-color: var(--fill-color);\n",
              "      border-right-color: var(--fill-color);\n",
              "    }\n",
              "    40% {\n",
              "      border-color: transparent;\n",
              "      border-right-color: var(--fill-color);\n",
              "      border-top-color: var(--fill-color);\n",
              "    }\n",
              "    60% {\n",
              "      border-color: transparent;\n",
              "      border-right-color: var(--fill-color);\n",
              "    }\n",
              "    80% {\n",
              "      border-color: transparent;\n",
              "      border-right-color: var(--fill-color);\n",
              "      border-bottom-color: var(--fill-color);\n",
              "    }\n",
              "    90% {\n",
              "      border-color: transparent;\n",
              "      border-bottom-color: var(--fill-color);\n",
              "    }\n",
              "  }\n",
              "</style>\n",
              "\n",
              "  <script>\n",
              "    async function quickchart(key) {\n",
              "      const quickchartButtonEl =\n",
              "        document.querySelector('#' + key + ' button');\n",
              "      quickchartButtonEl.disabled = true;  // To prevent multiple clicks.\n",
              "      quickchartButtonEl.classList.add('colab-df-spinner');\n",
              "      try {\n",
              "        const charts = await google.colab.kernel.invokeFunction(\n",
              "            'suggestCharts', [key], {});\n",
              "      } catch (error) {\n",
              "        console.error('Error during call to suggestCharts:', error);\n",
              "      }\n",
              "      quickchartButtonEl.classList.remove('colab-df-spinner');\n",
              "      quickchartButtonEl.classList.add('colab-df-quickchart-complete');\n",
              "    }\n",
              "    (() => {\n",
              "      let quickchartButtonEl =\n",
              "        document.querySelector('#df-62785322-900f-48ff-acb4-7ee4c463be91 button');\n",
              "      quickchartButtonEl.style.display =\n",
              "        google.colab.kernel.accessAllowed ? 'block' : 'none';\n",
              "    })();\n",
              "  </script>\n",
              "</div>\n",
              "\n",
              "    </div>\n",
              "  </div>\n"
            ]
          },
          "metadata": {},
          "execution_count": 79
        }
      ]
    },
    {
      "cell_type": "markdown",
      "source": [
        "**Model Evaluation**"
      ],
      "metadata": {
        "id": "nx-156tiObb5"
      }
    },
    {
      "cell_type": "code",
      "source": [
        "from sklearn.metrics import accuracy_score, precision_score, recall_score, f1_score, roc_auc_score, confusion_matrix\n",
        "\n",
        "# Assuming y_true and y_pred are your true labels and predicted labels, respectively\n",
        "\n",
        "# Accuracy\n",
        "accuracy = accuracy_score(y_test, y_pred)\n",
        "print(f'Accuracy: {accuracy:.4f}')\n",
        "\n",
        "# Precision\n",
        "precision = precision_score(y_test, y_pred)\n",
        "print(f'Precision: {precision:.4f}')\n",
        "\n",
        "# Recall\n",
        "recall = recall_score(y_test, y_pred)\n",
        "print(f'Recall: {recall:.4f}')\n",
        "\n",
        "# F1 Score\n",
        "f1 = f1_score(y_test, y_pred)\n",
        "print(f'F1 Score: {f1:.4f}')\n",
        "\n",
        "# ROC-AUC\n",
        "roc_auc = roc_auc_score(y_test, y_pred)  # y_pred_prob is the predicted probability for positive class\n",
        "print(f'ROC-AUC: {roc_auc:.4f}')\n",
        "\n",
        "# Confusion Matrix\n",
        "conf_matrix = confusion_matrix(y_test, y_pred)\n",
        "print(f'Confusion Matrix:\\n{conf_matrix}')"
      ],
      "metadata": {
        "colab": {
          "base_uri": "https://localhost:8080/"
        },
        "id": "N7VxrNXqJE1q",
        "outputId": "7e132820-8be0-4524-f3c1-62c074c155cb"
      },
      "execution_count": 84,
      "outputs": [
        {
          "output_type": "stream",
          "name": "stdout",
          "text": [
            "Accuracy: 1.0000\n",
            "Precision: 1.0000\n",
            "Recall: 1.0000\n",
            "F1 Score: 1.0000\n",
            "ROC-AUC: 1.0000\n",
            "Confusion Matrix:\n",
            "[[442   0]\n",
            " [  0 164]]\n"
          ]
        }
      ]
    },
    {
      "cell_type": "code",
      "source": [
        "from sklearn.metrics import mean_squared_error, r2_score, mean_absolute_error\n",
        "\n",
        "mse = mean_squared_error(y_test, y_pred)\n",
        "print(f'Mean Squared Error: {mse:.4f}')\n",
        "\n",
        "# R-squared\n",
        "r2 = r2_score(y_test, y_pred)\n",
        "print(f'R-squared: {r2:.4f}')\n",
        "\n",
        "# Mean Absolute Error (MAE)\n",
        "mae = mean_absolute_error(y_test, y_pred)\n",
        "print(f'Mean Absolute Error: {mae:.4f}')"
      ],
      "metadata": {
        "colab": {
          "base_uri": "https://localhost:8080/"
        },
        "id": "8YPSAEJEJHtL",
        "outputId": "e5cf2cf5-576d-4347-9b10-99e086e6f9c7"
      },
      "execution_count": 85,
      "outputs": [
        {
          "output_type": "stream",
          "name": "stdout",
          "text": [
            "Mean Squared Error: 0.0000\n",
            "R-squared: 1.0000\n",
            "Mean Absolute Error: 0.0000\n"
          ]
        }
      ]
    },
    {
      "cell_type": "markdown",
      "source": [
        "**LogisticRegression**"
      ],
      "metadata": {
        "id": "9MC34QWPONkR"
      }
    },
    {
      "cell_type": "code",
      "source": [
        "y = df['WINNER']\n",
        "X = df.drop(['WINNER'],axis=1)"
      ],
      "metadata": {
        "id": "mgavEA3TIojj"
      },
      "execution_count": 80,
      "outputs": []
    },
    {
      "cell_type": "code",
      "source": [
        "from sklearn.preprocessing import LabelEncoder\n",
        "labelEncoder_X = LabelEncoder()\n",
        "df['STATE'] = labelEncoder_X.fit_transform(df['STATE'])\n",
        "df['CONSTITUENCY'] = labelEncoder_X.fit_transform(df['CONSTITUENCY'])\n",
        "df['NAME'] = labelEncoder_X.fit_transform(df['NAME'])\n",
        "df['PARTY'] = labelEncoder_X.fit_transform(df['PARTY'])\n",
        "df['SYMBOL'] = labelEncoder_X.fit_transform(df['SYMBOL'])\n",
        "df['GENDER'] = labelEncoder_X.fit_transform(df['GENDER'])\n",
        "df['CATEGORY'] = labelEncoder_X.fit_transform(df['CATEGORY'])\n",
        "df['EDUCATION'] = labelEncoder_X.fit_transform(df['EDUCATION'])\n",
        "X=df.drop(['WINNER','ASSETS','LIABILITIES','GENERALS_VOTERS','POSTAL_VOTERS','AGE','OVER_TOTAL_ELECTORS_IN_CONSTITUENCY','OVER_TOTAL_VOTES_POLLED_IN_CONSTITUENCY\\n'],axis=1)\n",
        "y=df['WINNER']\n",
        "from sklearn.model_selection import train_test_split\n",
        "X_train,X_test,y_train,y_test = train_test_split(X,y,test_size=0.3,random_state=42)\n",
        "from sklearn.preprocessing import StandardScaler\n",
        "Scaler_X = StandardScaler()\n",
        "X_train = Scaler_X.fit_transform(X_train)\n",
        "X_test = Scaler_X.transform(X_test)\n",
        "from sklearn.metrics import confusion_matrix, accuracy_score"
      ],
      "metadata": {
        "id": "DETea8txIq7z"
      },
      "execution_count": 82,
      "outputs": []
    },
    {
      "cell_type": "code",
      "source": [
        "#Logistic Regression\n",
        "from sklearn.linear_model import LogisticRegression\n",
        "\n",
        "lr = LogisticRegression()\n",
        "lr.fit(X_train,y_train)\n",
        "y_pred = lr.predict(X_test)\n",
        "\n",
        "print(accuracy_score(y_test,y_pred))\n",
        "print(confusion_matrix(y_test,y_pred))"
      ],
      "metadata": {
        "colab": {
          "base_uri": "https://localhost:8080/"
        },
        "id": "rQ865ZkYJBcC",
        "outputId": "696ab468-e8d1-4824-fc8a-6294c52fd814"
      },
      "execution_count": 83,
      "outputs": [
        {
          "output_type": "stream",
          "name": "stdout",
          "text": [
            "1.0\n",
            "[[442   0]\n",
            " [  0 164]]\n"
          ]
        }
      ]
    },
    {
      "cell_type": "code",
      "source": [
        "from sklearn.linear_model import LogisticRegression\n",
        "from sklearn.model_selection import train_test_split\n",
        "from sklearn.metrics import accuracy_score\n",
        "x_train,x_test,y_train,y_test=train_test_split(X,y,test_size=0.3,random_state=1)\n",
        "logistic_regression = LogisticRegression(random_state=1)\n",
        "logistic_regression.fit(x_train,y_train)"
      ],
      "metadata": {
        "colab": {
          "base_uri": "https://localhost:8080/",
          "height": 75
        },
        "id": "97-RB0srJLAr",
        "outputId": "cd316ff6-7bec-4d61-e837-f262dd6506e2"
      },
      "execution_count": 86,
      "outputs": [
        {
          "output_type": "execute_result",
          "data": {
            "text/plain": [
              "LogisticRegression(random_state=1)"
            ],
            "text/html": [
              "<style>#sk-container-id-1 {color: black;background-color: white;}#sk-container-id-1 pre{padding: 0;}#sk-container-id-1 div.sk-toggleable {background-color: white;}#sk-container-id-1 label.sk-toggleable__label {cursor: pointer;display: block;width: 100%;margin-bottom: 0;padding: 0.3em;box-sizing: border-box;text-align: center;}#sk-container-id-1 label.sk-toggleable__label-arrow:before {content: \"▸\";float: left;margin-right: 0.25em;color: #696969;}#sk-container-id-1 label.sk-toggleable__label-arrow:hover:before {color: black;}#sk-container-id-1 div.sk-estimator:hover label.sk-toggleable__label-arrow:before {color: black;}#sk-container-id-1 div.sk-toggleable__content {max-height: 0;max-width: 0;overflow: hidden;text-align: left;background-color: #f0f8ff;}#sk-container-id-1 div.sk-toggleable__content pre {margin: 0.2em;color: black;border-radius: 0.25em;background-color: #f0f8ff;}#sk-container-id-1 input.sk-toggleable__control:checked~div.sk-toggleable__content {max-height: 200px;max-width: 100%;overflow: auto;}#sk-container-id-1 input.sk-toggleable__control:checked~label.sk-toggleable__label-arrow:before {content: \"▾\";}#sk-container-id-1 div.sk-estimator input.sk-toggleable__control:checked~label.sk-toggleable__label {background-color: #d4ebff;}#sk-container-id-1 div.sk-label input.sk-toggleable__control:checked~label.sk-toggleable__label {background-color: #d4ebff;}#sk-container-id-1 input.sk-hidden--visually {border: 0;clip: rect(1px 1px 1px 1px);clip: rect(1px, 1px, 1px, 1px);height: 1px;margin: -1px;overflow: hidden;padding: 0;position: absolute;width: 1px;}#sk-container-id-1 div.sk-estimator {font-family: monospace;background-color: #f0f8ff;border: 1px dotted black;border-radius: 0.25em;box-sizing: border-box;margin-bottom: 0.5em;}#sk-container-id-1 div.sk-estimator:hover {background-color: #d4ebff;}#sk-container-id-1 div.sk-parallel-item::after {content: \"\";width: 100%;border-bottom: 1px solid gray;flex-grow: 1;}#sk-container-id-1 div.sk-label:hover label.sk-toggleable__label {background-color: #d4ebff;}#sk-container-id-1 div.sk-serial::before {content: \"\";position: absolute;border-left: 1px solid gray;box-sizing: border-box;top: 0;bottom: 0;left: 50%;z-index: 0;}#sk-container-id-1 div.sk-serial {display: flex;flex-direction: column;align-items: center;background-color: white;padding-right: 0.2em;padding-left: 0.2em;position: relative;}#sk-container-id-1 div.sk-item {position: relative;z-index: 1;}#sk-container-id-1 div.sk-parallel {display: flex;align-items: stretch;justify-content: center;background-color: white;position: relative;}#sk-container-id-1 div.sk-item::before, #sk-container-id-1 div.sk-parallel-item::before {content: \"\";position: absolute;border-left: 1px solid gray;box-sizing: border-box;top: 0;bottom: 0;left: 50%;z-index: -1;}#sk-container-id-1 div.sk-parallel-item {display: flex;flex-direction: column;z-index: 1;position: relative;background-color: white;}#sk-container-id-1 div.sk-parallel-item:first-child::after {align-self: flex-end;width: 50%;}#sk-container-id-1 div.sk-parallel-item:last-child::after {align-self: flex-start;width: 50%;}#sk-container-id-1 div.sk-parallel-item:only-child::after {width: 0;}#sk-container-id-1 div.sk-dashed-wrapped {border: 1px dashed gray;margin: 0 0.4em 0.5em 0.4em;box-sizing: border-box;padding-bottom: 0.4em;background-color: white;}#sk-container-id-1 div.sk-label label {font-family: monospace;font-weight: bold;display: inline-block;line-height: 1.2em;}#sk-container-id-1 div.sk-label-container {text-align: center;}#sk-container-id-1 div.sk-container {/* jupyter's `normalize.less` sets `[hidden] { display: none; }` but bootstrap.min.css set `[hidden] { display: none !important; }` so we also need the `!important` here to be able to override the default hidden behavior on the sphinx rendered scikit-learn.org. See: https://github.com/scikit-learn/scikit-learn/issues/21755 */display: inline-block !important;position: relative;}#sk-container-id-1 div.sk-text-repr-fallback {display: none;}</style><div id=\"sk-container-id-1\" class=\"sk-top-container\"><div class=\"sk-text-repr-fallback\"><pre>LogisticRegression(random_state=1)</pre><b>In a Jupyter environment, please rerun this cell to show the HTML representation or trust the notebook. <br />On GitHub, the HTML representation is unable to render, please try loading this page with nbviewer.org.</b></div><div class=\"sk-container\" hidden><div class=\"sk-item\"><div class=\"sk-estimator sk-toggleable\"><input class=\"sk-toggleable__control sk-hidden--visually\" id=\"sk-estimator-id-1\" type=\"checkbox\" checked><label for=\"sk-estimator-id-1\" class=\"sk-toggleable__label sk-toggleable__label-arrow\">LogisticRegression</label><div class=\"sk-toggleable__content\"><pre>LogisticRegression(random_state=1)</pre></div></div></div></div></div>"
            ]
          },
          "metadata": {},
          "execution_count": 86
        }
      ]
    },
    {
      "cell_type": "code",
      "source": [
        "prediction=logistic_regression.predict(x_test)\n",
        "prediction"
      ],
      "metadata": {
        "colab": {
          "base_uri": "https://localhost:8080/"
        },
        "id": "hyezESHtJOUz",
        "outputId": "42b4ae0a-b855-46e9-d118-298979991dea"
      },
      "execution_count": 87,
      "outputs": [
        {
          "output_type": "execute_result",
          "data": {
            "text/plain": [
              "array([0, 0, 0, 0, 0, 1, 0, 0, 0, 0, 0, 0, 0, 0, 1, 0, 0, 0, 0, 1, 0, 0,\n",
              "       0, 0, 0, 0, 0, 0, 0, 0, 0, 0, 0, 0, 0, 0, 0, 0, 1, 0, 0, 0, 1, 0,\n",
              "       0, 1, 0, 0, 1, 0, 0, 1, 0, 0, 0, 0, 0, 1, 0, 0, 0, 0, 0, 0, 0, 0,\n",
              "       1, 0, 0, 0, 0, 0, 0, 0, 0, 0, 0, 0, 1, 0, 0, 0, 0, 0, 0, 0, 0, 0,\n",
              "       0, 0, 1, 1, 0, 0, 0, 0, 0, 0, 1, 0, 0, 0, 0, 1, 0, 0, 0, 0, 0, 0,\n",
              "       0, 1, 0, 0, 1, 1, 1, 1, 0, 0, 0, 0, 0, 1, 0, 0, 1, 0, 0, 0, 0, 0,\n",
              "       1, 0, 0, 0, 1, 0, 0, 0, 1, 0, 0, 1, 0, 0, 0, 1, 0, 0, 0, 0, 0, 0,\n",
              "       0, 0, 0, 0, 0, 0, 0, 1, 0, 0, 1, 1, 0, 0, 1, 0, 1, 0, 0, 0, 0, 0,\n",
              "       0, 0, 1, 0, 0, 0, 0, 0, 0, 0, 0, 0, 0, 0, 0, 1, 0, 0, 0, 0, 0, 0,\n",
              "       0, 0, 0, 0, 0, 0, 0, 1, 1, 0, 0, 1, 0, 1, 1, 0, 0, 0, 0, 0, 0, 0,\n",
              "       0, 0, 0, 0, 0, 0, 1, 0, 0, 1, 1, 0, 0, 0, 0, 0, 0, 0, 0, 0, 0, 1,\n",
              "       0, 0, 0, 1, 1, 0, 0, 0, 1, 0, 0, 0, 0, 0, 0, 1, 0, 0, 0, 1, 0, 1,\n",
              "       0, 0, 0, 0, 0, 0, 0, 0, 0, 0, 0, 0, 0, 0, 1, 0, 1, 0, 1, 1, 0, 0,\n",
              "       0, 1, 0, 1, 0, 1, 0, 0, 0, 0, 0, 1, 0, 0, 0, 0, 0, 0, 0, 0, 0, 0,\n",
              "       0, 0, 0, 0, 0, 0, 0, 0, 0, 0, 0, 0, 1, 0, 1, 0, 1, 0, 0, 0, 0, 1,\n",
              "       1, 1, 0, 0, 0, 0, 0, 0, 1, 0, 0, 1, 0, 0, 0, 0, 0, 0, 0, 0, 0, 0,\n",
              "       0, 0, 0, 0, 0, 0, 1, 0, 1, 0, 0, 1, 1, 1, 0, 0, 0, 0, 0, 1, 0, 0,\n",
              "       0, 0, 0, 1, 0, 0, 0, 0, 0, 0, 0, 0, 0, 0, 1, 0, 0, 0, 0, 0, 0, 0,\n",
              "       0, 0, 0, 0, 0, 0, 0, 0, 0, 0, 1, 0, 1, 0, 1, 0, 0, 1, 0, 0, 1, 0,\n",
              "       0, 0, 0, 0, 0, 1, 0, 0, 0, 1, 0, 0, 0, 1, 0, 0, 0, 0, 0, 0, 0, 0,\n",
              "       1, 0, 0, 0, 0, 0, 0, 0, 0, 0, 1, 0, 1, 0, 1, 1, 0, 1, 1, 0, 0, 0,\n",
              "       0, 0, 0, 0, 0, 0, 1, 1, 1, 0, 0, 0, 0, 1, 0, 1, 0, 1, 1, 0, 1, 0,\n",
              "       0, 0, 1, 0, 0, 0, 0, 0, 0, 0, 0, 1, 0, 0, 0, 0, 0, 0, 0, 1, 1, 0,\n",
              "       0, 0, 0, 0, 0, 0, 0, 0, 0, 0, 0, 1, 0, 1, 0, 0, 0, 0, 0, 0, 0, 0,\n",
              "       0, 0, 0, 0, 1, 0, 0, 1, 1, 0, 1, 0, 0, 0, 0, 0, 0, 1, 1, 0, 0, 0,\n",
              "       0, 1, 0, 0, 0, 0, 0, 1, 0, 0, 0, 1, 0, 0, 0, 0, 0, 1, 1, 0, 0, 1,\n",
              "       0, 0, 0, 0, 0, 0, 0, 0, 0, 0, 0, 0, 0, 0, 0, 0, 0, 0, 0, 0, 0, 0,\n",
              "       0, 1, 0, 0, 0, 0, 0, 0, 0, 1, 0, 0])"
            ]
          },
          "metadata": {},
          "execution_count": 87
        }
      ]
    },
    {
      "cell_type": "code",
      "source": [
        "acc1 = logistic_regression.score(x_test,y_test)\n",
        "acc1"
      ],
      "metadata": {
        "colab": {
          "base_uri": "https://localhost:8080/"
        },
        "id": "aNzUhrVjJQx0",
        "outputId": "5e978174-f508-469c-ff14-32c051a4a771"
      },
      "execution_count": 88,
      "outputs": [
        {
          "output_type": "execute_result",
          "data": {
            "text/plain": [
              "0.8366336633663366"
            ]
          },
          "metadata": {},
          "execution_count": 88
        }
      ]
    },
    {
      "cell_type": "markdown",
      "source": [
        "**Random Forest**"
      ],
      "metadata": {
        "id": "A7a1-GmKOH0J"
      }
    },
    {
      "cell_type": "code",
      "source": [
        "from sklearn.ensemble import RandomForestClassifier\n",
        "Rforest_model = RandomForestClassifier(random_state=1,max_depth=10,n_estimators=50)\n",
        "Rforest_model.fit(x_train,y_train)"
      ],
      "metadata": {
        "colab": {
          "base_uri": "https://localhost:8080/",
          "height": 75
        },
        "id": "Xt_egQhjJTAL",
        "outputId": "42afd6b4-80ba-4e04-bbe5-0ad65a5e84df"
      },
      "execution_count": 89,
      "outputs": [
        {
          "output_type": "execute_result",
          "data": {
            "text/plain": [
              "RandomForestClassifier(max_depth=10, n_estimators=50, random_state=1)"
            ],
            "text/html": [
              "<style>#sk-container-id-2 {color: black;background-color: white;}#sk-container-id-2 pre{padding: 0;}#sk-container-id-2 div.sk-toggleable {background-color: white;}#sk-container-id-2 label.sk-toggleable__label {cursor: pointer;display: block;width: 100%;margin-bottom: 0;padding: 0.3em;box-sizing: border-box;text-align: center;}#sk-container-id-2 label.sk-toggleable__label-arrow:before {content: \"▸\";float: left;margin-right: 0.25em;color: #696969;}#sk-container-id-2 label.sk-toggleable__label-arrow:hover:before {color: black;}#sk-container-id-2 div.sk-estimator:hover label.sk-toggleable__label-arrow:before {color: black;}#sk-container-id-2 div.sk-toggleable__content {max-height: 0;max-width: 0;overflow: hidden;text-align: left;background-color: #f0f8ff;}#sk-container-id-2 div.sk-toggleable__content pre {margin: 0.2em;color: black;border-radius: 0.25em;background-color: #f0f8ff;}#sk-container-id-2 input.sk-toggleable__control:checked~div.sk-toggleable__content {max-height: 200px;max-width: 100%;overflow: auto;}#sk-container-id-2 input.sk-toggleable__control:checked~label.sk-toggleable__label-arrow:before {content: \"▾\";}#sk-container-id-2 div.sk-estimator input.sk-toggleable__control:checked~label.sk-toggleable__label {background-color: #d4ebff;}#sk-container-id-2 div.sk-label input.sk-toggleable__control:checked~label.sk-toggleable__label {background-color: #d4ebff;}#sk-container-id-2 input.sk-hidden--visually {border: 0;clip: rect(1px 1px 1px 1px);clip: rect(1px, 1px, 1px, 1px);height: 1px;margin: -1px;overflow: hidden;padding: 0;position: absolute;width: 1px;}#sk-container-id-2 div.sk-estimator {font-family: monospace;background-color: #f0f8ff;border: 1px dotted black;border-radius: 0.25em;box-sizing: border-box;margin-bottom: 0.5em;}#sk-container-id-2 div.sk-estimator:hover {background-color: #d4ebff;}#sk-container-id-2 div.sk-parallel-item::after {content: \"\";width: 100%;border-bottom: 1px solid gray;flex-grow: 1;}#sk-container-id-2 div.sk-label:hover label.sk-toggleable__label {background-color: #d4ebff;}#sk-container-id-2 div.sk-serial::before {content: \"\";position: absolute;border-left: 1px solid gray;box-sizing: border-box;top: 0;bottom: 0;left: 50%;z-index: 0;}#sk-container-id-2 div.sk-serial {display: flex;flex-direction: column;align-items: center;background-color: white;padding-right: 0.2em;padding-left: 0.2em;position: relative;}#sk-container-id-2 div.sk-item {position: relative;z-index: 1;}#sk-container-id-2 div.sk-parallel {display: flex;align-items: stretch;justify-content: center;background-color: white;position: relative;}#sk-container-id-2 div.sk-item::before, #sk-container-id-2 div.sk-parallel-item::before {content: \"\";position: absolute;border-left: 1px solid gray;box-sizing: border-box;top: 0;bottom: 0;left: 50%;z-index: -1;}#sk-container-id-2 div.sk-parallel-item {display: flex;flex-direction: column;z-index: 1;position: relative;background-color: white;}#sk-container-id-2 div.sk-parallel-item:first-child::after {align-self: flex-end;width: 50%;}#sk-container-id-2 div.sk-parallel-item:last-child::after {align-self: flex-start;width: 50%;}#sk-container-id-2 div.sk-parallel-item:only-child::after {width: 0;}#sk-container-id-2 div.sk-dashed-wrapped {border: 1px dashed gray;margin: 0 0.4em 0.5em 0.4em;box-sizing: border-box;padding-bottom: 0.4em;background-color: white;}#sk-container-id-2 div.sk-label label {font-family: monospace;font-weight: bold;display: inline-block;line-height: 1.2em;}#sk-container-id-2 div.sk-label-container {text-align: center;}#sk-container-id-2 div.sk-container {/* jupyter's `normalize.less` sets `[hidden] { display: none; }` but bootstrap.min.css set `[hidden] { display: none !important; }` so we also need the `!important` here to be able to override the default hidden behavior on the sphinx rendered scikit-learn.org. See: https://github.com/scikit-learn/scikit-learn/issues/21755 */display: inline-block !important;position: relative;}#sk-container-id-2 div.sk-text-repr-fallback {display: none;}</style><div id=\"sk-container-id-2\" class=\"sk-top-container\"><div class=\"sk-text-repr-fallback\"><pre>RandomForestClassifier(max_depth=10, n_estimators=50, random_state=1)</pre><b>In a Jupyter environment, please rerun this cell to show the HTML representation or trust the notebook. <br />On GitHub, the HTML representation is unable to render, please try loading this page with nbviewer.org.</b></div><div class=\"sk-container\" hidden><div class=\"sk-item\"><div class=\"sk-estimator sk-toggleable\"><input class=\"sk-toggleable__control sk-hidden--visually\" id=\"sk-estimator-id-2\" type=\"checkbox\" checked><label for=\"sk-estimator-id-2\" class=\"sk-toggleable__label sk-toggleable__label-arrow\">RandomForestClassifier</label><div class=\"sk-toggleable__content\"><pre>RandomForestClassifier(max_depth=10, n_estimators=50, random_state=1)</pre></div></div></div></div></div>"
            ]
          },
          "metadata": {},
          "execution_count": 89
        }
      ]
    },
    {
      "cell_type": "code",
      "source": [
        "from sklearn.ensemble import RandomForestClassifier\n",
        "rfc = RandomForestClassifier(n_estimators=200)\n",
        "rfc.fit(X_train,y_train)\n",
        "rfc__pred = rfc.predict(X_test)\n",
        "print(accuracy_score(y_test,rfc__pred))\n",
        "print(confusion_matrix(y_test,rfc__pred))"
      ],
      "metadata": {
        "colab": {
          "base_uri": "https://localhost:8080/"
        },
        "id": "Qczl-wzaJVHz",
        "outputId": "a1ec1743-0bc1-4272-940b-42bd7fab61cb"
      },
      "execution_count": 90,
      "outputs": [
        {
          "output_type": "stream",
          "name": "stdout",
          "text": [
            "0.7392739273927392\n",
            "[[443  12]\n",
            " [146   5]]\n"
          ]
        }
      ]
    },
    {
      "cell_type": "code",
      "source": [
        "from sklearn.model_selection import train_test_split\n",
        "\n",
        "X_train, X_test, Y_train, Y_test = train_test_split(X, y, test_size=0.2)\n",
        "X_train, X_val, Y_train, Y_val = train_test_split(X_train, Y_train, test_size=0.1)\n",
        "print(X_train.shape, X_val.shape, X_test.shape, Y_train.shape, Y_val.shape, Y_test.shape)"
      ],
      "metadata": {
        "colab": {
          "base_uri": "https://localhost:8080/"
        },
        "id": "8non5klyEE1U",
        "outputId": "7a6ee70b-3bb2-4c0a-9be1-569f24733807"
      },
      "execution_count": 94,
      "outputs": [
        {
          "output_type": "stream",
          "name": "stdout",
          "text": [
            "(1452, 18) (162, 18) (404, 18) (1452,) (162,) (404,)\n"
          ]
        }
      ]
    },
    {
      "cell_type": "code",
      "source": [
        "from sklearn.ensemble import RandomForestClassifier\n",
        "from sklearn.model_selection import cross_val_score\n",
        "rfc_scores = []\n",
        "for k in range(1,21):\n",
        "    randomforest_classifier= RandomForestClassifier(n_estimators=k,random_state=0)\n",
        "    score=cross_val_score(randomforest_classifier,X,y,cv=10)\n",
        "    rfc_scores.append(score.mean())\n",
        "plt.figure(figsize =(20,7))\n",
        "plt.plot([k for k in range(1, 21)], rfc_scores, color = 'red')\n",
        "for i in range(1,21):\n",
        "    plt.text(i, rfc_scores[i-1], (i, round(rfc_scores[i-1],3)))\n",
        "plt.xticks([i for i in range(1, 21)])\n",
        "plt.xlabel('Number of Estimators (K)')\n",
        "plt.ylabel('Scores')\n",
        "plt.title('Random Forest Classifier scores for different K values')"
      ],
      "metadata": {
        "colab": {
          "base_uri": "https://localhost:8080/",
          "height": 658
        },
        "id": "kpsojqiWD6JM",
        "outputId": "669445ee-dedf-4294-a876-dc40585daeb3"
      },
      "execution_count": 92,
      "outputs": [
        {
          "output_type": "execute_result",
          "data": {
            "text/plain": [
              "Text(0.5, 1.0, 'Random Forest Classifier scores for different K values')"
            ]
          },
          "metadata": {},
          "execution_count": 92
        },
        {
          "output_type": "display_data",
          "data": {
            "text/plain": [
              "<Figure size 2000x700 with 1 Axes>"
            ],
            "image/png": "[encoded data removed]"
          },
          "metadata": {}
        }
      ]
    },
    {
      "cell_type": "markdown",
      "source": [
        "**Conclusion**"
      ],
      "metadata": {
        "id": "d5VSshf6WUxm"
      }
    },
    {
      "cell_type": "code",
      "source": [
        "X = df.drop('TOTAL_VOTERS', axis=1)\n",
        "y = df['PARTY']\n",
        "\n",
        "# Split the dataset into training and testing sets\n",
        "X_train, X_test, y_train, y_test = train_test_split(X, y, test_size=0.2, random_state=42)\n",
        "\n",
        "# Initialize the RandomForestClassifier\n",
        "classifier = RandomForestClassifier(n_estimators=100, random_state=42)\n",
        "\n",
        "# Feature selection using RFE\n",
        "rfe = RFE(classifier, n_features_to_select=5)\n",
        "X_train_rfe = rfe.fit_transform(X_train, y_train)\n",
        "\n",
        "# Fit the model with selected features\n",
        "classifier.fit(X_train_rfe, y_train)\n",
        "\n",
        "# Transform the test set with selected features\n",
        "X_test_rfe = rfe.transform(X_test)\n",
        "\n",
        "# Make predictions on the test set\n",
        "y_pred = classifier.predict(X_test_rfe)\n",
        "\n",
        "# Evaluate the model\n",
        "accuracy_rfe = accuracy_score(y_test, y_pred)\n",
        "report_rfe = classification_report(y_test, y_pred)\n",
        "\n",
        "# Print the results\n",
        "print(\"Conclusion:\")\n",
        "print(\"1. Feature Selection using Recursive Feature Elimination (RFE) with RandomForestClassifier was applied.\")\n",
        "print(\"2. Selected Features:\", list(X.columns[rfe.support_]))\n",
        "print(f\"3. Model Accuracy with Selected Features: {accuracy_rfe:.4f}\")\n",
        "print(\"4. Classification Report:\\n\", report_rfe)"
      ],
      "metadata": {
        "colab": {
          "base_uri": "https://localhost:8080/"
        },
        "id": "eJOS-dg1Rwp5",
        "outputId": "b3ae7c07-0b7e-4b02-846f-f03e16dd0708"
      },
      "execution_count": 99,
      "outputs": [
        {
          "output_type": "stream",
          "name": "stdout",
          "text": [
            "Conclusion:\n",
            "1. Feature Selection using Recursive Feature Elimination (RFE) with RandomForestClassifier was applied.\n",
            "2. Selected Features: ['STATE', 'PARTY', 'SYMBOL', 'winning_seats_by_party', 'education_by_party']\n",
            "3. Model Accuracy with Selected Features: 0.9629\n",
            "4. Classification Report:\n",
            "               precision    recall  f1-score   support\n",
            "\n",
            "           0       1.00      1.00      1.00         1\n",
            "           1       0.83      1.00      0.91         5\n",
            "           2       0.00      0.00      0.00         1\n",
            "           3       0.00      0.00      0.00         1\n",
            "           4       1.00      1.00      1.00         1\n",
            "           6       0.00      0.00      0.00         0\n",
            "           8       0.83      1.00      0.91         5\n",
            "           9       1.00      1.00      1.00         1\n",
            "          13       1.00      1.00      1.00         9\n",
            "          14       1.00      1.00      1.00         2\n",
            "          15       0.00      0.00      0.00         1\n",
            "          19       1.00      1.00      1.00         2\n",
            "          23       1.00      1.00      1.00         2\n",
            "          24       1.00      1.00      1.00         4\n",
            "          26       1.00      1.00      1.00        90\n",
            "          29       1.00      1.00      1.00         1\n",
            "          30       1.00      1.00      1.00         1\n",
            "          35       1.00      1.00      1.00        29\n",
            "          36       1.00      1.00      1.00         1\n",
            "          38       1.00      1.00      1.00        12\n",
            "          39       1.00      1.00      1.00         1\n",
            "          41       1.00      1.00      1.00         1\n",
            "          42       1.00      1.00      1.00         7\n",
            "          44       1.00      1.00      1.00         2\n",
            "          45       1.00      1.00      1.00         1\n",
            "          46       1.00      1.00      1.00       101\n",
            "          47       1.00      1.00      1.00        29\n",
            "          48       1.00      1.00      1.00         1\n",
            "          50       1.00      1.00      1.00         1\n",
            "          51       0.00      0.00      0.00         0\n",
            "          52       0.00      0.00      0.00         1\n",
            "          53       1.00      1.00      1.00         3\n",
            "          54       1.00      1.00      1.00         2\n",
            "          55       0.00      0.00      0.00         2\n",
            "          61       0.00      0.00      0.00         0\n",
            "          62       1.00      1.00      1.00         1\n",
            "          63       1.00      1.00      1.00         3\n",
            "          66       1.00      1.00      1.00         5\n",
            "          67       0.00      0.00      0.00         0\n",
            "          68       0.00      0.00      0.00         1\n",
            "          69       0.00      0.00      0.00         0\n",
            "          70       1.00      1.00      1.00         2\n",
            "          71       0.00      0.00      0.00         0\n",
            "          72       0.00      0.00      0.00         1\n",
            "          74       1.00      1.00      1.00         8\n",
            "          77       0.00      0.00      0.00         1\n",
            "          78       1.00      1.00      1.00         7\n",
            "          81       1.00      1.00      1.00         1\n",
            "          83       1.00      1.00      1.00         5\n",
            "          84       0.00      0.00      0.00         1\n",
            "          86       1.00      1.00      1.00         1\n",
            "          92       1.00      1.00      1.00         1\n",
            "          93       0.00      0.00      0.00         1\n",
            "          94       1.00      1.00      1.00         4\n",
            "          95       1.00      1.00      1.00         2\n",
            "          96       0.00      0.00      0.00         0\n",
            "          99       1.00      1.00      1.00         1\n",
            "         103       1.00      1.00      1.00         1\n",
            "         105       1.00      1.00      1.00         3\n",
            "         106       0.00      0.00      0.00         1\n",
            "         107       1.00      1.00      1.00         1\n",
            "         108       1.00      1.00      1.00         5\n",
            "         109       0.00      0.00      0.00         0\n",
            "         110       0.00      0.00      0.00         1\n",
            "         111       1.00      1.00      1.00         5\n",
            "         112       0.00      0.00      0.00         0\n",
            "         113       1.00      1.00      1.00         2\n",
            "         116       1.00      1.00      1.00         4\n",
            "         117       0.00      0.00      0.00         0\n",
            "         118       0.00      0.00      0.00         1\n",
            "         119       1.00      1.00      1.00         1\n",
            "         122       1.00      1.00      1.00         4\n",
            "         125       0.00      0.00      0.00         1\n",
            "         126       1.00      1.00      1.00         1\n",
            "         130       1.00      1.00      1.00         6\n",
            "\n",
            "    accuracy                           0.96       404\n",
            "   macro avg       0.68      0.68      0.68       404\n",
            "weighted avg       0.96      0.96      0.96       404\n",
            "\n"
          ]
        }
      ]
    }
  ]
}